{
 "cells": [
  {
   "cell_type": "code",
   "execution_count": 1,
   "id": "f56fc7e0",
   "metadata": {},
   "outputs": [],
   "source": [
    "student_data = {'id1':\n",
    "                    {'name': 'Sara',\n",
    "                     'age': 28,\n",
    "                     'salary': 2000,\n",
    "                     \"hope\":9\n",
    "                     },\n",
    "                'id2':\n",
    "                    {'name': 'Sara',\n",
    "                     'age': 18,\n",
    "                     'salary': 1000\n",
    "                     },\n",
    "                \"a\": \"A\",\n",
    "                'id3':\n",
    "                    {'name': 'Omid',\n",
    "                     \"age\": 20,\n",
    "                     'salary': 1000,\n",
    "                     \"a\":\"gogolo\"\n",
    "                     },\n",
    "                'id4': dict(name=\"Amir\", age=28, salary=2000,last_name=\"lbnany\"),\n",
    "                \"last_name\": \"Mohammadi\",\n",
    "                \"poem\":8\n",
    "                }"
   ]
  },
  {
   "cell_type": "markdown",
   "id": "0ae07dbe",
   "metadata": {},
   "source": [
    "### without  defaultdict "
   ]
  },
  {
   "cell_type": "code",
   "execution_count": 2,
   "id": "e428d803",
   "metadata": {},
   "outputs": [
    {
     "data": {
      "text/plain": [
       "{'name_0': 'Sara',\n",
       " 'age_0': 28,\n",
       " 'salary_0': 2000,\n",
       " 'hope': 9,\n",
       " 'name_1': 'Sara',\n",
       " 'age_1': 18,\n",
       " 'salary_1': 1000,\n",
       " 'a_0': 'A',\n",
       " 'name_2': 'Omid',\n",
       " 'age_2': 20,\n",
       " 'salary_2': 1000,\n",
       " 'a_1': 'gogolo',\n",
       " 'name_3': 'Amir',\n",
       " 'age_3': 28,\n",
       " 'salary_3': 2000,\n",
       " 'last_name_0': 'lbnany',\n",
       " 'last_name_1': 'Mohammadi',\n",
       " 'poem': 8}"
      ]
     },
     "execution_count": 2,
     "metadata": {},
     "output_type": "execute_result"
    }
   ],
   "source": [
    "flat = dict()\n",
    "key_inner_list = []\n",
    "val_inner_list = []\n",
    "key =[]\n",
    "\n",
    "# flat whole dict to a flat dict\n",
    "for outer_key, outer_val in student_data.items():\n",
    "    if isinstance(outer_val,dict):\n",
    "        for i in outer_val.keys():\n",
    "            key_inner_list.append(i)\n",
    "        for i in outer_val.values():\n",
    "            val_inner_list.append(i)            \n",
    "    else:\n",
    "        key_inner_list.append(outer_key)\n",
    "        val_inner_list.append(outer_val)\n",
    "#numberd keys\n",
    "uniqe_key_inner_list = list(set(key_inner_list))\n",
    "for key in uniqe_key_inner_list:\n",
    "    key_index = [index for index in range(len(key_inner_list)) if key_inner_list[index]==key]\n",
    "    if len(key_index) >1:\n",
    "        for en,index_ in enumerate(key_index):\n",
    "            key_inner_list[index_] = key+\"_\"+str(en)\n",
    "\n",
    "# combine key and vals\n",
    "dict(zip(key_inner_list,val_inner_list))"
   ]
  },
  {
   "cell_type": "code",
   "execution_count": 3,
   "id": "472b66bf",
   "metadata": {
    "scrolled": true
   },
   "outputs": [
    {
     "data": {
      "text/plain": [
       "{'a_0': 'A',\n",
       " 'a_1': 'gogolo',\n",
       " 'salary_0': 2000,\n",
       " 'salary_1': 1000,\n",
       " 'salary_2': 1000,\n",
       " 'salary_3': 2000,\n",
       " 'hope': 2000,\n",
       " 'name_0': 'Sara',\n",
       " 'name_1': 'Sara',\n",
       " 'name_2': 'Omid',\n",
       " 'name_3': 'Amir',\n",
       " 'poem': 'Amir',\n",
       " 'age_0': 28,\n",
       " 'age_1': 18,\n",
       " 'age_2': 20,\n",
       " 'age_3': 28,\n",
       " 'last_name_0': 'lbnany',\n",
       " 'last_name_1': 'Mohammadi'}"
      ]
     },
     "execution_count": 3,
     "metadata": {},
     "output_type": "execute_result"
    }
   ],
   "source": [
    "flat = dict()\n",
    "key_inner_list = []\n",
    "val_inner_list = []\n",
    "key =[]\n",
    "\n",
    "# flat whole dict to a flat dict\n",
    "for outer_key, outer_val in student_data.items():\n",
    "    if isinstance(outer_val,dict):\n",
    "        for i in outer_val.keys():\n",
    "            key_inner_list.append(i)\n",
    "        for i in outer_val.values():\n",
    "            val_inner_list.append(i)            \n",
    "    else:\n",
    "        key_inner_list.append(outer_key)\n",
    "        val_inner_list.append(outer_val)\n",
    "\n",
    "# sperate every key by list of val.-->{'a': ['A', 'gogolo'], 'last_name': ['Mohammadi'], 'name': ['Sara', 'Sara', 'Omid', 'Amir'], 'salary': [2000, 1000, 1000, 2000], 'age': [28, 18, 20, 28]}\n",
    "\n",
    "l=[]\n",
    "uniqe_key_inner_list = list(set(key_inner_list))\n",
    "main=dict()\n",
    "for uniq_key in uniqe_key_inner_list:\n",
    "    lis=[]\n",
    "    for x,y in zip(key_inner_list,val_inner_list):\n",
    "        if x==uniq_key:\n",
    "            lis.append(y)\n",
    "        main[uniq_key]=lis\n",
    "#numberd\n",
    "for key,val in main.items():\n",
    "    if len(val) == 1:\n",
    "        flat[key] = item \n",
    "    else:\n",
    "        for en,item in enumerate(val):\n",
    "            new_key = key+\"_\"+str(en)\n",
    "            flat[new_key] = item\n",
    "flat"
   ]
  },
  {
   "cell_type": "markdown",
   "id": "6418a898",
   "metadata": {},
   "source": [
    "### best way "
   ]
  },
  {
   "cell_type": "code",
   "execution_count": 4,
   "id": "b458d600",
   "metadata": {},
   "outputs": [
    {
     "name": "stdout",
     "output_type": "stream",
     "text": [
      "defaultdict(<class 'list'>, {'name': ['Sara', 'Sara', 'Omid', 'Amir'], 'age': [28, 18, 20, 28], 'salary': [2000, 1000, 1000, 2000], 'hope': [9], 'a': ['A', 'gogolo'], 'last_name': ['lbnany', 'Mohammadi'], 'poem': [8]})\n"
     ]
    }
   ],
   "source": [
    "from collections import defaultdict\n",
    "flat = dict()\n",
    "first_occurance_dict = defaultdict(list)\n",
    "for outer_key, outer_val in student_data.items():\n",
    "    if isinstance(outer_val, dict):\n",
    "        for inner_key, inner_val in outer_val.items():\n",
    "            first_occurance_dict[inner_key].append(inner_val)\n",
    "    else:\n",
    "        first_occurance_dict[outer_key].append(outer_val)\n",
    "\n",
    "for key, val_list in first_occurance_dict.items():\n",
    "    if len(val_list) == 1:\n",
    "        flat[key] = val_list[0]\n",
    "    else:\n",
    "        for i, val in enumerate(val_list):\n",
    "            key_name = key + \"_\" + str(i)\n",
    "            flat[key_name] = val\n",
    "            \n",
    "print(first_occurance_dict)"
   ]
  },
  {
   "cell_type": "markdown",
   "id": "5ea15f90",
   "metadata": {},
   "source": [
    "### defaultdict "
   ]
  },
  {
   "cell_type": "code",
   "execution_count": 5,
   "id": "96c75d2e",
   "metadata": {},
   "outputs": [
    {
     "name": "stdout",
     "output_type": "stream",
     "text": [
      "Dictionary with values as list:\n",
      "defaultdict(<class 'list'>, {'lop': [0, 1, 2, 3, 4]})\n"
     ]
    }
   ],
   "source": [
    "  \n",
    "from collections import defaultdict\n",
    "  \n",
    "  \n",
    "# Defining a dict\n",
    "d = defaultdict(list)\n",
    "  \n",
    "for i in range(5):\n",
    "    d[\"lop\"].append(i)\n",
    "      \n",
    "print(\"Dictionary with values as list:\")\n",
    "print(d)"
   ]
  },
  {
   "cell_type": "code",
   "execution_count": 6,
   "id": "0be0a185",
   "metadata": {},
   "outputs": [
    {
     "name": "stdout",
     "output_type": "stream",
     "text": [
      "defaultdict(<class 'int'>, {1: 2, 2: 3, 3: 1, 4: 2})\n"
     ]
    }
   ],
   "source": [
    "# Python program to demonstrate\n",
    "# defaultdict\n",
    "   \n",
    "   \n",
    "from collections import defaultdict\n",
    "   \n",
    "   \n",
    "# Defining the dict\n",
    "d = defaultdict(int)\n",
    "   \n",
    "L = [1, 2, 3, 4, 2, 4, 1, 2]\n",
    "   \n",
    "# Iterate through the list\n",
    "# for keeping the count\n",
    "for i in L:\n",
    "    \n",
    "    #الگوریتم شمارش   \n",
    "    # The default value is 0\n",
    "    # so there is no need to \n",
    "    # enter the key first\n",
    "    d[i] += 1\n",
    "       \n",
    "print(d)"
   ]
  },
  {
   "cell_type": "code",
   "execution_count": 7,
   "id": "d2551a35",
   "metadata": {},
   "outputs": [
    {
     "ename": "KeyError",
     "evalue": "'l'",
     "output_type": "error",
     "traceback": [
      "\u001b[1;31m---------------------------------------------------------------------------\u001b[0m",
      "\u001b[1;31mKeyError\u001b[0m                                  Traceback (most recent call last)",
      "Input \u001b[1;32mIn [7]\u001b[0m, in \u001b[0;36m<cell line: 3>\u001b[1;34m()\u001b[0m\n\u001b[0;32m      1\u001b[0m \u001b[38;5;28;01mfrom\u001b[39;00m \u001b[38;5;21;01mcollections\u001b[39;00m \u001b[38;5;28;01mimport\u001b[39;00m defaultdict\n\u001b[0;32m      2\u001b[0m d \u001b[38;5;241m=\u001b[39m defaultdict()\n\u001b[1;32m----> 3\u001b[0m \u001b[43md\u001b[49m\u001b[43m[\u001b[49m\u001b[38;5;124;43m\"\u001b[39;49m\u001b[38;5;124;43ml\u001b[39;49m\u001b[38;5;124;43m\"\u001b[39;49m\u001b[43m]\u001b[49m\u001b[38;5;241m.\u001b[39mappend(\u001b[38;5;241m9\u001b[39m)\n\u001b[0;32m      4\u001b[0m d\n",
      "\u001b[1;31mKeyError\u001b[0m: 'l'"
     ]
    }
   ],
   "source": [
    "from collections import defaultdict\n",
    "d = defaultdict()\n",
    "d[\"l\"].append(9)\n",
    "d"
   ]
  },
  {
   "cell_type": "code",
   "execution_count": 16,
   "id": "65214485",
   "metadata": {},
   "outputs": [
    {
     "data": {
      "text/plain": [
       "[1, 3, 3, 4]"
      ]
     },
     "execution_count": 16,
     "metadata": {},
     "output_type": "execute_result"
    }
   ],
   "source": [
    "a = [1,2,3,4]\n",
    "a[1] += 1\n",
    "a\n",
    "    "
   ]
  },
  {
   "cell_type": "code",
   "execution_count": 22,
   "id": "65067c55",
   "metadata": {},
   "outputs": [
    {
     "data": {
      "text/plain": [
       "{'first': 8, 'second': 2}"
      ]
     },
     "execution_count": 22,
     "metadata": {},
     "output_type": "execute_result"
    }
   ],
   "source": [
    "a = {\"first\":1,\"second\":2}\n",
    "a[\"first\"] += 7\n",
    "a"
   ]
  },
  {
   "cell_type": "code",
   "execution_count": null,
   "id": "0ef9e091",
   "metadata": {},
   "outputs": [],
   "source": []
  }
 ],
 "metadata": {
  "kernelspec": {
   "display_name": "Python 3 (ipykernel)",
   "language": "python",
   "name": "python3"
  },
  "language_info": {
   "codemirror_mode": {
    "name": "ipython",
    "version": 3
   },
   "file_extension": ".py",
   "mimetype": "text/x-python",
   "name": "python",
   "nbconvert_exporter": "python",
   "pygments_lexer": "ipython3",
   "version": "3.9.12"
  }
 },
 "nbformat": 4,
 "nbformat_minor": 5
}
