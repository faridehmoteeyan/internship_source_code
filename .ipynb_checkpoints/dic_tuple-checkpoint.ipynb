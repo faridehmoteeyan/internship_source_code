{
 "cells": [
  {
   "cell_type": "markdown",
   "id": "8d485d69",
   "metadata": {},
   "source": [
    "### tuple"
   ]
  },
  {
   "cell_type": "markdown",
   "id": "bcee278f",
   "metadata": {},
   "source": [
    "#### things witch seperated with , \n",
    "#### tehey are  immulated listlist "
   ]
  },
  {
   "cell_type": "code",
   "execution_count": 2,
   "id": "b3bfd17d",
   "metadata": {},
   "outputs": [
    {
     "name": "stdout",
     "output_type": "stream",
     "text": [
      "('sara',)\n"
     ]
    },
    {
     "data": {
      "text/plain": [
       "tuple"
      ]
     },
     "execution_count": 2,
     "metadata": {},
     "output_type": "execute_result"
    }
   ],
   "source": [
    "a=\"sara\",\n",
    "print(a)\n",
    "type(a)"
   ]
  },
  {
   "cell_type": "code",
   "execution_count": 3,
   "id": "c9c9c423",
   "metadata": {},
   "outputs": [
    {
     "data": {
      "text/plain": [
       "'i'"
      ]
     },
     "execution_count": 3,
     "metadata": {},
     "output_type": "execute_result"
    }
   ],
   "source": [
    "tup=(\"ds,\",[4,\"pilio\"],(8,4,4),5)\n",
    "tup[1][1][3]"
   ]
  },
  {
   "cell_type": "code",
   "execution_count": 4,
   "id": "6c0ceb6d",
   "metadata": {},
   "outputs": [
    {
     "data": {
      "text/plain": [
       "('ds,', (8, 4, 4))"
      ]
     },
     "execution_count": 4,
     "metadata": {},
     "output_type": "execute_result"
    }
   ],
   "source": [
    "tup[::2]"
   ]
  },
  {
   "cell_type": "code",
   "execution_count": 7,
   "id": "ecdfcf5d",
   "metadata": {},
   "outputs": [
    {
     "data": {
      "text/plain": [
       "1"
      ]
     },
     "execution_count": 7,
     "metadata": {},
     "output_type": "execute_result"
    }
   ],
   "source": [
    "tup.count(5)"
   ]
  },
  {
   "cell_type": "code",
   "execution_count": 8,
   "id": "65a937b3",
   "metadata": {},
   "outputs": [
    {
     "data": {
      "text/plain": [
       "3"
      ]
     },
     "execution_count": 8,
     "metadata": {},
     "output_type": "execute_result"
    }
   ],
   "source": [
    "tup.index(5)"
   ]
  },
  {
   "cell_type": "markdown",
   "id": "ed754b22",
   "metadata": {},
   "source": [
    "### "
   ]
  },
  {
   "cell_type": "code",
   "execution_count": null,
   "id": "d08ba53d",
   "metadata": {},
   "outputs": [],
   "source": [
    "## set\n",
    "### doesnt show similar elements\n",
    "### doesnt have 'tartib'"
   ]
  },
  {
   "cell_type": "code",
   "execution_count": 9,
   "id": "8a49064e",
   "metadata": {},
   "outputs": [
    {
     "name": "stdout",
     "output_type": "stream",
     "text": [
      "[1, 4]\n"
     ]
    }
   ],
   "source": [
    "a=[3,4]\n",
    "a[0]=1\n",
    "print(a)\n",
    "\n",
    "a={3,4,1,}\n"
   ]
  },
  {
   "cell_type": "code",
   "execution_count": 15,
   "id": "f65202f6",
   "metadata": {},
   "outputs": [
    {
     "name": "stdout",
     "output_type": "stream",
     "text": [
      "True\n",
      "{1, 2, (1,), 'salar'}\n",
      "{1, 2, (1,), 'sima', 'salar'}\n",
      "{1}\n",
      "{2, 'sima', (1,), 'salar'}\n",
      "{(1,), 2, 'salar'}\n",
      "False\n",
      "4\n"
     ]
    }
   ],
   "source": [
    "set_ = {1,2,1,\"salar\", (1,)}\n",
    "sat_1={\"sima\",1}\n",
    "\n",
    "\n",
    "print(\"salar\" in set_)\n",
    "print(set_)\n",
    "print(set_ | sat_1)\n",
    "print(set_ & sat_1)\n",
    "print(set_ ^ sat_1)   # in a or b , but not in both\n",
    "print(set_ - sat_1)   # uniq item in first\n",
    "print(set_ > sat_1)   # is a incloud every item in b?\n",
    "print(len(set_))"
   ]
  },
  {
   "cell_type": "markdown",
   "id": "084bdc5d",
   "metadata": {},
   "source": [
    "### dictionary"
   ]
  },
  {
   "cell_type": "code",
   "execution_count": 17,
   "id": "2844ef0b",
   "metadata": {},
   "outputs": [],
   "source": [
    "countries={\"iran\":\"tehran\" ,\n",
    "           \"italy\":\"rome\",\n",
    "          \"Fiji\" :\"Suva\"}"
   ]
  },
  {
   "cell_type": "code",
   "execution_count": 20,
   "id": "7be96571",
   "metadata": {},
   "outputs": [
    {
     "data": {
      "text/plain": [
       "'tehran'"
      ]
     },
     "execution_count": 20,
     "metadata": {},
     "output_type": "execute_result"
    }
   ],
   "source": [
    "countries[\"iran\"\n",
    "        ]"
   ]
  },
  {
   "cell_type": "markdown",
   "id": "00018589",
   "metadata": {},
   "source": [
    "### add"
   ]
  },
  {
   "cell_type": "code",
   "execution_count": 22,
   "id": "393afdc7",
   "metadata": {},
   "outputs": [
    {
     "data": {
      "text/plain": [
       "{'iran': 'tehran', 'italy': 'rome', 'Fiji': 'Suva', 'spain': 'madrid'}"
      ]
     },
     "execution_count": 22,
     "metadata": {},
     "output_type": "execute_result"
    }
   ],
   "source": [
    "countries[\"spain\"]= \"madrid\"\n",
    "countries"
   ]
  },
  {
   "cell_type": "code",
   "execution_count": 24,
   "id": "89a990a4",
   "metadata": {},
   "outputs": [
    {
     "data": {
      "text/plain": [
       "{'iran': 'tehran',\n",
       " 'italy': 'rome',\n",
       " 'Fiji': 'Suva',\n",
       " 'spain': 'madrid',\n",
       " 'Haiti': 'Port au Prince',\n",
       " 'japon': 'tokyo'}"
      ]
     },
     "execution_count": 24,
     "metadata": {},
     "output_type": "execute_result"
    }
   ],
   "source": [
    "### like extend in list,but it will remove repeated item\n",
    "\n",
    "new={\"Haiti\":\"Port au Prince\",\"japon\":\"tokyo\",\"Fiji\" :\"Suva\"}\n",
    "countries.update(new)\n",
    "countries"
   ]
  },
  {
   "cell_type": "code",
   "execution_count": 26,
   "id": "3d1bedcb",
   "metadata": {},
   "outputs": [
    {
     "name": "stdout",
     "output_type": "stream",
     "text": [
      "False False True\n"
     ]
    }
   ],
   "source": [
    "print(\"germany\" in countries,\n",
    "\"tokyo\"in countries,\n",
    "\"Fiji\"in countries)"
   ]
  },
  {
   "cell_type": "markdown",
   "id": "a502a74d",
   "metadata": {},
   "source": [
    "### acces to key , value , and both"
   ]
  },
  {
   "cell_type": "code",
   "execution_count": 27,
   "id": "3f7b2794",
   "metadata": {},
   "outputs": [
    {
     "data": {
      "text/plain": [
       "dict_keys(['iran', 'italy', 'Fiji', 'spain', 'Haiti', 'japon'])"
      ]
     },
     "execution_count": 27,
     "metadata": {},
     "output_type": "execute_result"
    }
   ],
   "source": [
    "countries.keys()"
   ]
  },
  {
   "cell_type": "code",
   "execution_count": 29,
   "id": "2ea387e6",
   "metadata": {},
   "outputs": [
    {
     "data": {
      "text/plain": [
       "dict_values(['tehran', 'rome', 'Suva', 'madrid', 'Port au Prince', 'tokyo'])"
      ]
     },
     "execution_count": 29,
     "metadata": {},
     "output_type": "execute_result"
    }
   ],
   "source": [
    "countries.values()"
   ]
  },
  {
   "cell_type": "code",
   "execution_count": 31,
   "id": "d9472f6d",
   "metadata": {},
   "outputs": [
    {
     "data": {
      "text/plain": [
       "dict_items([('iran', 'tehran'), ('italy', 'rome'), ('Fiji', 'Suva'), ('spain', 'madrid'), ('Haiti', 'Port au Prince'), ('japon', 'tokyo')])"
      ]
     },
     "execution_count": 31,
     "metadata": {},
     "output_type": "execute_result"
    }
   ],
   "source": [
    "countries.items()"
   ]
  },
  {
   "cell_type": "code",
   "execution_count": 32,
   "id": "c086b79f",
   "metadata": {},
   "outputs": [
    {
     "data": {
      "text/plain": [
       "False"
      ]
     },
     "execution_count": 32,
     "metadata": {},
     "output_type": "execute_result"
    }
   ],
   "source": [
    "\"macawo\" in countries"
   ]
  },
  {
   "cell_type": "code",
   "execution_count": 34,
   "id": "7543afb5",
   "metadata": {},
   "outputs": [
    {
     "data": {
      "text/plain": [
       "True"
      ]
     },
     "execution_count": 34,
     "metadata": {},
     "output_type": "execute_result"
    }
   ],
   "source": [
    "\"Fiji\" in countries.keys()"
   ]
  },
  {
   "cell_type": "markdown",
   "id": "a9127973",
   "metadata": {},
   "source": [
    "### delite"
   ]
  },
  {
   "cell_type": "code",
   "execution_count": 35,
   "id": "62bc380c",
   "metadata": {},
   "outputs": [
    {
     "data": {
      "text/plain": [
       "{'iran': 'tehran',\n",
       " 'italy': 'rome',\n",
       " 'Fiji': 'Suva',\n",
       " 'spain': 'madrid',\n",
       " 'japon': 'tokyo'}"
      ]
     },
     "execution_count": 35,
     "metadata": {},
     "output_type": "execute_result"
    }
   ],
   "source": [
    "del countries[\"Haiti\"]\n",
    "countries"
   ]
  },
  {
   "cell_type": "code",
   "execution_count": null,
   "id": "0f5c8155",
   "metadata": {},
   "outputs": [],
   "source": [
    "### empty dic"
   ]
  },
  {
   "cell_type": "code",
   "execution_count": null,
   "id": "55cf74a4",
   "metadata": {},
   "outputs": [],
   "source": [
    "empty_dic = dict()\n",
    "empty_dic_1={}\n",
    "empty=set()"
   ]
  },
  {
   "cell_type": "code",
   "execution_count": null,
   "id": "103122e4",
   "metadata": {},
   "outputs": [],
   "source": []
  }
 ],
 "metadata": {
  "kernelspec": {
   "display_name": "Python 3 (ipykernel)",
   "language": "python",
   "name": "python3"
  },
  "language_info": {
   "codemirror_mode": {
    "name": "ipython",
    "version": 3
   },
   "file_extension": ".py",
   "mimetype": "text/x-python",
   "name": "python",
   "nbconvert_exporter": "python",
   "pygments_lexer": "ipython3",
   "version": "3.9.12"
  }
 },
 "nbformat": 4,
 "nbformat_minor": 5
}
