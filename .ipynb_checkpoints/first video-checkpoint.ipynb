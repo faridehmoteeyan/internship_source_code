{
 "cells": [
  {
   "cell_type": "markdown",
   "id": "5a890de7",
   "metadata": {},
   "source": [
    "# first video"
   ]
  },
  {
   "cell_type": "code",
   "execution_count": 5,
   "id": "49854a48",
   "metadata": {},
   "outputs": [
    {
     "name": "stdout",
     "output_type": "stream",
     "text": [
      "farideh\n"
     ]
    }
   ],
   "source": [
    "print(me)"
   ]
  },
  {
   "cell_type": "code",
   "execution_count": 3,
   "id": "d490e72f",
   "metadata": {},
   "outputs": [],
   "source": [
    "me = \"farideh\"\n"
   ]
  },
  {
   "cell_type": "code",
   "execution_count": 4,
   "id": "b79ca6d0",
   "metadata": {},
   "outputs": [
    {
     "name": "stdout",
     "output_type": "stream",
     "text": [
      "farideh\n"
     ]
    }
   ],
   "source": [
    "print(me)"
   ]
  },
  {
   "cell_type": "markdown",
   "id": "ad496aab",
   "metadata": {},
   "source": [
    "$\\sqrt{x}$"
   ]
  },
  {
   "cell_type": "markdown",
   "id": "f9956642",
   "metadata": {},
   "source": [
    "# second video"
   ]
  },
  {
   "cell_type": "markdown",
   "id": "cb45ac06",
   "metadata": {},
   "source": [
    "### replacing a and b \n"
   ]
  },
  {
   "cell_type": "code",
   "execution_count": 6,
   "id": "3aafc618",
   "metadata": {},
   "outputs": [
    {
     "name": "stdout",
     "output_type": "stream",
     "text": [
      "10 30\n",
      "30 10\n"
     ]
    }
   ],
   "source": [
    "a=10\n",
    "b=30\n",
    "print (a,b)\n",
    "a,b = b,a\n",
    "print(a,b)"
   ]
  },
  {
   "cell_type": "markdown",
   "id": "5443ad63",
   "metadata": {},
   "source": [
    "### delete a variable\n",
    ".use kernnel\n",
    "<br>\n",
    ".use del"
   ]
  },
  {
   "cell_type": "code",
   "execution_count": 7,
   "id": "0135d8eb",
   "metadata": {},
   "outputs": [
    {
     "ename": "NameError",
     "evalue": "name 'a' is not defined",
     "output_type": "error",
     "traceback": [
      "\u001b[1;31m---------------------------------------------------------------------------\u001b[0m",
      "\u001b[1;31mNameError\u001b[0m                                 Traceback (most recent call last)",
      "Input \u001b[1;32mIn [7]\u001b[0m, in \u001b[0;36m<cell line: 2>\u001b[1;34m()\u001b[0m\n\u001b[0;32m      1\u001b[0m \u001b[38;5;28;01mdel\u001b[39;00m a\n\u001b[1;32m----> 2\u001b[0m \u001b[38;5;28mprint\u001b[39m(\u001b[43ma\u001b[49m)\n",
      "\u001b[1;31mNameError\u001b[0m: name 'a' is not defined"
     ]
    }
   ],
   "source": [
    "del a\n",
    "print(a)"
   ]
  },
  {
   "cell_type": "markdown",
   "id": "1b7fcd1a",
   "metadata": {},
   "source": [
    "### complete var automaicly\n",
    "use tab "
   ]
  },
  {
   "cell_type": "code",
   "execution_count": null,
   "id": "895ef5aa",
   "metadata": {},
   "outputs": [],
   "source": [
    "zambi=2\n",
    "print(zambi)\n",
    "zambi ="
   ]
  },
  {
   "cell_type": "markdown",
   "id": "2d43be84",
   "metadata": {},
   "source": [
    "# third video (string)"
   ]
  },
  {
   "cell_type": "markdown",
   "id": "cec881af",
   "metadata": {},
   "source": []
  },
  {
   "cell_type": "code",
   "execution_count": 22,
   "id": "84e9f078",
   "metadata": {
    "scrolled": true
   },
   "outputs": [
    {
     "data": {
      "text/plain": [
       "'r'"
      ]
     },
     "execution_count": 22,
     "metadata": {},
     "output_type": "execute_result"
    }
   ],
   "source": [
    "q=\"farideh moteeyan \"\n",
    "char_of_r = q[2]\n",
    "char_of_r"
   ]
  },
  {
   "cell_type": "code",
   "execution_count": 18,
   "id": "651cc95b",
   "metadata": {
    "scrolled": true
   },
   "outputs": [
    {
     "data": {
      "text/plain": [
       "'farideh'"
      ]
     },
     "execution_count": 18,
     "metadata": {},
     "output_type": "execute_result"
    }
   ],
   "source": [
    "q[0:7]"
   ]
  },
  {
   "cell_type": "code",
   "execution_count": 19,
   "id": "65b0ef04",
   "metadata": {},
   "outputs": [
    {
     "data": {
      "text/plain": [
       "'farideh'"
      ]
     },
     "execution_count": 19,
     "metadata": {},
     "output_type": "execute_result"
    }
   ],
   "source": [
    "q[:7]"
   ]
  },
  {
   "cell_type": "code",
   "execution_count": 23,
   "id": "95f683a0",
   "metadata": {},
   "outputs": [
    {
     "data": {
      "text/plain": [
       "'moteeyan '"
      ]
     },
     "execution_count": 23,
     "metadata": {},
     "output_type": "execute_result"
    }
   ],
   "source": [
    "q[8:]"
   ]
  },
  {
   "cell_type": "code",
   "execution_count": null,
   "id": "853a4672",
   "metadata": {},
   "outputs": [],
   "source": []
  }
 ],
 "metadata": {
  "kernelspec": {
   "display_name": "Python 3 (ipykernel)",
   "language": "python",
   "name": "python3"
  },
  "language_info": {
   "codemirror_mode": {
    "name": "ipython",
    "version": 3
   },
   "file_extension": ".py",
   "mimetype": "text/x-python",
   "name": "python",
   "nbconvert_exporter": "python",
   "pygments_lexer": "ipython3",
   "version": "3.9.12"
  }
 },
 "nbformat": 4,
 "nbformat_minor": 5
}
