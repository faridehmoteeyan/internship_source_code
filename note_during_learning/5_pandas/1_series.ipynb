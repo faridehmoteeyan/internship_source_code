{
 "cells": [
  {
   "cell_type": "code",
   "execution_count": 2,
   "id": "3d18ac39",
   "metadata": {},
   "outputs": [],
   "source": [
    "import pandas as pd\n",
    "import numpy as np"
   ]
  },
  {
   "cell_type": "code",
   "execution_count": 3,
   "id": "fd1388a1",
   "metadata": {},
   "outputs": [
    {
     "data": {
      "text/plain": [
       "Java          100.0\n",
       "C              99.9\n",
       "C++            99.4\n",
       "Python         96.5\n",
       "C#             91.3\n",
       "R              84.8\n",
       "PHP            84.5\n",
       "JavaScript     83.0\n",
       "Ruby           76.2\n",
       "Matlab         72.4\n",
       "dtype: float64"
      ]
     },
     "execution_count": 3,
     "metadata": {},
     "output_type": "execute_result"
    }
   ],
   "source": [
    "# we can make a serby dicthionary or([],index=[])\n",
    "\n",
    "\n",
    "popularity_dict = {'Java': 100,'C': 99.9,'C++': 99.4,'Python': 96.5,'C#': 91.3,\n",
    "                     'R': 84.8,'PHP': 84.5, 'JavaScript': 83.0, 'Ruby': 76.2, 'Matlab': 72.4}\n",
    "pop2015 = pd.Series(popularity_dict)\n",
    "pop2015"
   ]
  },
  {
   "cell_type": "code",
   "execution_count": 4,
   "id": "59ad25d8",
   "metadata": {},
   "outputs": [
    {
     "data": {
      "text/plain": [
       "0     0\n",
       "1     2\n",
       "2     4\n",
       "3     9\n",
       "4    16\n",
       "Name: power, dtype: int64"
      ]
     },
     "execution_count": 4,
     "metadata": {},
     "output_type": "execute_result"
    }
   ],
   "source": [
    "s = pd.Series([0,2,4,9,16],name=\"power\")\n",
    "s"
   ]
  },
  {
   "cell_type": "code",
   "execution_count": 5,
   "id": "76c94e27",
   "metadata": {},
   "outputs": [
    {
     "data": {
      "text/plain": [
       "array([ 0,  2,  4,  9, 16], dtype=int64)"
      ]
     },
     "execution_count": 5,
     "metadata": {},
     "output_type": "execute_result"
    }
   ],
   "source": [
    "s.values"
   ]
  },
  {
   "cell_type": "code",
   "execution_count": 6,
   "id": "af6dc425",
   "metadata": {},
   "outputs": [
    {
     "data": {
      "text/plain": [
       "RangeIndex(start=0, stop=5, step=1)"
      ]
     },
     "execution_count": 6,
     "metadata": {},
     "output_type": "execute_result"
    }
   ],
   "source": [
    "s.index"
   ]
  },
  {
   "cell_type": "code",
   "execution_count": 7,
   "id": "b0298f9b",
   "metadata": {},
   "outputs": [
    {
     "data": {
      "text/plain": [
       "'power'"
      ]
     },
     "execution_count": 7,
     "metadata": {},
     "output_type": "execute_result"
    }
   ],
   "source": [
    "s.name"
   ]
  },
  {
   "cell_type": "code",
   "execution_count": 8,
   "id": "26aa1d9e",
   "metadata": {},
   "outputs": [
    {
     "data": {
      "text/plain": [
       "(4,\n",
       " 0    0\n",
       " 1    2\n",
       " 2    4\n",
       " 3    9\n",
       " Name: power, dtype: int64)"
      ]
     },
     "execution_count": 8,
     "metadata": {},
     "output_type": "execute_result"
    }
   ],
   "source": [
    "# slicing\n",
    "s[2], s[0:4]"
   ]
  },
  {
   "cell_type": "code",
   "execution_count": 9,
   "id": "4bb321d0",
   "metadata": {},
   "outputs": [
    {
     "data": {
      "text/plain": [
       "Java          100.0\n",
       "C              99.3\n",
       "C++            95.5\n",
       "Python         93.5\n",
       "C#             92.4\n",
       "PHP            84.8\n",
       "JavaScript     84.5\n",
       "Ruby           78.9\n",
       "R              74.3\n",
       "Matlab         72.8\n",
       "dtype: float64"
      ]
     },
     "execution_count": 9,
     "metadata": {},
     "output_type": "execute_result"
    }
   ],
   "source": [
    "pup2012 = pd.Series([100,99.3,95.5,93.5,92.4,84.8,84.5,78.9,74.3,72.8],index=['Java','C','C++','Python','C#','PHP','JavaScript','Ruby','R','Matlab'])\n",
    "pup2012"
   ]
  },
  {
   "cell_type": "code",
   "execution_count": 10,
   "id": "13391680",
   "metadata": {},
   "outputs": [
    {
     "data": {
      "text/plain": [
       "10"
      ]
     },
     "execution_count": 10,
     "metadata": {},
     "output_type": "execute_result"
    }
   ],
   "source": [
    "pup2012.count()"
   ]
  },
  {
   "cell_type": "code",
   "execution_count": 11,
   "id": "479f2f93",
   "metadata": {},
   "outputs": [
    {
     "data": {
      "text/plain": [
       "1"
      ]
     },
     "execution_count": 11,
     "metadata": {},
     "output_type": "execute_result"
    }
   ],
   "source": [
    "(pup2012[pup2012==100]).count()"
   ]
  },
  {
   "cell_type": "code",
   "execution_count": 12,
   "id": "56fde686",
   "metadata": {},
   "outputs": [
    {
     "data": {
      "text/plain": [
       "Java      100.0\n",
       "C          99.3\n",
       "C++        95.5\n",
       "Python     93.5\n",
       "C#         92.4\n",
       "dtype: float64"
      ]
     },
     "execution_count": 12,
     "metadata": {},
     "output_type": "execute_result"
    }
   ],
   "source": [
    "pup2012[0:5]"
   ]
  },
  {
   "cell_type": "code",
   "execution_count": 13,
   "id": "87478d52",
   "metadata": {},
   "outputs": [
    {
     "data": {
      "text/plain": [
       "100.0"
      ]
     },
     "execution_count": 13,
     "metadata": {},
     "output_type": "execute_result"
    }
   ],
   "source": [
    "pup2012[\"Java\"]"
   ]
  },
  {
   "cell_type": "code",
   "execution_count": 14,
   "id": "36e8e4da",
   "metadata": {},
   "outputs": [
    {
     "data": {
      "text/plain": [
       "Java    100.0\n",
       "C        99.3\n",
       "C++      95.5\n",
       "dtype: float64"
      ]
     },
     "execution_count": 14,
     "metadata": {},
     "output_type": "execute_result"
    }
   ],
   "source": [
    "pup2012[\"Java\":\"C++\"]# the end item is included"
   ]
  },
  {
   "cell_type": "code",
   "execution_count": 15,
   "id": "7d72ced9",
   "metadata": {},
   "outputs": [
    {
     "data": {
      "text/plain": [
       "(Java    100.0\n",
       " C        99.3\n",
       " C++      95.5\n",
       " dtype: float64,\n",
       " 93.5)"
      ]
     },
     "execution_count": 15,
     "metadata": {},
     "output_type": "execute_result"
    }
   ],
   "source": [
    "# here we don't get error but use this structure to avoid error in detaframes\n",
    "pup2012.iloc[:3],pup2012.iloc[3]"
   ]
  },
  {
   "cell_type": "code",
   "execution_count": 16,
   "id": "59e4df38",
   "metadata": {},
   "outputs": [
    {
     "data": {
      "text/plain": [
       "Java          100.0\n",
       "C              99.3\n",
       "C++            95.5\n",
       "Python         93.5\n",
       "C#             92.4\n",
       "PHP            84.8\n",
       "JavaScript     84.5\n",
       "Ruby           78.9\n",
       "R              74.3\n",
       "dtype: float64"
      ]
     },
     "execution_count": 16,
     "metadata": {},
     "output_type": "execute_result"
    }
   ],
   "source": [
    "pup2012.loc[:\"R\"]"
   ]
  },
  {
   "cell_type": "markdown",
   "id": "c940ca12",
   "metadata": {},
   "source": [
    "### advance indexing like boolean mask "
   ]
  },
  {
   "cell_type": "code",
   "execution_count": 17,
   "id": "9eeb186a",
   "metadata": {},
   "outputs": [
    {
     "data": {
      "text/plain": [
       "Java           True\n",
       "C              True\n",
       "C++            True\n",
       "Python         True\n",
       "C#             True\n",
       "PHP           False\n",
       "JavaScript    False\n",
       "Ruby          False\n",
       "R             False\n",
       "Matlab        False\n",
       "dtype: bool"
      ]
     },
     "execution_count": 17,
     "metadata": {},
     "output_type": "execute_result"
    }
   ],
   "source": [
    "pup2012>90"
   ]
  },
  {
   "cell_type": "code",
   "execution_count": 18,
   "id": "56ad1db8",
   "metadata": {},
   "outputs": [
    {
     "data": {
      "text/plain": [
       "Java      100.0\n",
       "C          99.3\n",
       "C++        95.5\n",
       "Python     93.5\n",
       "C#         92.4\n",
       "dtype: float64"
      ]
     },
     "execution_count": 18,
     "metadata": {},
     "output_type": "execute_result"
    }
   ],
   "source": [
    "pup2012[pup2012>90]"
   ]
  },
  {
   "cell_type": "code",
   "execution_count": 19,
   "id": "b1548357",
   "metadata": {},
   "outputs": [
    {
     "data": {
      "text/plain": [
       "Java          100.0\n",
       "C               0.0\n",
       "C++            95.5\n",
       "Python          9.0\n",
       "C#             92.4\n",
       "PHP             8.0\n",
       "JavaScript     84.5\n",
       "Ruby           78.9\n",
       "R              74.3\n",
       "Matlab         72.8\n",
       "dtype: float64"
      ]
     },
     "execution_count": 19,
     "metadata": {},
     "output_type": "execute_result"
    }
   ],
   "source": [
    "pup2012[[1,3,5]]=0,9,8\n",
    "pup2012"
   ]
  },
  {
   "cell_type": "code",
   "execution_count": null,
   "id": "23acf67c",
   "metadata": {},
   "outputs": [],
   "source": []
  },
  {
   "cell_type": "code",
   "execution_count": null,
   "id": "53058489",
   "metadata": {},
   "outputs": [],
   "source": []
  }
 ],
 "metadata": {
  "kernelspec": {
   "display_name": "Python 3 (ipykernel)",
   "language": "python",
   "name": "python3"
  },
  "language_info": {
   "codemirror_mode": {
    "name": "ipython",
    "version": 3
   },
   "file_extension": ".py",
   "mimetype": "text/x-python",
   "name": "python",
   "nbconvert_exporter": "python",
   "pygments_lexer": "ipython3",
   "version": "3.9.12"
  }
 },
 "nbformat": 4,
 "nbformat_minor": 5
}
