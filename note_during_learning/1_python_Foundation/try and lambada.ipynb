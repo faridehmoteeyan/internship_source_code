{
 "cells": [
  {
   "cell_type": "markdown",
   "id": "ecb1dac9",
   "metadata": {},
   "source": [
    "###  try_except-finally"
   ]
  },
  {
   "cell_type": "code",
   "execution_count": null,
   "id": "6c4c65fe",
   "metadata": {},
   "outputs": [],
   "source": [
    "#we use try to avoid cashing the program\n",
    "10/0\n"
   ]
  },
  {
   "cell_type": "code",
   "execution_count": 13,
   "id": "e23be32a",
   "metadata": {},
   "outputs": [
    {
     "name": "stdout",
     "output_type": "stream",
     "text": [
      "enter a number3\n",
      "enter another number0\n",
      "division by zero\n",
      "3 \t 3 \t 0\n"
     ]
    }
   ],
   "source": [
    "#machine witch calculate\"+,-,*,/\" number n ,10.n is betwean [0,10]\n",
    "def machine(x,n):\n",
    "    try:\n",
    "        print(x/n)\n",
    "        print(10)\n",
    "    except ZeroDivisionError:\n",
    "        print(\"division by zero\")\n",
    "\n",
    "    except IndexError:\n",
    "        print(\"IndexError\")\n",
    "\n",
    "    except :\n",
    "        print(\"i;m not sure what happends here\")\n",
    "    finally:\n",
    "        print(x+n,\"\\t\",x-n,\"\\t\",x*n)\n",
    "        \n",
    "machine(int(input(\"enter a number\")),int(input(\"enter another number\")))        "
   ]
  },
  {
   "cell_type": "markdown",
   "id": "23491b64",
   "metadata": {},
   "source": [
    "### lambda "
   ]
  },
  {
   "cell_type": "markdown",
   "id": "b9739ddc",
   "metadata": {},
   "source": [
    "#### \"Lambda functions are mainly used in combination with the functions filter(), map() and reduce()\n",
    "###### main usage is in sorting [[]]."
   ]
  },
  {
   "cell_type": "markdown",
   "id": "ed6beb70",
   "metadata": {},
   "source": [
    "#####  sorting  list  without lambada"
   ]
  },
  {
   "cell_type": "code",
   "execution_count": 2,
   "id": "326a10f1",
   "metadata": {},
   "outputs": [],
   "source": [
    "lst = [[1,2,[7,2],'s'],[9,8,[7,4],'a'],[9,8,[7,5],'a'],[4,5,[7,9],'b'],[7,5,[7,5],'e']]\n"
   ]
  },
  {
   "cell_type": "markdown",
   "id": "f2b7a0c7",
   "metadata": {},
   "source": [
    "### sorting list without lambada"
   ]
  },
  {
   "cell_type": "code",
   "execution_count": 17,
   "id": "61ee9946",
   "metadata": {},
   "outputs": [
    {
     "data": {
      "text/plain": [
       "[[9, 8, [7, 4], 'a'],\n",
       " [9, 8, [7, 5], 'a'],\n",
       " [4, 5, [7, 9], 'b'],\n",
       " [7, 5, [7, 5], 'e'],\n",
       " [1, 2, [7, 2], 's']]"
      ]
     },
     "execution_count": 17,
     "metadata": {},
     "output_type": "execute_result"
    }
   ],
   "source": [
    "lst.sort(key=lambda a:a[3])\n",
    "lst"
   ]
  },
  {
   "cell_type": "code",
   "execution_count": 21,
   "id": "bf0ed1a9",
   "metadata": {},
   "outputs": [
    {
     "data": {
      "text/plain": [
       "[[1, 2, [7, 2], 's'],\n",
       " [9, 8, [7, 4], 'a'],\n",
       " [9, 8, [7, 5], 'a'],\n",
       " [7, 5, [7, 5], 'e'],\n",
       " [4, 5, [7, 9], 'b']]"
      ]
     },
     "execution_count": 21,
     "metadata": {},
     "output_type": "execute_result"
    }
   ],
   "source": [
    "lst.sort(key=lambda s:s[2][0])\n",
    "lst"
   ]
  },
  {
   "cell_type": "markdown",
   "id": "0bbe7cfb",
   "metadata": {},
   "source": [
    "### max,min with lambda"
   ]
  },
  {
   "cell_type": "code",
   "execution_count": 4,
   "id": "353e2c17",
   "metadata": {},
   "outputs": [
    {
     "data": {
      "text/plain": [
       "[1, 2, [7, 2], 's']"
      ]
     },
     "execution_count": 4,
     "metadata": {},
     "output_type": "execute_result"
    }
   ],
   "source": [
    "max(lst,key=lambda a:a[-1])"
   ]
  },
  {
   "cell_type": "code",
   "execution_count": 32,
   "id": "2316d055",
   "metadata": {},
   "outputs": [
    {
     "data": {
      "text/plain": [
       "[1, 2, [7, 2], 's']"
      ]
     },
     "execution_count": 32,
     "metadata": {},
     "output_type": "execute_result"
    }
   ],
   "source": [
    "b=min(lst,key=lambda a:a[2][1])\n",
    "b"
   ]
  },
  {
   "cell_type": "markdown",
   "id": "25c2ab20",
   "metadata": {},
   "source": [
    "### reduce"
   ]
  },
  {
   "cell_type": "code",
   "execution_count": 5,
   "id": "e95a8f1e",
   "metadata": {},
   "outputs": [
    {
     "data": {
      "text/plain": [
       "True"
      ]
     },
     "execution_count": 5,
     "metadata": {},
     "output_type": "execute_result"
    }
   ],
   "source": [
    "# for big detas.\n",
    "# do a function with two arg and go this\n",
    "import functools\n",
    "\n",
    "lst=list(range(1,7))\n",
    "a=functools.reduce(lambda a,b :a*b ,lst)\n",
    "\n",
    "a == 1*2*3*4*5*6"
   ]
  },
  {
   "cell_type": "markdown",
   "id": "abc9db5b",
   "metadata": {},
   "source": [
    "### filter"
   ]
  },
  {
   "cell_type": "markdown",
   "id": "e390d187",
   "metadata": {},
   "source": [
    "#### The filter() function returns an iterator were the items are filtered through a function to test if the item is accepted or not."
   ]
  },
  {
   "cell_type": "raw",
   "id": "94d3a019",
   "metadata": {},
   "source": [
    "#example in w3 school\n",
    "ages = [5, 12, 17, 18, 24, 32]\n",
    "\n",
    "def myFunc(x):\n",
    "  if x < 18:\n",
    "    return False\n",
    "  else:\n",
    "    return True\n",
    "\n",
    "adults = filter(myFunc, ages)\n",
    "\n",
    "for x in adults:\n",
    "  print(x) \n",
    "\n",
    "#reasult:\n",
    "18\n",
    "24\n",
    "32\n"
   ]
  },
  {
   "cell_type": "code",
   "execution_count": 3,
   "id": "720802e0",
   "metadata": {},
   "outputs": [
    {
     "data": {
      "text/plain": [
       "[2, 3, 5, 7]"
      ]
     },
     "execution_count": 3,
     "metadata": {},
     "output_type": "execute_result"
    }
   ],
   "source": [
    "a = [1,2,3,5,7,9]\n",
    "b = [2,3,5,6,7,8]\n",
    "list(filter(lambda x:x in b ,a))\n"
   ]
  },
  {
   "cell_type": "markdown",
   "id": "aa979627",
   "metadata": {},
   "source": [
    "#### using comperhensive if recommended"
   ]
  },
  {
   "cell_type": "code",
   "execution_count": 70,
   "id": "17ed16f4",
   "metadata": {},
   "outputs": [
    {
     "data": {
      "text/plain": [
       "[2, 3, 5, 7]"
      ]
     },
     "execution_count": 70,
     "metadata": {},
     "output_type": "execute_result"
    }
   ],
   "source": [
    "a = [1,2,3,5,7,9]\n",
    "b = [2,3,5,6,7,8]\n",
    "[i  for i in a if i in b]"
   ]
  },
  {
   "cell_type": "markdown",
   "id": "877f0ada",
   "metadata": {},
   "source": [
    "### map"
   ]
  },
  {
   "cell_type": "markdown",
   "id": "a13e689a",
   "metadata": {},
   "source": [
    "#### The map() function executes a specified function for each item in an iterable. The item is sent to the function as a parameter."
   ]
  },
  {
   "cell_type": "raw",
   "id": "c3fe0e76",
   "metadata": {},
   "source": [
    "#example in w3 school\n",
    "def myfunc(n):\n",
    "  return len(n)\n",
    "\n",
    "x = list (map(myfunc, ('apple', 'banana', 'cherry')))\n",
    "x\n",
    "\n",
    "#result:\n",
    "[5, 6, 6]"
   ]
  },
  {
   "cell_type": "code",
   "execution_count": 81,
   "id": "5e8735e2",
   "metadata": {},
   "outputs": [
    {
     "data": {
      "text/plain": [
       "['appleorange', 'bananalemon', 'cherrypineapple']"
      ]
     },
     "execution_count": 81,
     "metadata": {},
     "output_type": "execute_result"
    }
   ],
   "source": [
    "x = list(map(lambda a,b:a+b, ('apple', 'banana', 'cherry'), ('orange', 'lemon', 'pineapple')))\n",
    "x"
   ]
  },
  {
   "cell_type": "code",
   "execution_count": 4,
   "id": "f30dbd44",
   "metadata": {},
   "outputs": [
    {
     "name": "stdout",
     "output_type": "stream",
     "text": [
      "[1, 4, 9, 16]\n"
     ]
    },
    {
     "data": {
      "text/plain": [
       "(1, 4, 9, 16)"
      ]
     },
     "execution_count": 4,
     "metadata": {},
     "output_type": "execute_result"
    }
   ],
   "source": [
    "a = [1, 2, 3, 4]\n",
    "b = [17, 12, 11, 10]\n",
    "c = [-1, -4, 5, 9]\n",
    "\n",
    "print(list(map(lambda x : x**2, a)))\n",
    "\n",
    "#bether way\n",
    "tuple([x**2 for x in a])"
   ]
  },
  {
   "cell_type": "code",
   "execution_count": 89,
   "id": "1996cfa2",
   "metadata": {},
   "outputs": [
    {
     "name": "stdout",
     "output_type": "stream",
     "text": [
      "[18, 14, 14, 14]\n"
     ]
    },
    {
     "data": {
      "text/plain": [
       "[18, 14, 14]"
      ]
     },
     "execution_count": 89,
     "metadata": {},
     "output_type": "execute_result"
    }
   ],
   "source": [
    "print(list(map(lambda x,y :x+y , a,b)))\n",
    "\n",
    "#bether way\n",
    "[a+b for a,b in zip(a,b)]\n",
    "#or\n",
    "[a[i]+b[i] for i in range(3)]"
   ]
  },
  {
   "cell_type": "code",
   "execution_count": 92,
   "id": "60291cdb",
   "metadata": {},
   "outputs": [
    {
     "name": "stdout",
     "output_type": "stream",
     "text": [
      "[17, 10, 19, 23]\n"
     ]
    },
    {
     "data": {
      "text/plain": [
       "[17, 10, 19, 23]"
      ]
     },
     "execution_count": 92,
     "metadata": {},
     "output_type": "execute_result"
    }
   ],
   "source": [
    "print(list(map(lambda a,b,c:a+b+c ,a,b,c)))\n",
    "\n",
    "#bether way\n",
    "[a+b+c for a,b,c in zip(a,b,c)]"
   ]
  },
  {
   "cell_type": "markdown",
   "id": "8d77395c",
   "metadata": {},
   "source": [
    "f.r.m.n"
   ]
  }
 ],
 "metadata": {
  "kernelspec": {
   "display_name": "Python 3 (ipykernel)",
   "language": "python",
   "name": "python3"
  },
  "language_info": {
   "codemirror_mode": {
    "name": "ipython",
    "version": 3
   },
   "file_extension": ".py",
   "mimetype": "text/x-python",
   "name": "python",
   "nbconvert_exporter": "python",
   "pygments_lexer": "ipython3",
   "version": "3.9.12"
  }
 },
 "nbformat": 4,
 "nbformat_minor": 5
}
