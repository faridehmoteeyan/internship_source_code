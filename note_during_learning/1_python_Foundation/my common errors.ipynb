{
 "cells": [
  {
   "cell_type": "markdown",
   "id": "69de6087",
   "metadata": {},
   "source": [
    "# bool(k % 2)"
   ]
  },
  {
   "cell_type": "code",
   "execution_count": 2,
   "id": "6d50e703",
   "metadata": {},
   "outputs": [
    {
     "data": {
      "text/plain": [
       "True"
      ]
     },
     "execution_count": 2,
     "metadata": {},
     "output_type": "execute_result"
    }
   ],
   "source": [
    "k=9\n",
    "bool(k % 2)\n"
   ]
  },
  {
   "cell_type": "code",
   "execution_count": 3,
   "id": "87f137a3",
   "metadata": {},
   "outputs": [
    {
     "data": {
      "text/plain": [
       "False"
      ]
     },
     "execution_count": 3,
     "metadata": {},
     "output_type": "execute_result"
    }
   ],
   "source": [
    "l=10\n",
    "bool(l % 2)"
   ]
  },
  {
   "cell_type": "code",
   "execution_count": 8,
   "id": "4260d0bd",
   "metadata": {},
   "outputs": [
    {
     "name": "stdout",
     "output_type": "stream",
     "text": [
      "[3, 7, 11, 15, 19]\n"
     ]
    }
   ],
   "source": [
    "a = range(3,20,4)\n",
    "b = []\n",
    "for k in a:\n",
    "    if k % 2 :\n",
    "        b.append(k)\n",
    "print (b)"
   ]
  },
  {
   "cell_type": "code",
   "execution_count": null,
   "id": "a138348a",
   "metadata": {},
   "outputs": [],
   "source": []
  }
 ],
 "metadata": {
  "kernelspec": {
   "display_name": "Python 3 (ipykernel)",
   "language": "python",
   "name": "python3"
  },
  "language_info": {
   "codemirror_mode": {
    "name": "ipython",
    "version": 3
   },
   "file_extension": ".py",
   "mimetype": "text/x-python",
   "name": "python",
   "nbconvert_exporter": "python",
   "pygments_lexer": "ipython3",
   "version": "3.9.12"
  }
 },
 "nbformat": 4,
 "nbformat_minor": 5
}
