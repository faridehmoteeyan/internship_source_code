{
 "cells": [
  {
   "cell_type": "code",
   "execution_count": 1,
   "id": "f0ac22e6",
   "metadata": {},
   "outputs": [],
   "source": [
    "import datetime\n"
   ]
  },
  {
   "cell_type": "markdown",
   "id": "8a0bfb7e",
   "metadata": {},
   "source": [
    "## date "
   ]
  },
  {
   "cell_type": "code",
   "execution_count": 10,
   "id": "8c92f982",
   "metadata": {},
   "outputs": [
    {
     "data": {
      "text/plain": [
       "(8, datetime.date(2022, 8, 29))"
      ]
     },
     "execution_count": 10,
     "metadata": {},
     "output_type": "execute_result"
    }
   ],
   "source": [
    "#we can show a date by year,month and day\n",
    "d=datetime.date.today()\n",
    "d.month , d"
   ]
  },
  {
   "cell_type": "code",
   "execution_count": 17,
   "id": "b2cc145d",
   "metadata": {},
   "outputs": [
    {
     "data": {
      "text/plain": [
       "0"
      ]
     },
     "execution_count": 17,
     "metadata": {},
     "output_type": "execute_result"
    }
   ],
   "source": [
    "#weekday return sun=0 ,mon=1 etc\n",
    "#isweekday return sun=1 ,mon=2 etc sat=7\n",
    "datetime.date(2029,3,3).weekday()\n",
    "d.weekday()"
   ]
  },
  {
   "cell_type": "markdown",
   "id": "2f68531b",
   "metadata": {},
   "source": [
    "sum dates and datetime"
   ]
  },
  {
   "cell_type": "code",
   "execution_count": 25,
   "id": "b9cecf9d",
   "metadata": {},
   "outputs": [
    {
     "name": "stdout",
     "output_type": "stream",
     "text": [
      "74 days, 0:00:00\n",
      "74\n"
     ]
    }
   ],
   "source": [
    "# timedate = date +date\n",
    "today = datetime.date.today()\n",
    "birth_day = datetime.date(2022,11,11)\n",
    "till = birth_day -today \n",
    "print(till)\n",
    "print(till.days)"
   ]
  },
  {
   "cell_type": "code",
   "execution_count": 36,
   "id": "6d709cd1",
   "metadata": {},
   "outputs": [
    {
     "data": {
      "text/plain": [
       "datetime.date(2022, 9, 19)"
      ]
     },
     "execution_count": 36,
     "metadata": {},
     "output_type": "execute_result"
    }
   ],
   "source": [
    "# date = date + timedate\n",
    "tdate = datetime.timedelta(weeks=3)\n",
    "today + tdate\n"
   ]
  },
  {
   "cell_type": "code",
   "execution_count": 38,
   "id": "26c89af7",
   "metadata": {},
   "outputs": [
    {
     "data": {
      "text/plain": [
       "6393600.0"
      ]
     },
     "execution_count": 38,
     "metadata": {},
     "output_type": "execute_result"
    }
   ],
   "source": [
    "till.total_seconds()"
   ]
  },
  {
   "cell_type": "markdown",
   "id": "acc57560",
   "metadata": {},
   "source": [
    "## time "
   ]
  },
  {
   "cell_type": "markdown",
   "id": "ceac6772",
   "metadata": {},
   "source": [
    "time inclueds  hour , min , sec ,milisecond"
   ]
  },
  {
   "cell_type": "code",
   "execution_count": 45,
   "id": "55940145",
   "metadata": {},
   "outputs": [
    {
     "data": {
      "text/plain": [
       "49"
      ]
     },
     "execution_count": 45,
     "metadata": {},
     "output_type": "execute_result"
    }
   ],
   "source": [
    "t = datetime.time(4,49,10,12000)\n",
    "t.minute"
   ]
  },
  {
   "cell_type": "markdown",
   "id": "19bd418c",
   "metadata": {},
   "source": [
    "### datetime "
   ]
  },
  {
   "cell_type": "markdown",
   "id": "ab8eb0ba",
   "metadata": {},
   "source": [
    "datetime inclueds year , day, month, hour , min , sec ,milisecond"
   ]
  },
  {
   "cell_type": "code",
   "execution_count": 7,
   "id": "94d9ffcf",
   "metadata": {},
   "outputs": [
    {
     "name": "stdout",
     "output_type": "stream",
     "text": [
      "11:03:07.000232 0021-02-21 11:03:07.000232\n"
     ]
    }
   ],
   "source": [
    "dt = datetime.datetime(21,2,21,11,3,7,232)\n",
    "print(dt.time(),dt)"
   ]
  },
  {
   "cell_type": "code",
   "execution_count": null,
   "id": "df67e10c",
   "metadata": {},
   "outputs": [],
   "source": []
  },
  {
   "cell_type": "code",
   "execution_count": null,
   "id": "0293bede",
   "metadata": {},
   "outputs": [],
   "source": []
  }
 ],
 "metadata": {
  "kernelspec": {
   "display_name": "Python 3 (ipykernel)",
   "language": "python",
   "name": "python3"
  },
  "language_info": {
   "codemirror_mode": {
    "name": "ipython",
    "version": 3
   },
   "file_extension": ".py",
   "mimetype": "text/x-python",
   "name": "python",
   "nbconvert_exporter": "python",
   "pygments_lexer": "ipython3",
   "version": "3.9.12"
  }
 },
 "nbformat": 4,
 "nbformat_minor": 5
}
