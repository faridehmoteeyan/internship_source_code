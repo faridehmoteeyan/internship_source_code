{
 "cells": [
  {
   "cell_type": "markdown",
   "id": "2d38441f",
   "metadata": {},
   "source": [
    "### functions "
   ]
  },
  {
   "cell_type": "markdown",
   "id": "614db0d6",
   "metadata": {},
   "source": [
    "#### diffrent betwean return & print in def:\n",
    "we can't put prin_ output_def in a variable"
   ]
  },
  {
   "cell_type": "code",
   "execution_count": 13,
   "id": "4f413ccb",
   "metadata": {},
   "outputs": [
    {
     "name": "stdout",
     "output_type": "stream",
     "text": [
      "lopos\n",
      "a is None\n"
     ]
    }
   ],
   "source": [
    "def not_print (a):\n",
    "    print(a)\n",
    "\n",
    "a=not_print(\"lopos\")\n",
    "print(f\"a is {a}\")"
   ]
  },
  {
   "cell_type": "markdown",
   "id": "838b7bc2",
   "metadata": {},
   "source": [
    "### function arguments"
   ]
  },
  {
   "cell_type": "code",
   "execution_count": 22,
   "id": "59078978",
   "metadata": {},
   "outputs": [
    {
     "name": "stdout",
     "output_type": "stream",
     "text": [
      "var_1 is 3\n",
      "var_2 is 4\n",
      "______________\n",
      "\n",
      "var_1 is 4\n",
      "var_2 is 3\n"
     ]
    }
   ],
   "source": [
    "def add(var_1, var_2 ):\n",
    "    print(f'var_1 is {var_1}')\n",
    "    print(f'var_2 is {var_2}')\n",
    "    return var_1 + var_2\n",
    "\n",
    "addad=add(3,4)\n",
    "print(\"______________\\n\")\n",
    "#changing the orders\n",
    "addad=add(var_2=3,var_1=4)"
   ]
  },
  {
   "cell_type": "markdown",
   "id": "16aae36f",
   "metadata": {},
   "source": [
    "### defult argu"
   ]
  },
  {
   "cell_type": "code",
   "execution_count": 23,
   "id": "25ba71f2",
   "metadata": {},
   "outputs": [
    {
     "name": "stdout",
     "output_type": "stream",
     "text": [
      "var_1 is 2\n",
      "var_2 is 5\n"
     ]
    },
    {
     "data": {
      "text/plain": [
       "7"
      ]
     },
     "execution_count": 23,
     "metadata": {},
     "output_type": "execute_result"
    }
   ],
   "source": [
    "# what happend if aarge get a similar value repeatedly \n",
    "def add(var_1, var_2 = 5):\n",
    "    print(f'var_1 is {var_1}')\n",
    "    print(f'var_2 is {var_2}')\n",
    "    return var_1 + var_2\n",
    "\n",
    "add(2)"
   ]
  },
  {
   "cell_type": "code",
   "execution_count": 24,
   "id": "fa6678d0",
   "metadata": {},
   "outputs": [
    {
     "name": "stdout",
     "output_type": "stream",
     "text": [
      "var_1 is 2\n",
      "var_2 is 7\n"
     ]
    },
    {
     "data": {
      "text/plain": [
       "9"
      ]
     },
     "execution_count": 24,
     "metadata": {},
     "output_type": "execute_result"
    }
   ],
   "source": [
    "add(2,7)"
   ]
  },
  {
   "cell_type": "code",
   "execution_count": 25,
   "id": "bde8ce3f",
   "metadata": {},
   "outputs": [
    {
     "name": "stdout",
     "output_type": "stream",
     "text": [
      "var_1 is 8\n",
      "var_2 is 5\n"
     ]
    },
    {
     "data": {
      "text/plain": [
       "13"
      ]
     },
     "execution_count": 25,
     "metadata": {},
     "output_type": "execute_result"
    }
   ],
   "source": [
    "add(var_1=8)"
   ]
  },
  {
   "cell_type": "markdown",
   "id": "a994293c",
   "metadata": {},
   "source": [
    "###  scope of  function"
   ]
  },
  {
   "cell_type": "markdown",
   "id": "d6e81319",
   "metadata": {},
   "source": [
    "#### the variable is looked in function,then in global.\n",
    "it does'nt change global var"
   ]
  },
  {
   "cell_type": "code",
   "execution_count": 29,
   "id": "a1201a70",
   "metadata": {},
   "outputs": [
    {
     "name": "stdout",
     "output_type": "stream",
     "text": [
      "var_ :30 ,input_1: 40\n",
      "var: 10\n"
     ]
    }
   ],
   "source": [
    "var = 10\n",
    "def func_(input_1):\n",
    "    var_ = var + 20\n",
    "    print(f\"var_ :{var_} ,input_1: {input_1}\")\n",
    "func_(40) \n",
    "print(\"var:\",var)\n",
    "\n"
   ]
  },
  {
   "cell_type": "code",
   "execution_count": 30,
   "id": "6d0d103b",
   "metadata": {},
   "outputs": [
    {
     "ename": "UnboundLocalError",
     "evalue": "local variable 'var' referenced before assignment",
     "output_type": "error",
     "traceback": [
      "\u001b[1;31m---------------------------------------------------------------------------\u001b[0m",
      "\u001b[1;31mUnboundLocalError\u001b[0m                         Traceback (most recent call last)",
      "Input \u001b[1;32mIn [30]\u001b[0m, in \u001b[0;36m<cell line: 5>\u001b[1;34m()\u001b[0m\n\u001b[0;32m      3\u001b[0m     var \u001b[38;5;241m+\u001b[39m\u001b[38;5;241m=\u001b[39m input_1\n\u001b[0;32m      4\u001b[0m     \u001b[38;5;28mprint\u001b[39m(var,input_1)\n\u001b[1;32m----> 5\u001b[0m \u001b[43mfunc_\u001b[49m\u001b[43m(\u001b[49m\u001b[38;5;241;43m30\u001b[39;49m\u001b[43m)\u001b[49m\n",
      "Input \u001b[1;32mIn [30]\u001b[0m, in \u001b[0;36mfunc_\u001b[1;34m(input_1)\u001b[0m\n\u001b[0;32m      2\u001b[0m \u001b[38;5;28;01mdef\u001b[39;00m \u001b[38;5;21mfunc_\u001b[39m(input_1):\n\u001b[1;32m----> 3\u001b[0m     var \u001b[38;5;241m+\u001b[39m\u001b[38;5;241m=\u001b[39m input_1\n\u001b[0;32m      4\u001b[0m     \u001b[38;5;28mprint\u001b[39m(var,input_1)\n",
      "\u001b[1;31mUnboundLocalError\u001b[0m: local variable 'var' referenced before assignment"
     ]
    }
   ],
   "source": [
    "var = 10\n",
    "def func_(input_1):\n",
    "    var += input_1\n",
    "    print(var,input_1)\n",
    "func_(30)"
   ]
  },
  {
   "cell_type": "code",
   "execution_count": 31,
   "id": "ed7a7a23",
   "metadata": {},
   "outputs": [
    {
     "name": "stdout",
     "output_type": "stream",
     "text": [
      "20 30\n",
      "10\n"
     ]
    }
   ],
   "source": [
    "var = 10\n",
    "def func_(input_1):\n",
    "    var = 20\n",
    "    print(var,input_1)\n",
    "func_(30) \n",
    "print(var)\n",
    "\n"
   ]
  },
  {
   "cell_type": "code",
   "execution_count": 1,
   "id": "a792ed18",
   "metadata": {},
   "outputs": [
    {
     "name": "stdout",
     "output_type": "stream",
     "text": [
      "[0, 2] [0, 2]\n",
      "[0, 2]\n"
     ]
    }
   ],
   "source": [
    "#look at mutables\n",
    "\n",
    "var = [10, 2]\n",
    "def func_(input_1):\n",
    "    input_1[0] = 0\n",
    "    print(var,input_1)\n",
    "func_(var) \n",
    "print(var)\n"
   ]
  },
  {
   "cell_type": "markdown",
   "id": "ce09587d",
   "metadata": {},
   "source": [
    "### global"
   ]
  },
  {
   "cell_type": "markdown",
   "id": "7b82e931",
   "metadata": {},
   "source": [
    "#### .it gets error.how to fix it?\n",
    "#### .how change immutables var both inside & outside of function?"
   ]
  },
  {
   "cell_type": "code",
   "execution_count": 1,
   "id": "dc8e19b0",
   "metadata": {},
   "outputs": [
    {
     "ename": "UnboundLocalError",
     "evalue": "local variable 'c' referenced before assignment",
     "output_type": "error",
     "traceback": [
      "\u001b[1;31m---------------------------------------------------------------------------\u001b[0m",
      "\u001b[1;31mUnboundLocalError\u001b[0m                         Traceback (most recent call last)",
      "Input \u001b[1;32mIn [1]\u001b[0m, in \u001b[0;36m<cell line: 7>\u001b[1;34m()\u001b[0m\n\u001b[0;32m      4\u001b[0m     c \u001b[38;5;241m=\u001b[39m c \u001b[38;5;241m+\u001b[39m \u001b[38;5;241m2\u001b[39m \u001b[38;5;66;03m# increment c by 2\u001b[39;00m\n\u001b[0;32m      5\u001b[0m     \u001b[38;5;28mprint\u001b[39m(c)\n\u001b[1;32m----> 7\u001b[0m \u001b[43madd\u001b[49m\u001b[43m(\u001b[49m\u001b[43m)\u001b[49m\n",
      "Input \u001b[1;32mIn [1]\u001b[0m, in \u001b[0;36madd\u001b[1;34m()\u001b[0m\n\u001b[0;32m      3\u001b[0m \u001b[38;5;28;01mdef\u001b[39;00m \u001b[38;5;21madd\u001b[39m():\n\u001b[1;32m----> 4\u001b[0m     c \u001b[38;5;241m=\u001b[39m \u001b[43mc\u001b[49m \u001b[38;5;241m+\u001b[39m \u001b[38;5;241m2\u001b[39m \u001b[38;5;66;03m# increment c by 2\u001b[39;00m\n\u001b[0;32m      5\u001b[0m     \u001b[38;5;28mprint\u001b[39m(c)\n",
      "\u001b[1;31mUnboundLocalError\u001b[0m: local variable 'c' referenced before assignment"
     ]
    }
   ],
   "source": [
    "c = 1 # global variable\n",
    "    \n",
    "def add():\n",
    "    c = c + 2 # increment c by 2\n",
    "    print(c)\n",
    "\n",
    "add()"
   ]
  },
  {
   "cell_type": "code",
   "execution_count": 2,
   "id": "77ea30b4",
   "metadata": {},
   "outputs": [
    {
     "name": "stdout",
     "output_type": "stream",
     "text": [
      "incerment c is : 3\n",
      "global c is : 3\n"
     ]
    }
   ],
   "source": [
    "c = 1 # global variable\n",
    "    \n",
    "def add():\n",
    "    global c\n",
    "    c = c + 2 # increment c by 2\n",
    "    print(\"incerment c is :\",c)\n",
    "\n",
    "add()\n",
    "print(\"global c is :\",c)"
   ]
  },
  {
   "cell_type": "markdown",
   "id": "caae4c6a",
   "metadata": {},
   "source": [
    "### recursing"
   ]
  },
  {
   "cell_type": "markdown",
   "id": "f2bcd549",
   "metadata": {},
   "source": [
    " means a defined function can call itself."
   ]
  },
  {
   "cell_type": "code",
   "execution_count": 5,
   "id": "c40ed499",
   "metadata": {},
   "outputs": [
    {
     "name": "stdout",
     "output_type": "stream",
     "text": [
      "1\n",
      "3\n",
      "6\n",
      "10\n",
      "15\n"
     ]
    },
    {
     "data": {
      "text/plain": [
       "15"
      ]
     },
     "execution_count": 5,
     "metadata": {},
     "output_type": "execute_result"
    }
   ],
   "source": [
    "def add_reduce(k):\n",
    "    if k>0:\n",
    "        result=k+add_reduce(k-1)\n",
    "        print(result)\n",
    "    else:\n",
    "        result=0\n",
    "    return result\n",
    "\n",
    "        \n",
    "        \n",
    "add_reduce(5)"
   ]
  },
  {
   "cell_type": "code",
   "execution_count": 8,
   "id": "e63bffab",
   "metadata": {},
   "outputs": [
    {
     "data": {
      "text/plain": [
       "34"
      ]
     },
     "execution_count": 8,
     "metadata": {},
     "output_type": "execute_result"
    }
   ],
   "source": [
    "# funanchi  ---0, 1, 1, 2, 3, 5, 8, 13, 21, 34, …\n",
    "def funnanchi(n):\n",
    "    if n<0:\n",
    "        return \"it's out of range\"\n",
    "    elif n==0:\n",
    "        return 0\n",
    "    elif n==1 :\n",
    "        return 1\n",
    "    else:\n",
    "        return funnanchi(n-1)+funnanchi(n-2)\n",
    "\n",
    "funnanchi(9)"
   ]
  },
  {
   "cell_type": "markdown",
   "id": "986bebcc",
   "metadata": {},
   "source": [
    "### *args and **kwargs\n",
    "##### when  we dont know how many input we have.* for tuples & lists"
   ]
  },
  {
   "cell_type": "code",
   "execution_count": 4,
   "id": "ded66b45",
   "metadata": {},
   "outputs": [
    {
     "name": "stdout",
     "output_type": "stream",
     "text": [
      "<class 'tuple'>\n",
      "hello\n",
      "dear\n",
      "friends\n",
      "pooya\n",
      "menoo\n"
     ]
    }
   ],
   "source": [
    "def func(*args): \n",
    "    print(type(args))\n",
    "    for arg in args:  \n",
    "        print(arg)\n",
    "        \n",
    "        \n",
    "func('hello', 'dear', 'friends', 'pooya', 'menoo') "
   ]
  },
  {
   "cell_type": "code",
   "execution_count": 6,
   "id": "1f6f2c91",
   "metadata": {},
   "outputs": [
    {
     "data": {
      "text/plain": [
       "18"
      ]
     },
     "execution_count": 6,
     "metadata": {},
     "output_type": "execute_result"
    }
   ],
   "source": [
    "def sume(*args):\n",
    "    s=0\n",
    "    for arg in args:\n",
    "        s+=arg\n",
    "    return s\n",
    "\n",
    "sume(1,2,4,5,6,0)"
   ]
  },
  {
   "cell_type": "code",
   "execution_count": 10,
   "id": "9654de81",
   "metadata": {},
   "outputs": [
    {
     "name": "stdout",
     "output_type": "stream",
     "text": [
      "First argument : Hello\n",
      "Next argument through *args : Welcome\n",
      "Next argument through *args : to\n",
      "Next argument through *args : python_dm\n"
     ]
    }
   ],
   "source": [
    "def func(arg_1, *args): \n",
    "    print (\"First argument :\", arg_1) \n",
    "    for arg in args: \n",
    "        print(\"Next argument through *args :\", arg) \n",
    "func('Hello', 'Welcome', 'to', 'python_dm') "
   ]
  },
  {
   "cell_type": "markdown",
   "id": "ab94cf2d",
   "metadata": {},
   "source": [
    "### **kwarg"
   ]
  },
  {
   "cell_type": "markdown",
   "id": "9fede951",
   "metadata": {},
   "source": [
    "#### ** for dictionary"
   ]
  },
  {
   "cell_type": "code",
   "execution_count": 9,
   "id": "1828843b",
   "metadata": {},
   "outputs": [
    {
     "name": "stdout",
     "output_type": "stream",
     "text": [
      "first ==python\n",
      "mid ==dm\n",
      "last ==kntu\n"
     ]
    }
   ],
   "source": [
    "def func(**kwarg):\n",
    "    for k,v in kwarg.items():\n",
    "        print(\"%s ==%s\"%(k,v))\n",
    "func(first ='python', mid ='dm', last='kntu') "
   ]
  },
  {
   "cell_type": "markdown",
   "id": "943e3d59",
   "metadata": {},
   "source": [
    "### arg and *args and **kwargs: "
   ]
  },
  {
   "cell_type": "code",
   "execution_count": 6,
   "id": "0b9043c8",
   "metadata": {},
   "outputs": [
    {
     "name": "stdout",
     "output_type": "stream",
     "text": [
      "First argument : hi\n",
      "Next argument through *args : there\n",
      "Next argument through *args : python\n",
      "\n",
      " Kwarg arguments:\n",
      "name == pooya\n",
      "kidding == yeah\n"
     ]
    }
   ],
   "source": [
    "def func(arg_1, *args, **kwargs): \n",
    "    print (\"First argument :\", arg_1) \n",
    "    \n",
    "    for arg in args: \n",
    "        print(\"Next argument through *args :\", arg)\n",
    "        \n",
    "    print('\\n', 'Kwarg arguments:')\n",
    "    \n",
    "    for key, value in kwargs.items(): \n",
    "        print (\"%s == %s\" %(key, value)) \n",
    "        \n",
    "func('hi', 'there', 'python', name='pooya', kidding='yeah')"
   ]
  },
  {
   "cell_type": "markdown",
   "id": "92749dd8",
   "metadata": {},
   "source": [
    "###  Using *args and **kwargs to call a function"
   ]
  },
  {
   "cell_type": "code",
   "execution_count": 17,
   "id": "692471bb",
   "metadata": {},
   "outputs": [],
   "source": [
    "def func(arg_1, arg_2, arg_3): \n",
    "    print(\"arg_1:\", arg_1) \n",
    "    print(\"arg_2:\", arg_2) \n",
    "    print(\"arg_3:\", arg_3)"
   ]
  },
  {
   "cell_type": "code",
   "execution_count": 13,
   "id": "2947fd6e",
   "metadata": {},
   "outputs": [
    {
     "name": "stdout",
     "output_type": "stream",
     "text": [
      "arg_1: laptob\n",
      "arg_2: computer\n",
      "arg_3: mobile\n"
     ]
    }
   ],
   "source": [
    "w=[\"laptob\",\"computer\",\"mobile\",]\n",
    "func(*w)"
   ]
  },
  {
   "cell_type": "code",
   "execution_count": 18,
   "id": "7e6796c6",
   "metadata": {},
   "outputs": [
    {
     "name": "stdout",
     "output_type": "stream",
     "text": [
      "arg_1: python\n",
      "arg_2: dm\n",
      "arg_3: kntu\n"
     ]
    }
   ],
   "source": [
    "kwargs = {\"arg_1\" : \"python\", \"arg_2\" : \"dm\", \"arg_3\" : \"kntu\"} \n",
    "func(**kwargs)"
   ]
  },
  {
   "cell_type": "code",
   "execution_count": 22,
   "id": "f05e3b2e",
   "metadata": {},
   "outputs": [],
   "source": [
    "#pass\n",
    "#when we dont have function definition ,it'll us an erro,to avoid that we use\"pass\":\n",
    "#for x in [0, 1, 2]:------error\n",
    " \n",
    "for x in [0, 1, 2]:\n",
    "    pass"
   ]
  },
  {
   "cell_type": "markdown",
   "id": "a0952f04",
   "metadata": {},
   "source": [
    "### doc string"
   ]
  },
  {
   "cell_type": "code",
   "execution_count": 38,
   "id": "f897a752",
   "metadata": {},
   "outputs": [],
   "source": [
    "def powered (num:int,to_power) ->tuple :\n",
    "    \"\"\"(flat,int) ->float\n",
    "    return the exponential power of number\n",
    "    >>> powered(10,1)\n",
    "    10.0\n",
    "    >>> powered(2,3)\n",
    "    8.0\"\"\"\n",
    "    num=float(num)\n",
    "    return num**to_power"
   ]
  },
  {
   "cell_type": "code",
   "execution_count": 44,
   "id": "3941e1e0",
   "metadata": {},
   "outputs": [],
   "source": [
    "def get_square_tuple(_tuple):\n",
    "    \n",
    "    \"\"\" (tuple) -> tuple\n",
    "    Returns square tuple \n",
    "    \n",
    "    >>> get_square_tuple((1, 2, 3, 5))\n",
    "    (1, 5, 9, 25)\n",
    "    \"\"\"\n",
    "    return tuple(map(lambda a:a**2,_tuple))\n",
    "     "
   ]
  },
  {
   "cell_type": "code",
   "execution_count": 34,
   "id": "bd4bbf11",
   "metadata": {
    "scrolled": true
   },
   "outputs": [
    {
     "name": "stdout",
     "output_type": "stream",
     "text": [
      "Help on function powered in module __main__:\n",
      "\n",
      "powered(num: int, to_power) -> tuple\n",
      "    (flat,int) ->float\n",
      "    return the exponential power of number\n",
      "    >>> powered(10,1)\n",
      "    10.0\n",
      "    >>>powereed(2,3)\n",
      "    8.0\n",
      "\n"
     ]
    }
   ],
   "source": [
    "help(powered)"
   ]
  },
  {
   "cell_type": "code",
   "execution_count": 45,
   "id": "6d2636cd",
   "metadata": {},
   "outputs": [
    {
     "data": {
      "text/plain": [
       "' (tuple) -> tuple\\n    Returns square tuple \\n    \\n    >>> get_square_tuple((1, 2, 3, 5))\\n    (1, 5, 9, 25)\\n    '"
      ]
     },
     "execution_count": 45,
     "metadata": {},
     "output_type": "execute_result"
    }
   ],
   "source": [
    "get_square_tuple.__doc__"
   ]
  },
  {
   "cell_type": "code",
   "execution_count": 46,
   "id": "ff3cc9cd",
   "metadata": {},
   "outputs": [
    {
     "name": "stdout",
     "output_type": "stream",
     "text": [
      "**********************************************************************\n",
      "File \"__main__\", line 5, in __main__.get_square_tuple\n",
      "Failed example:\n",
      "    get_square_tuple((1, 2, 3, 5))\n",
      "Expected:\n",
      "    (1, 5, 9, 25)\n",
      "Got:\n",
      "    (1, 4, 9, 25)\n",
      "**********************************************************************\n",
      "1 items had failures:\n",
      "   1 of   1 in __main__.get_square_tuple\n",
      "***Test Failed*** 1 failures.\n"
     ]
    },
    {
     "data": {
      "text/plain": [
       "TestResults(failed=1, attempted=3)"
      ]
     },
     "execution_count": 46,
     "metadata": {},
     "output_type": "execute_result"
    }
   ],
   "source": [
    "#test get_square_tuple\n",
    "import doctest\n",
    "doctest.testmod()"
   ]
  },
  {
   "cell_type": "markdown",
   "id": "c375f05d",
   "metadata": {},
   "source": [
    "## mutables"
   ]
  },
  {
   "attachments": {
    "image.png": {
     "image/png": "[encoded data removed]"
    }
   },
   "cell_type": "markdown",
   "id": "9ca6b00f",
   "metadata": {},
   "source": [
    "![image.png](attachment:image.png)"
   ]
  },
  {
   "cell_type": "markdown",
   "id": "42d81b66",
   "metadata": {},
   "source": [
    "list,dictionaries and set are mutable.<br>\n",
    "it means if we make another var equal to them(a=[1,2],b=a)then we change one of them the others will be change."
   ]
  },
  {
   "cell_type": "code",
   "execution_count": 47,
   "id": "3a1d455d",
   "metadata": {},
   "outputs": [
    {
     "name": "stdout",
     "output_type": "stream",
     "text": [
      "a: {1: 100, 2: 3} b {1: 100, 2: 3}\n"
     ]
    }
   ],
   "source": [
    "a={1:1,2:3}\n",
    "b=a\n",
    "b[1]=100\n",
    "print(\"a:\",a,\"b\",b)"
   ]
  },
  {
   "cell_type": "markdown",
   "id": "e9d97c08",
   "metadata": {},
   "source": [
    "### how we fix it?<br>\n",
    "use b=a.copy<br>\n",
    "notice:if we have list(s)/tupels.. in list... ,we cant use copy,<br>\n",
    "    we import copy import deepcopy<br>\n",
    "    b=deepcopy(a)"
   ]
  },
  {
   "cell_type": "code",
   "execution_count": 48,
   "id": "c5e2e31d",
   "metadata": {},
   "outputs": [
    {
     "name": "stdout",
     "output_type": "stream",
     "text": [
      "[4, 6, [0, 0]] [4, 6, [8, 0]]\n"
     ]
    }
   ],
   "source": [
    "import copy\n",
    "a=[4,6,[0,0]]\n",
    "b=copy.deepcopy(a)\n",
    "b[2][0]=8\n",
    "print(a,b)\n",
    "\n",
    "c=a.copy()\n",
    "c[2][0]=4"
   ]
  },
  {
   "cell_type": "markdown",
   "id": "a4f6b337",
   "metadata": {},
   "source": [
    "### more examples "
   ]
  },
  {
   "cell_type": "code",
   "execution_count": 54,
   "id": "62879ed3",
   "metadata": {},
   "outputs": [
    {
     "name": "stdout",
     "output_type": "stream",
     "text": [
      "True\n",
      "False\n",
      "set_1 id 1390641118784\n",
      "set_2 id 1390580995008\n"
     ]
    }
   ],
   "source": [
    "set_1 = {\"Pocket\"}\n",
    "set_2 = {\"Pocket\"}\n",
    "print(set_1 == set_2)\n",
    "print(set_1 is set_2)\n",
    "print('set_1 id {}'.format(id(set_1)))\n",
    "print('set_2 id {}'.format(id(set_2)))"
   ]
  },
  {
   "cell_type": "code",
   "execution_count": 50,
   "id": "80c77987",
   "metadata": {},
   "outputs": [
    {
     "name": "stdout",
     "output_type": "stream",
     "text": [
      "True\n",
      "True\n",
      "lst_1 id 1390640697408\n",
      "lst_2 id 1390640697408\n"
     ]
    }
   ],
   "source": [
    "lst_1 = [1, 2, 3]\n",
    "\n",
    "lst_2 = lst_1\n",
    "\n",
    "print(lst_1 == lst_2)\n",
    "print(lst_1 is lst_2)\n",
    "print('lst_1 id {}'.format(id(lst_1)))\n",
    "print('lst_2 id {}'.format(id(lst_2)))\n",
    "\n"
   ]
  },
  {
   "cell_type": "code",
   "execution_count": 51,
   "id": "394ea65a",
   "metadata": {},
   "outputs": [
    {
     "name": "stdout",
     "output_type": "stream",
     "text": [
      "True\n",
      "True\n",
      "lst_1 id 1390640697408\n",
      "lst_2 id 1390640697408\n"
     ]
    }
   ],
   "source": [
    "lst_1[1] = 1000\n",
    "print(lst_1 == lst_2)\n",
    "print(lst_1 is lst_2)\n",
    "print('lst_1 id {}'.format(id(lst_1)))\n",
    "print('lst_2 id {}'.format(id(lst_2)))\n",
    "\n"
   ]
  },
  {
   "cell_type": "code",
   "execution_count": 61,
   "id": "80961353",
   "metadata": {},
   "outputs": [
    {
     "name": "stdout",
     "output_type": "stream",
     "text": [
      "{'jolia', 'Pocket', 'saman'} {'jolia', 'Pocket', 'saman'} None\n"
     ]
    },
    {
     "data": {
      "text/plain": [
       "True"
      ]
     },
     "execution_count": 61,
     "metadata": {},
     "output_type": "execute_result"
    }
   ],
   "source": [
    "#sets are mutable\n",
    "#  \n",
    "set_1 = {\"Pocket\"}\n",
    "set_2=set_1\n",
    "set_2.add(\"jolia\")\n",
    "set_3 = set_1.add(\"saman\")\n",
    "print(set_1 ,set_2,set_3) \n",
    "set_1 is set_2"
   ]
  },
  {
   "cell_type": "markdown",
   "id": "e7f67383",
   "metadata": {},
   "source": [
    "### examples:"
   ]
  },
  {
   "cell_type": "code",
   "execution_count": 65,
   "id": "5829dc62",
   "metadata": {},
   "outputs": [
    {
     "data": {
      "text/plain": [
       "[' simba', 'palan-ge', '    mahi', 'miky']"
      ]
     },
     "execution_count": 65,
     "metadata": {},
     "output_type": "execute_result"
    }
   ],
   "source": [
    "# rstrip whith amount unknown inputs.whithout using rstrip()\n",
    "def space_attacker(*b):\n",
    "    d=[]\n",
    "    for a in b:\n",
    "        c=0\n",
    "        for ch in (a[::-1]):\n",
    "            if ch ==\" \":\n",
    "                c+=1\n",
    "            else:\n",
    "                if c>0:\n",
    "                    d.append(a[:-c])\n",
    "                if c==0:\n",
    "                    d.append(a[:])\n",
    "                break\n",
    "\n",
    "    return d\n",
    "\n",
    "\n",
    "space_attacker(\" simba  \",\"palan-ge  \",\"    mahi\",\"miky  \")"
   ]
  }
 ],
 "metadata": {
  "kernelspec": {
   "display_name": "Python 3 (ipykernel)",
   "language": "python",
   "name": "python3"
  },
  "language_info": {
   "codemirror_mode": {
    "name": "ipython",
    "version": 3
   },
   "file_extension": ".py",
   "mimetype": "text/x-python",
   "name": "python",
   "nbconvert_exporter": "python",
   "pygments_lexer": "ipython3",
   "version": "3.9.12"
  }
 },
 "nbformat": 4,
 "nbformat_minor": 5
}
