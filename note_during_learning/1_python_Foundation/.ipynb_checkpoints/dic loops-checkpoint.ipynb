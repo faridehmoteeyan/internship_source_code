{
 "cells": [
  {
   "cell_type": "markdown",
   "id": "fa2665aa",
   "metadata": {},
   "source": [
    "#### loops on dictionaries "
   ]
  },
  {
   "cell_type": "code",
   "execution_count": 2,
   "id": "29bf4ca3",
   "metadata": {},
   "outputs": [],
   "source": [
    "capitals = {'Iran': 'Tehran','France': 'Paris','Italy': 'Rome','i':'Rome'}"
   ]
  },
  {
   "cell_type": "code",
   "execution_count": 3,
   "id": "82d07372",
   "metadata": {},
   "outputs": [
    {
     "name": "stdout",
     "output_type": "stream",
     "text": [
      "Iran Tehran\n",
      "France Paris\n",
      "Italy Rome\n",
      "i Rome\n"
     ]
    }
   ],
   "source": [
    "for key in capitals:\n",
    "    print(key , capitals[key])"
   ]
  },
  {
   "cell_type": "code",
   "execution_count": 4,
   "id": "1f0d872b",
   "metadata": {},
   "outputs": [
    {
     "name": "stdout",
     "output_type": "stream",
     "text": [
      "Iran\n",
      "France\n",
      "Italy\n",
      "i\n"
     ]
    }
   ],
   "source": [
    "for key in capitals.keys():\n",
    "    print(key)"
   ]
  },
  {
   "cell_type": "code",
   "execution_count": 5,
   "id": "b802e554",
   "metadata": {},
   "outputs": [
    {
     "name": "stdout",
     "output_type": "stream",
     "text": [
      "('Iran', 'Tehran')\n",
      "('France', 'Paris')\n",
      "('Italy', 'Rome')\n",
      "('i', 'Rome')\n"
     ]
    }
   ],
   "source": [
    "for items in capitals.items():\n",
    "    print(items)"
   ]
  },
  {
   "cell_type": "code",
   "execution_count": 6,
   "id": "53dc69a6",
   "metadata": {},
   "outputs": [
    {
     "name": "stdout",
     "output_type": "stream",
     "text": [
      "Iran Tehran\n",
      "France Paris\n",
      "Italy Rome\n",
      "i Rome\n"
     ]
    }
   ],
   "source": [
    "for k,v in capitals.items():\n",
    "    print(k,v)"
   ]
  },
  {
   "cell_type": "code",
   "execution_count": 8,
   "id": "fcc04a2d",
   "metadata": {},
   "outputs": [
    {
     "name": "stdout",
     "output_type": "stream",
     "text": [
      "{'Tehran': 'Iran', 'Paris': 'France', 'Rome': 'i'} \n",
      " {'Tehran': 'Iran', 'Paris': 'France', 'Rome': 'i'}\n"
     ]
    }
   ],
   "source": [
    "# create a new dictionary like capitals which the keys and values are replaced\n",
    "\n",
    "# not working .use{} instead of[]\n",
    "#replace_countries = [v:k for k,v in capitals.items()]\n",
    "replace_countries = {v:k for k,v in capitals.items()}\n",
    "\n",
    "#and with no comperhancive if:\n",
    "reverse_capitals ={}\n",
    "for k,v in capitals.items():\n",
    "    reverse_capitals[v]=k\n",
    "\n",
    "\n",
    "print(replace_countries,\n",
    "      '\\n',reverse_capitals)"
   ]
  },
  {
   "cell_type": "code",
   "execution_count": null,
   "id": "f7dfbb8e",
   "metadata": {},
   "outputs": [],
   "source": []
  },
  {
   "cell_type": "markdown",
   "id": "59444f83",
   "metadata": {},
   "source": [
    "### enumorate "
   ]
  },
  {
   "cell_type": "code",
   "execution_count": 9,
   "id": "b0237e88",
   "metadata": {},
   "outputs": [
    {
     "name": "stdout",
     "output_type": "stream",
     "text": [
      "100 <<<< Tehran\n",
      "101 <<<< Paris\n",
      "102 <<<< Rome\n",
      "103 <<<< Rome\n"
     ]
    }
   ],
   "source": [
    "# enumorate is like counter.\n",
    "capitals = {'Iran': 'Tehran','France': 'Paris','Italy': 'Rome','i':'Rome'}\n",
    "for n , (k,v) in enumerate(capitals.items(),100):\n",
    "    print(n , \"<<<<\", v)"
   ]
  },
  {
   "cell_type": "code",
   "execution_count": 14,
   "id": "5c80181b",
   "metadata": {},
   "outputs": [
    {
     "name": "stdout",
     "output_type": "stream",
     "text": [
      "1 th countrie is France,the capital isParis\n",
      "2 th countrie is Italy,the capital isRome\n",
      "3 th countrie is i,the capital isRome\n"
     ]
    }
   ],
   "source": [
    "# print all elements in capitals except the one which comes first\n",
    "for en,(k,v) in enumerate(capitals.items()):\n",
    "    if en == 0:\n",
    "        continue\n",
    "    print(f\"{en} th countrie is {k},the capital is{v}\")\n"
   ]
  },
  {
   "cell_type": "markdown",
   "id": "537dc0f7",
   "metadata": {},
   "source": [
    "### zip"
   ]
  },
  {
   "cell_type": "code",
   "execution_count": null,
   "id": "41ad5cdb",
   "metadata": {},
   "outputs": [],
   "source": [
    "# zip combines first el from a & first el from b,get them to gether as tupple(a[0],b[0]).then continue this way\n",
    "#a , b\n",
    "#c= zip (a,b) = (a[0],b[0]),(a[1],b[1]),..."
   ]
  },
  {
   "cell_type": "code",
   "execution_count": 17,
   "id": "8e2f1c84",
   "metadata": {},
   "outputs": [
    {
     "name": "stdout",
     "output_type": "stream",
     "text": [
      "[6, 8, 10, 12]\n"
     ]
    }
   ],
   "source": [
    "# add to lists:\n",
    "lst_1 = [1, 2, 3, 4]\n",
    "lst_2 = [5, 6, 7, 8]\n",
    "ser=[]\n",
    "for i in range(4):\n",
    "    ser.append(lst_1[i]+lst_2[i])\n",
    "print(ser)    "
   ]
  },
  {
   "cell_type": "code",
   "execution_count": 16,
   "id": "c738428c",
   "metadata": {},
   "outputs": [
    {
     "name": "stdout",
     "output_type": "stream",
     "text": [
      "[6, 8, 10, 12]\n"
     ]
    }
   ],
   "source": [
    "# reccomended use zip\n",
    "add = []\n",
    "for i,j in zip(lst_1,lst_2):\n",
    "    add.append(i+j)\n",
    "print(add)"
   ]
  },
  {
   "cell_type": "code",
   "execution_count": null,
   "id": "5d55971b",
   "metadata": {},
   "outputs": [],
   "source": []
  }
 ],
 "metadata": {
  "kernelspec": {
   "display_name": "Python 3 (ipykernel)",
   "language": "python",
   "name": "python3"
  },
  "language_info": {
   "codemirror_mode": {
    "name": "ipython",
    "version": 3
   },
   "file_extension": ".py",
   "mimetype": "text/x-python",
   "name": "python",
   "nbconvert_exporter": "python",
   "pygments_lexer": "ipython3",
   "version": "3.9.12"
  }
 },
 "nbformat": 4,
 "nbformat_minor": 5
}
