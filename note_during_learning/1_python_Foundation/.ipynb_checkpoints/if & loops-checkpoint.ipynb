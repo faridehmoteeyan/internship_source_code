{
 "cells": [
  {
   "cell_type": "markdown",
   "id": "fcb740c5",
   "metadata": {},
   "source": [
    "## if\n",
    "### if true and false :"
   ]
  },
  {
   "cell_type": "code",
   "execution_count": null,
   "id": "628de6c9",
   "metadata": {},
   "outputs": [],
   "source": [
    "if None: #0,None,\"\",[],empty tuple is false\n",
    "    #or var is none\n",
    "    print(\"true\")\n",
    "else:\n",
    "    print(\"is false\")"
   ]
  },
  {
   "cell_type": "code",
   "execution_count": null,
   "id": "f0b6be2a",
   "metadata": {},
   "outputs": [],
   "source": [
    "if -.7:\n",
    "    print(\"true\")\n",
    "else:\n",
    "    print(\"is false\")"
   ]
  },
  {
   "cell_type": "code",
   "execution_count": 2,
   "id": "260302a5",
   "metadata": {},
   "outputs": [
    {
     "name": "stdout",
     "output_type": "stream",
     "text": [
      "true\n"
     ]
    }
   ],
   "source": [
    "w=None\n",
    "if w is None:\n",
    "    print(\"true\")\n",
    "else:\n",
    "    print(\"is false\")"
   ]
  },
  {
   "cell_type": "code",
   "execution_count": 1,
   "id": "f942b9d6",
   "metadata": {},
   "outputs": [
    {
     "name": "stdout",
     "output_type": "stream",
     "text": [
      "item in lst[2] is 3\n"
     ]
    }
   ],
   "source": [
    "# not recommended\n",
    "lst = [1, 2, 3]\n",
    "if len(lst) != 0: \n",
    "    index = len(lst)-1\n",
    "    print(f\"item in lst[{index}] is {lst[index]}\")\n",
    "\n"
   ]
  },
  {
   "cell_type": "code",
   "execution_count": null,
   "id": "ff7adacd",
   "metadata": {},
   "outputs": [],
   "source": [
    "#easier\n",
    "lst = [1, 2, 3]\n",
    "if lst:\n",
    "    index = len(lst)-1\n",
    "    print(f\"item in lst[{index}] is {lst[index]}\")"
   ]
  },
  {
   "cell_type": "markdown",
   "id": "7a9fe8cd",
   "metadata": {},
   "source": [
    "<center> <p style = \"background-color:#FDF5E6;\"> loops </center>"
   ]
  },
  {
   "cell_type": "code",
   "execution_count": 6,
   "id": "51c76a3d",
   "metadata": {},
   "outputs": [
    {
     "data": {
      "text/plain": [
       "[5, 7, 9]"
      ]
     },
     "execution_count": 6,
     "metadata": {},
     "output_type": "execute_result"
    }
   ],
   "source": [
    "# adding to list\n",
    "list_1 = [1,2,3]\n",
    "list_2 = [4,5,6]\n",
    "\n",
    "list_add = []\n",
    "counter = 0\n",
    "for i in lis_1:\n",
    "    list_add.append(i+list_2[counter])\n",
    "    counter+=1\n",
    "list_add"
   ]
  },
  {
   "cell_type": "code",
   "execution_count": 4,
   "id": "f7f8f9f9",
   "metadata": {},
   "outputs": [
    {
     "data": {
      "text/plain": [
       "[-5, 228, 10, 408]"
      ]
     },
     "execution_count": 4,
     "metadata": {},
     "output_type": "execute_result"
    }
   ],
   "source": [
    "lst_1 = [-10, 222, 3, 400]\n",
    "lst_2 = [5, 6, 7, 8]\n",
    "\n",
    "res = []\n",
    "index_counter = 0\n",
    "for lst_item in lst_1:\n",
    "    res.append(lst_item + lst_2[index_counter])\n",
    "    index_counter += 1\n",
    "res"
   ]
  },
  {
   "cell_type": "code",
   "execution_count": 16,
   "id": "fcab81f4",
   "metadata": {},
   "outputs": [
    {
     "ename": "TypeError",
     "evalue": "can only concatenate tuple (not \"int\") to tuple",
     "output_type": "error",
     "traceback": [
      "\u001b[1;31m---------------------------------------------------------------------------\u001b[0m",
      "\u001b[1;31mTypeError\u001b[0m                                 Traceback (most recent call last)",
      "Input \u001b[1;32mIn [16]\u001b[0m, in \u001b[0;36m<cell line: 2>\u001b[1;34m()\u001b[0m\n\u001b[0;32m      1\u001b[0m res\u001b[38;5;241m=\u001b[39m()\n\u001b[0;32m      2\u001b[0m \u001b[38;5;28;01mfor\u001b[39;00m i,j \u001b[38;5;129;01min\u001b[39;00m \u001b[38;5;28mzip\u001b[39m(lst_1,lst_2):\n\u001b[1;32m----> 3\u001b[0m     res\u001b[38;5;241m=\u001b[39m\u001b[43mres\u001b[49m\u001b[38;5;241;43m+\u001b[39;49m\u001b[43mi\u001b[49m\u001b[38;5;241m+\u001b[39mj\n",
      "\u001b[1;31mTypeError\u001b[0m: can only concatenate tuple (not \"int\") to tuple"
     ]
    }
   ],
   "source": [
    "res=()\n",
    "for i,j in zip(lst_1,lst_2):\n",
    "    res=res+i+j"
   ]
  },
  {
   "cell_type": "code",
   "execution_count": 18,
   "id": "e1828fb5",
   "metadata": {},
   "outputs": [
    {
     "ename": "TypeError",
     "evalue": "can only concatenate tuple (not \"int\") to tuple",
     "output_type": "error",
     "traceback": [
      "\u001b[1;31m---------------------------------------------------------------------------\u001b[0m",
      "\u001b[1;31mTypeError\u001b[0m                                 Traceback (most recent call last)",
      "Input \u001b[1;32mIn [18]\u001b[0m, in \u001b[0;36m<cell line: 5>\u001b[1;34m()\u001b[0m\n\u001b[0;32m      4\u001b[0m res\u001b[38;5;241m=\u001b[39m()\n\u001b[0;32m      5\u001b[0m \u001b[38;5;28;01mfor\u001b[39;00m i,j \u001b[38;5;129;01min\u001b[39;00m e:\n\u001b[1;32m----> 6\u001b[0m  \u001b[38;5;28mprint\u001b[39m(\u001b[43mres\u001b[49m\u001b[38;5;241;43m+\u001b[39;49m\u001b[43mi\u001b[49m\u001b[38;5;241m+\u001b[39mj)\n\u001b[0;32m      7\u001b[0m  res\u001b[38;5;241m=\u001b[39mres\u001b[38;5;241m+\u001b[39mi\u001b[38;5;241m+\u001b[39mj\n\u001b[0;32m      8\u001b[0m \u001b[38;5;28mprint\u001b[39m(res)\n",
      "\u001b[1;31mTypeError\u001b[0m: can only concatenate tuple (not \"int\") to tuple"
     ]
    }
   ],
   "source": [
    "q=[1,2]\n",
    "f=[3,2]\n",
    "e=zip(q,f)\n",
    "res=()\n",
    "for i,j in e:\n",
    " print(res+i+j)\n",
    " res=res+i+j\n",
    "print(res)"
   ]
  },
  {
   "cell_type": "code",
   "execution_count": 24,
   "id": "aef6525a",
   "metadata": {},
   "outputs": [
    {
     "name": "stdout",
     "output_type": "stream",
     "text": [
      "[5, -3, 16, -295, 10]\n"
     ]
    }
   ],
   "source": [
    "# Task 4: sum lst_1 and lst_2 element_wise: using for and range\n",
    "lis_1 = [2,6,9,5,6,7]\n",
    "lis_2 =[3,-9,7,-300,4]\n",
    "\n",
    "ser=[]\n",
    "for i in range(0,len(lis_1)-1):\n",
    "    ser.append(lis_1[i]+lis_2[i])\n",
    "print(ser)"
   ]
  },
  {
   "cell_type": "code",
   "execution_count": 34,
   "id": "f4400244",
   "metadata": {},
   "outputs": [
    {
     "name": "stdout",
     "output_type": "stream",
     "text": [
      "12\n",
      "10\n",
      "menoo\n",
      "pooya\n"
     ]
    }
   ],
   "source": [
    "# Task 5: print lst backwards using range, although it's not recommended\n",
    "\n",
    "lst = ['pooya', 'menoo', 10, 12]\n",
    "for i in lst[::-1]:\n",
    "    print(i)"
   ]
  },
  {
   "cell_type": "code",
   "execution_count": 41,
   "id": "cfd0e329",
   "metadata": {},
   "outputs": [
    {
     "name": "stdout",
     "output_type": "stream",
     "text": [
      "12\n",
      "10\n",
      "menoo\n",
      "pooya\n"
     ]
    }
   ],
   "source": [
    "lst = ['pooya', 'menoo', 10, 12]\n",
    "for i in range(len(lst)-1,-1,-1):\n",
    "    print(lst[i])"
   ]
  },
  {
   "cell_type": "code",
   "execution_count": 40,
   "id": "00512f85",
   "metadata": {},
   "outputs": [
    {
     "data": {
      "text/plain": [
       "[36, 25, 16, 9, 4, 1]"
      ]
     },
     "execution_count": 40,
     "metadata": {},
     "output_type": "execute_result"
    }
   ],
   "source": [
    "# best wey to backward\n",
    "list_ =[1, 4, 9, 16, 25, 36]\n",
    "list_[::-1]"
   ]
  },
  {
   "cell_type": "code",
   "execution_count": 42,
   "id": "2e4e56fb",
   "metadata": {},
   "outputs": [
    {
     "name": "stdout",
     "output_type": "stream",
     "text": [
      "11\n",
      "14\n",
      "19\n",
      "26\n",
      "35\n",
      "46\n"
     ]
    }
   ],
   "source": [
    "# How not to use range, not recommended!\n",
    "list_ =[1, 4, 9, 16, 25, 36]\n",
    "for i in list_:\n",
    "    print(i+10)"
   ]
  },
  {
   "cell_type": "code",
   "execution_count": 53,
   "id": "2bda56d5",
   "metadata": {},
   "outputs": [
    {
     "name": "stdout",
     "output_type": "stream",
     "text": [
      "[10, 10, 10, 10, 10]\n",
      "[11, 14, 19, 26]\n"
     ]
    }
   ],
   "source": [
    "# How get them to a dic\n",
    "list_ =[1, 4, 9, 16, 25, 36]\n",
    "list10=[]\n",
    "for i in range(len(list_)-1):\n",
    "    list10.append(10)\n",
    "print(list10)\n",
    "ser=[]\n",
    "counter=0\n",
    "for i in range(len(list10)-1):\n",
    "    ser.append(list_[i]+list10[i])\n",
    "print(ser)\n",
    "    "
   ]
  },
  {
   "cell_type": "code",
   "execution_count": 61,
   "id": "97334276",
   "metadata": {},
   "outputs": [
    {
     "name": "stdout",
     "output_type": "stream",
     "text": [
      "odd number is   0\n",
      "odd number is   2\n",
      "odd number is   4\n",
      "odd number is   6\n",
      "odd number is   8\n",
      "odd number is   10\n"
     ]
    }
   ],
   "source": [
    "for i in range(11):\n",
    "    if i%2!=0:\n",
    "        continue \n",
    "    print(f\"odd number is   {i}\")"
   ]
  },
  {
   "cell_type": "code",
   "execution_count": 60,
   "id": "c2d809de",
   "metadata": {},
   "outputs": [
    {
     "name": "stdout",
     "output_type": "stream",
     "text": [
      "odd number is   2\n",
      "odd number is   4\n",
      "odd number is   6\n",
      "odd number is   8\n",
      "odd number is   10\n"
     ]
    }
   ],
   "source": [
    "i=0\n",
    "while i<10:\n",
    "    i+=1\n",
    "    if i%2!=0:\n",
    "        continue\n",
    "    print(f\"odd number is   {i}\")    "
   ]
  },
  {
   "cell_type": "code",
   "execution_count": null,
   "id": "82ed9b39",
   "metadata": {},
   "outputs": [],
   "source": []
  },
  {
   "cell_type": "code",
   "execution_count": null,
   "id": "f5251998",
   "metadata": {},
   "outputs": [],
   "source": []
  },
  {
   "cell_type": "code",
   "execution_count": null,
   "id": "1feecf20",
   "metadata": {},
   "outputs": [],
   "source": []
  },
  {
   "cell_type": "markdown",
   "id": "44ac9064",
   "metadata": {},
   "source": []
  },
  {
   "cell_type": "code",
   "execution_count": 37,
   "id": "ca6b140d",
   "metadata": {},
   "outputs": [
    {
     "data": {
      "text/plain": [
       "range(0, 9)"
      ]
     },
     "execution_count": 37,
     "metadata": {},
     "output_type": "execute_result"
    }
   ],
   "source": [
    "range(9)"
   ]
  },
  {
   "cell_type": "code",
   "execution_count": 38,
   "id": "436e2998",
   "metadata": {},
   "outputs": [
    {
     "data": {
      "text/plain": [
       "[2, 3, 4, 5, 6]"
      ]
     },
     "execution_count": 38,
     "metadata": {},
     "output_type": "execute_result"
    }
   ],
   "source": [
    "list(range(2,7))"
   ]
  },
  {
   "cell_type": "code",
   "execution_count": 39,
   "id": "87102a61",
   "metadata": {},
   "outputs": [
    {
     "data": {
      "text/plain": [
       "[2, 6]"
      ]
     },
     "execution_count": 39,
     "metadata": {},
     "output_type": "execute_result"
    }
   ],
   "source": [
    "list(range(2,7,4))"
   ]
  },
  {
   "cell_type": "code",
   "execution_count": 1,
   "id": "4ae93e5c",
   "metadata": {},
   "outputs": [
    {
     "name": "stdout",
     "output_type": "stream",
     "text": [
      "Collecting pandoc\n",
      "  Downloading pandoc-2.3.tar.gz (33 kB)\n",
      "  Preparing metadata (setup.py): started\n",
      "  Preparing metadata (setup.py): finished with status 'done'\n",
      "Collecting plumbum\n",
      "  Downloading plumbum-1.8.1-py3-none-any.whl (126 kB)\n",
      "     ------------------------------------ 126.7/126.7 kB 742.1 kB/s eta 0:00:00\n",
      "Collecting ply\n",
      "  Downloading ply-3.11-py2.py3-none-any.whl (49 kB)\n",
      "     ---------------------------------------- 49.6/49.6 kB 1.3 MB/s eta 0:00:00\n",
      "Requirement already satisfied: pywin32 in c:\\users\\user\\miniconda3\\lib\\site-packages (from plumbum->pandoc) (302)\n",
      "Building wheels for collected packages: pandoc\n",
      "  Building wheel for pandoc (setup.py): started\n",
      "  Building wheel for pandoc (setup.py): finished with status 'done'\n",
      "  Created wheel for pandoc: filename=pandoc-2.3-py3-none-any.whl size=33282 sha256=cef235672fc9d20010d1e6f93dc4e7e227489d9fa2301e2e57d2004c7cd3f27f\n",
      "  Stored in directory: c:\\users\\user\\appdata\\local\\pip\\cache\\wheels\\69\\e6\\a1\\1daa96d919c9e09a71473649b717b8da286f3f8d7719d1cfc5\n",
      "Successfully built pandoc\n",
      "Installing collected packages: ply, plumbum, pandoc\n",
      "Successfully installed pandoc-2.3 plumbum-1.8.1 ply-3.11\n"
     ]
    }
   ],
   "source": [
    "!pip install pandoc"
   ]
  },
  {
   "cell_type": "code",
   "execution_count": null,
   "id": "610aa122",
   "metadata": {},
   "outputs": [],
   "source": []
  }
 ],
 "metadata": {
  "kernelspec": {
   "display_name": "Python 3 (ipykernel)",
   "language": "python",
   "name": "python3"
  },
  "language_info": {
   "codemirror_mode": {
    "name": "ipython",
    "version": 3
   },
   "file_extension": ".py",
   "mimetype": "text/x-python",
   "name": "python",
   "nbconvert_exporter": "python",
   "pygments_lexer": "ipython3",
   "version": "3.9.12"
  }
 },
 "nbformat": 4,
 "nbformat_minor": 5
}
