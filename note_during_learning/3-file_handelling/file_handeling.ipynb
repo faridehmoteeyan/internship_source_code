{
 "cells": [
  {
   "cell_type": "markdown",
   "id": "e745a37e",
   "metadata": {},
   "source": [
    "# working with files"
   ]
  },
  {
   "cell_type": "markdown",
   "id": "ac32944c",
   "metadata": {},
   "source": [
    "### open and closing files "
   ]
  },
  {
   "cell_type": "markdown",
   "id": "b5e7cfb6",
   "metadata": {},
   "source": [
    "### types:\n",
    "\"r\" - Read - Default value. Opens a file for reading, error if the file does not exist\n",
    "\n",
    "\"a\" - Append - Opens a file for appending, creates the file if it does not exist\n",
    "\n",
    "\"w\" - Write - Opens a file for writing, creates the file if it does not exist\n",
    "\n",
    "\"x\" - Create - Creates the specified file, returns an error if the file exists\n",
    "\n",
    "\"+\" - read and write,like:\"r+\",\"a+\",ect\n"
   ]
  },
  {
   "cell_type": "code",
   "execution_count": 20,
   "id": "37cca3d7",
   "metadata": {},
   "outputs": [],
   "source": [
    "file=open(\"readme.txt\",\"r+\")\n",
    "file.close()"
   ]
  },
  {
   "cell_type": "code",
   "execution_count": 16,
   "id": "c5229185",
   "metadata": {},
   "outputs": [],
   "source": [
    "file_2=open(\"read.txt\",\"a+\")"
   ]
  },
  {
   "cell_type": "code",
   "execution_count": 17,
   "id": "c2cd3748",
   "metadata": {},
   "outputs": [],
   "source": [
    "file_2.close()"
   ]
  },
  {
   "cell_type": "markdown",
   "id": "2e9729f6",
   "metadata": {},
   "source": [
    "### read files"
   ]
  },
  {
   "cell_type": "code",
   "execution_count": 36,
   "id": "94033ac4",
   "metadata": {},
   "outputs": [],
   "source": [
    "#best way to open &close a file\n",
    "#just work in a cell -witch defindes\n",
    "\n",
    "with open(\"MyFile.txt\") as file: \n",
    "    data = file.read()\n"
   ]
  },
  {
   "cell_type": "code",
   "execution_count": 37,
   "id": "f6fab148",
   "metadata": {},
   "outputs": [
    {
     "name": "stdout",
     "output_type": "stream",
     "text": [
      "#joieee\n",
      "jo   kkkh\n",
      "kkk\n"
     ]
    }
   ],
   "source": [
    "print(data)"
   ]
  },
  {
   "cell_type": "code",
   "execution_count": 44,
   "id": "883d154a",
   "metadata": {},
   "outputs": [
    {
     "name": "stdout",
     "output_type": "stream",
     "text": [
      "#joieee\n",
      "jo\n"
     ]
    }
   ],
   "source": [
    "with open(\"MyFile.txt\") as file:\n",
    "    print(file.read(10))"
   ]
  },
  {
   "cell_type": "code",
   "execution_count": 40,
   "id": "4b02b8b1",
   "metadata": {},
   "outputs": [
    {
     "data": {
      "text/plain": [
       "['#joieee\\n', 'jo   kkkh\\n', 'kkk']"
      ]
     },
     "execution_count": 40,
     "metadata": {},
     "output_type": "execute_result"
    }
   ],
   "source": [
    "#read lines:put all sentences into a list\n",
    "with open(\"MyFile.txt\") as file:\n",
    "    lines=file.readlines()\n",
    "lines"
   ]
  },
  {
   "cell_type": "markdown",
   "id": "072ed423",
   "metadata": {},
   "source": [
    "### writing"
   ]
  },
  {
   "cell_type": "code",
   "execution_count": 48,
   "id": "31088b4c",
   "metadata": {},
   "outputs": [
    {
     "name": "stdout",
     "output_type": "stream",
     "text": [
      "['I hate capitalizing']\n"
     ]
    }
   ],
   "source": [
    "with open(\"ReadME.txt\",\"w+\") as f:\n",
    "    f.write(\"I hate capitalizing\")\n",
    "    \n",
    "#seek move kercell to the first line\n",
    "#if file shows empty,run open file part or just use cercell\n",
    "    f.seek(0)\n",
    "    print(f.readlines())"
   ]
  },
  {
   "cell_type": "code",
   "execution_count": 4,
   "id": "ea8d6936",
   "metadata": {},
   "outputs": [
    {
     "name": "stdout",
     "output_type": "stream",
     "text": [
      "D:\\python\\note_during_learning\\file_handelling\n"
     ]
    }
   ],
   "source": [
    "import os\n",
    "print(os.getcwd())"
   ]
  },
  {
   "cell_type": "code",
   "execution_count": null,
   "id": "6fd82265",
   "metadata": {},
   "outputs": [],
   "source": []
  }
 ],
 "metadata": {
  "kernelspec": {
   "display_name": "Python 3 (ipykernel)",
   "language": "python",
   "name": "python3"
  },
  "language_info": {
   "codemirror_mode": {
    "name": "ipython",
    "version": 3
   },
   "file_extension": ".py",
   "mimetype": "text/x-python",
   "name": "python",
   "nbconvert_exporter": "python",
   "pygments_lexer": "ipython3",
   "version": "3.9.12"
  },
  "vscode": {
   "interpreter": {
    "hash": "fb4569285eef3a3450cb62085a5b1e0da4bce0af555edc33dcf29baf3acc1368"
   }
  }
 },
 "nbformat": 4,
 "nbformat_minor": 5
}
