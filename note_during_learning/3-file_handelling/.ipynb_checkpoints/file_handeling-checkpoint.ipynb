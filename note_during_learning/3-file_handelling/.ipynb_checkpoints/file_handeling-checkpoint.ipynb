{
 "cells": [
  {
   "cell_type": "markdown",
   "id": "e745a37e",
   "metadata": {},
   "source": [
    "# working with files"
   ]
  },
  {
   "cell_type": "code",
   "execution_count": null,
   "id": "37cca3d7",
   "metadata": {},
   "outputs": [],
   "source": [
    "open()"
   ]
  }
 ],
 "metadata": {
  "kernelspec": {
   "display_name": "Python 3 (ipykernel)",
   "language": "python",
   "name": "python3"
  },
  "language_info": {
   "codemirror_mode": {
    "name": "ipython",
    "version": 3
   },
   "file_extension": ".py",
   "mimetype": "text/x-python",
   "name": "python",
   "nbconvert_exporter": "python",
   "pygments_lexer": "ipython3",
   "version": "3.9.12"
  }
 },
 "nbformat": 4,
 "nbformat_minor": 5
}
