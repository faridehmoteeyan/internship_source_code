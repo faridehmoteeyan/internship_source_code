{
 "cells": [
  {
   "cell_type": "markdown",
   "id": "d35584ed",
   "metadata": {},
   "source": [
    "\n",
    "    A list is declared in square brackets, it is mutable, stores duplicate values and elements can be accessed using indexes.\n",
    "\n",
    "    A tuple is ordered and immutable in nature, although duplicate entries can be there inside a tuple.\n",
    "\n",
    "    A set is unordered and declared in square brackets. It is not indexed and does not have duplicate entries as well.\n",
    "\n",
    "    A dictionary has key value pairs and is mutable in nature. We use square brackets to declare a dictionary.\n"
   ]
  },
  {
   "cell_type": "markdown",
   "id": "a4fb1d5b",
   "metadata": {},
   "source": [
    "### Counter "
   ]
  },
  {
   "cell_type": "code",
   "execution_count": 17,
   "id": "9f80a602",
   "metadata": {},
   "outputs": [
    {
     "name": "stdout",
     "output_type": "stream",
     "text": [
      "Counter({'p': 6, 'k': 4, 'i': 1, 'o': 1})\n",
      "dict_items([('k', 4), ('p', 6), ('i', 1), ('o', 1)])\n",
      "dict_values([4, 6, 1, 1])\n",
      "dict_keys(['k', 'p', 'i', 'o'])\n",
      "[(1, 4), (2, 3)]\n",
      "[0, 0, 1, 1, 1, 1, 2, 2, 2, 3, 3, 4]\n"
     ]
    }
   ],
   "source": [
    "#چون کلا 4 تا نوع داده ست تاپل دیکشنری و لیست داریم با کالکشن مدل های بیشتری خواهیم داشت\n",
    "#دیکشنری میسازه\n",
    "#کتنر اسم کاراکتر را به عنوان کی و تعداد تکرار را به عنوان ولیو میگیرد\n",
    "\n",
    "\n",
    "from collections import Counter\n",
    "\n",
    "my_counter = Counter(\"kkkkpppppiop\")\n",
    "print(my_counter)\n",
    "\n",
    "print(my_counter.items())\n",
    "print(my_counter.values())\n",
    "print(my_counter.keys())\n",
    "\n",
    "my_list = [0, 1, 0, 1, 2, 1, 1, 3, 2, 3, 2, 4]\n",
    "my_counter = Counter(my_list)\n",
    "\n",
    "# most comen item\n",
    "print(my_counter.most_common(2))\n",
    "\n",
    "# sorted with elements\n",
    "print(list(my_counter.elements()))\n",
    "\n"
   ]
  },
  {
   "cell_type": "markdown",
   "id": "f19cb7ee",
   "metadata": {},
   "source": [
    "### namedtuple "
   ]
  },
  {
   "cell_type": "code",
   "execution_count": 29,
   "id": "12144a72",
   "metadata": {},
   "outputs": [
    {
     "name": "stdout",
     "output_type": "stream",
     "text": [
      "\n",
      "national_airport(name='khomaini', location='tehran')\n",
      "khomaini\n",
      "tehran\n",
      "('name', 'location')\n",
      "<class '__main__.national_airport'>\n",
      "\n"
     ]
    },
    {
     "data": {
      "text/plain": [
       "national_airport(name='alen', location='welez')"
      ]
     },
     "execution_count": 29,
     "metadata": {},
     "output_type": "execute_result"
    }
   ],
   "source": [
    "#مثل تاپل میمونه فقط بهمون اجازه میده به تاپل و داخلش اسم بدیم\n",
    "from collections import namedtuple\n",
    "airplane = namedtuple(\"national_airport\" ,(\"name\",\"location\"))\n",
    "\n",
    "iran_airport = airplane(\"khomaini\",\"tehran\")\n",
    "print(f\"\"\"\n",
    "{iran_airport}\n",
    "{iran_airport.name}\n",
    "{iran_airport.location}\n",
    "{iran_airport._fields}\n",
    "{type(iran_airport)}\n",
    "\"\"\")\n",
    "\n",
    "velez_airport = airplane(\"alen\",\"welez\")\n",
    "velez_airport\n"
   ]
  },
  {
   "cell_type": "markdown",
   "id": "e89720d3",
   "metadata": {},
   "source": [
    "### OrderedDict"
   ]
  },
  {
   "cell_type": "code",
   "execution_count": 57,
   "id": "e8745175",
   "metadata": {},
   "outputs": [
    {
     "name": "stdout",
     "output_type": "stream",
     "text": [
      "{'a': 1, 'e': 5, 'c': 3, 'd': 4, 'b': 5}\n",
      "OrderedDict([('a', 1), ('e', 8), ('c', 3), ('d', 4), ('b', 5)])\n",
      "a 1\n",
      "e 8\n",
      "c 3\n",
      "d 4\n",
      "b 5\n",
      "__\n",
      "a 1\n",
      "e 5\n",
      "c 3\n",
      "d 4\n",
      "b 5\n"
     ]
    }
   ],
   "source": [
    "# ترتیب دیکشنری رو حفظ میکنه ولی انگار الان دیگه بدرد نمیخوره\n",
    "#اما خود  پایتون میگه حتما اجراش کنید\n",
    "ordinary_dict = {}\n",
    "ordinary_dict['a'] = 1\n",
    "ordinary_dict['e'] = 5\n",
    "ordinary_dict['c'] = 3\n",
    "ordinary_dict['d'] = 4\n",
    "ordinary_dict['b'] = 5\n",
    "\n",
    "\n",
    "print(ordinary_dict)\n",
    "\n",
    "from collections import OrderedDict\n",
    "ordered_dict = OrderedDict()\n",
    "ordered_dict['a'] = 1\n",
    "ordered_dict['e'] = 8\n",
    "ordered_dict['c'] = 3\n",
    "ordered_dict['d'] = 4\n",
    "ordered_dict['b'] = 5\n",
    "print(ordered_dict)\n",
    "\n",
    "for k, v in ordered_dict.items():\n",
    "    print(k, v)\n",
    "print(\"__\")\n",
    "for k, v in ordinary_dict.items():\n",
    "    print(k, v)"
   ]
  },
  {
   "cell_type": "markdown",
   "id": "e8dd666b",
   "metadata": {},
   "source": [
    "### deque "
   ]
  },
  {
   "cell_type": "code",
   "execution_count": null,
   "id": "4985e584",
   "metadata": {},
   "outputs": [],
   "source": [
    "#برای راجت اضافه و حذف \n",
    "from collections import deque\n"
   ]
  }
 ],
 "metadata": {
  "kernelspec": {
   "display_name": "Python 3 (ipykernel)",
   "language": "python",
   "name": "python3"
  },
  "language_info": {
   "codemirror_mode": {
    "name": "ipython",
    "version": 3
   },
   "file_extension": ".py",
   "mimetype": "text/x-python",
   "name": "python",
   "nbconvert_exporter": "python",
   "pygments_lexer": "ipython3",
   "version": "3.9.12"
  }
 },
 "nbformat": 4,
 "nbformat_minor": 5
}
