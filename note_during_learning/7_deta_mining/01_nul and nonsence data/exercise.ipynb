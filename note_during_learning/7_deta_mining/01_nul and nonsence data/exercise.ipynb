{
 "cells": [
  {
   "cell_type": "code",
   "execution_count": 50,
   "id": "39f8a1bb",
   "metadata": {},
   "outputs": [],
   "source": [
    "import pandas as pd\n",
    "import numpy as np\n",
    "import matplotlib.pyplot as plt"
   ]
  },
  {
   "cell_type": "code",
   "execution_count": 51,
   "id": "2ea2a11a",
   "metadata": {},
   "outputs": [],
   "source": [
    "deta = pd.read_csv(\"D:\\\\python\\\\clone\\\\DataMiningwithPython\\\\Session01\\\\preparation_data.csv\")"
   ]
  },
  {
   "cell_type": "code",
   "execution_count": 52,
   "id": "c5ca3a68",
   "metadata": {},
   "outputs": [
    {
     "name": "stdout",
     "output_type": "stream",
     "text": [
      "<class 'pandas.core.frame.DataFrame'>\n",
      "RangeIndex: 547 entries, 0 to 546\n",
      "Data columns (total 3 columns):\n",
      " #   Column       Non-Null Count  Dtype \n",
      "---  ------       --------------  ----- \n",
      " 0   Weight       547 non-null    object\n",
      " 1   Cholesterol  547 non-null    object\n",
      " 2   Gender       547 non-null    int64 \n",
      "dtypes: int64(1), object(2)\n",
      "memory usage: 12.9+ KB\n"
     ]
    }
   ],
   "source": [
    "deta.info()"
   ]
  },
  {
   "cell_type": "code",
   "execution_count": 53,
   "id": "29d97b82",
   "metadata": {},
   "outputs": [
    {
     "data": {
      "text/plain": [
       "array(['102', '115', '140', '1130', '198', '114', '145', '191', '186',\n",
       "       '104', '188', '96', '156', '125', '178', '109', '168', '152',\n",
       "       '133', '153', '107', '199', '-140', '95', '183', '108', '190',\n",
       "       '174', '149', '169', '138', '151', '106', '195', '129', '166',\n",
       "       '197', '148', '117', '193', '170', '130', '134', '128', '105',\n",
       "       '110', '164', '157', '124', '113', '150', '100', '139', '101',\n",
       "       '187', '137', '121', '132', '180', '122', '185', '123', '119',\n",
       "       '126', '116', '144', '154', '97', '146', '118', '179', '142',\n",
       "       '131', '176', '103', '120', '143', '203', '192', '112', '173',\n",
       "       '141', '175', '181', '111', '200', '167', '196', '171', '135',\n",
       "       '184', '161', '159', '158', '201', '127', '172', '1', '155', '160',\n",
       "       '136', '182', '147', '99', '98', '177', '194', '189', 'menoo',\n",
       "       '162', '-172'], dtype=object)"
      ]
     },
     "execution_count": 53,
     "metadata": {},
     "output_type": "execute_result"
    }
   ],
   "source": [
    "deta[\"Weight\"].unique()"
   ]
  },
  {
   "cell_type": "code",
   "execution_count": 54,
   "id": "7e2b964b",
   "metadata": {},
   "outputs": [],
   "source": [
    "strng = deta.index[deta[\"Weight\"]==\"menoo\"]\n",
    "deta.drop(index=strng,inplace=True)"
   ]
  },
  {
   "cell_type": "code",
   "execution_count": 55,
   "id": "76626d9a",
   "metadata": {},
   "outputs": [],
   "source": [
    "deta[\"Weight\"] = deta[\"Weight\"].astype(\"float\")\n"
   ]
  },
  {
   "cell_type": "code",
   "execution_count": 56,
   "id": "3463c843",
   "metadata": {
    "scrolled": false
   },
   "outputs": [
    {
     "name": "stdout",
     "output_type": "stream",
     "text": [
      "<class 'pandas.core.frame.DataFrame'>\n",
      "Int64Index: 546 entries, 0 to 546\n",
      "Data columns (total 3 columns):\n",
      " #   Column       Non-Null Count  Dtype  \n",
      "---  ------       --------------  -----  \n",
      " 0   Weight       546 non-null    float64\n",
      " 1   Cholesterol  546 non-null    object \n",
      " 2   Gender       546 non-null    int64  \n",
      "dtypes: float64(1), int64(1), object(1)\n",
      "memory usage: 17.1+ KB\n"
     ]
    }
   ],
   "source": [
    "deta.info()"
   ]
  },
  {
   "cell_type": "code",
   "execution_count": 58,
   "id": "91e506d1",
   "metadata": {},
   "outputs": [
    {
     "data": {
      "text/plain": [
       "Weight         4\n",
       "Cholesterol    4\n",
       "Gender         4\n",
       "dtype: int64"
      ]
     },
     "execution_count": 58,
     "metadata": {},
     "output_type": "execute_result"
    }
   ],
   "source": [
    "deta[~((deta.Weight>60) & (deta.Weight<260))].count()"
   ]
  },
  {
   "cell_type": "code",
   "execution_count": 59,
   "id": "ea6699cc",
   "metadata": {},
   "outputs": [
    {
     "data": {
      "text/html": [
       "<div>\n",
       "<style scoped>\n",
       "    .dataframe tbody tr th:only-of-type {\n",
       "        vertical-align: middle;\n",
       "    }\n",
       "\n",
       "    .dataframe tbody tr th {\n",
       "        vertical-align: top;\n",
       "    }\n",
       "\n",
       "    .dataframe thead th {\n",
       "        text-align: right;\n",
       "    }\n",
       "</style>\n",
       "<table border=\"1\" class=\"dataframe\">\n",
       "  <thead>\n",
       "    <tr style=\"text-align: right;\">\n",
       "      <th></th>\n",
       "      <th>Weight</th>\n",
       "      <th>Gender</th>\n",
       "    </tr>\n",
       "  </thead>\n",
       "  <tbody>\n",
       "    <tr>\n",
       "      <th>count</th>\n",
       "      <td>542.000000</td>\n",
       "      <td>542.000000</td>\n",
       "    </tr>\n",
       "    <tr>\n",
       "      <th>mean</th>\n",
       "      <td>143.774908</td>\n",
       "      <td>0.529520</td>\n",
       "    </tr>\n",
       "    <tr>\n",
       "      <th>std</th>\n",
       "      <td>30.874097</td>\n",
       "      <td>0.542173</td>\n",
       "    </tr>\n",
       "    <tr>\n",
       "      <th>min</th>\n",
       "      <td>95.000000</td>\n",
       "      <td>0.000000</td>\n",
       "    </tr>\n",
       "    <tr>\n",
       "      <th>25%</th>\n",
       "      <td>116.250000</td>\n",
       "      <td>0.000000</td>\n",
       "    </tr>\n",
       "    <tr>\n",
       "      <th>50%</th>\n",
       "      <td>141.000000</td>\n",
       "      <td>1.000000</td>\n",
       "    </tr>\n",
       "    <tr>\n",
       "      <th>75%</th>\n",
       "      <td>171.750000</td>\n",
       "      <td>1.000000</td>\n",
       "    </tr>\n",
       "    <tr>\n",
       "      <th>max</th>\n",
       "      <td>203.000000</td>\n",
       "      <td>4.000000</td>\n",
       "    </tr>\n",
       "  </tbody>\n",
       "</table>\n",
       "</div>"
      ],
      "text/plain": [
       "           Weight      Gender\n",
       "count  542.000000  542.000000\n",
       "mean   143.774908    0.529520\n",
       "std     30.874097    0.542173\n",
       "min     95.000000    0.000000\n",
       "25%    116.250000    0.000000\n",
       "50%    141.000000    1.000000\n",
       "75%    171.750000    1.000000\n",
       "max    203.000000    4.000000"
      ]
     },
     "execution_count": 59,
     "metadata": {},
     "output_type": "execute_result"
    }
   ],
   "source": [
    "deta = deta[(deta.Weight>60) & (deta.Weight<260)]\n",
    "deta.describe()"
   ]
  },
  {
   "cell_type": "code",
   "execution_count": 60,
   "id": "dd59d9e3",
   "metadata": {},
   "outputs": [],
   "source": [
    "deta.Cholesterol.unique()\n",
    "deta.drop(index = deta.index[deta.Cholesterol == \"pooya\"],inplace=True)"
   ]
  },
  {
   "cell_type": "code",
   "execution_count": 61,
   "id": "16fe1586",
   "metadata": {},
   "outputs": [],
   "source": [
    "deta.Cholesterol = deta.Cholesterol.astype('float')"
   ]
  },
  {
   "cell_type": "code",
   "execution_count": 62,
   "id": "db794d0f",
   "metadata": {},
   "outputs": [
    {
     "data": {
      "text/plain": [
       "count     541.000000\n",
       "mean      173.060998\n",
       "std        74.858174\n",
       "min      -158.000000\n",
       "25%       137.000000\n",
       "50%       170.000000\n",
       "75%       208.000000\n",
       "max      1208.000000\n",
       "Name: Cholesterol, dtype: float64"
      ]
     },
     "execution_count": 62,
     "metadata": {},
     "output_type": "execute_result"
    }
   ],
   "source": [
    "deta.Cholesterol.describe()"
   ]
  },
  {
   "cell_type": "code",
   "execution_count": 68,
   "id": "b22536ba",
   "metadata": {},
   "outputs": [
    {
     "data": {
      "text/html": [
       "<div>\n",
       "<style scoped>\n",
       "    .dataframe tbody tr th:only-of-type {\n",
       "        vertical-align: middle;\n",
       "    }\n",
       "\n",
       "    .dataframe tbody tr th {\n",
       "        vertical-align: top;\n",
       "    }\n",
       "\n",
       "    .dataframe thead th {\n",
       "        text-align: right;\n",
       "    }\n",
       "</style>\n",
       "<table border=\"1\" class=\"dataframe\">\n",
       "  <thead>\n",
       "    <tr style=\"text-align: right;\">\n",
       "      <th></th>\n",
       "      <th>Weight</th>\n",
       "      <th>Cholesterol</th>\n",
       "      <th>Gender</th>\n",
       "    </tr>\n",
       "  </thead>\n",
       "  <tbody>\n",
       "    <tr>\n",
       "      <th>0</th>\n",
       "      <td>102.0</td>\n",
       "      <td>111.0</td>\n",
       "      <td>1</td>\n",
       "    </tr>\n",
       "    <tr>\n",
       "      <th>1</th>\n",
       "      <td>115.0</td>\n",
       "      <td>135.0</td>\n",
       "      <td>1</td>\n",
       "    </tr>\n",
       "    <tr>\n",
       "      <th>2</th>\n",
       "      <td>115.0</td>\n",
       "      <td>136.0</td>\n",
       "      <td>1</td>\n",
       "    </tr>\n",
       "    <tr>\n",
       "      <th>3</th>\n",
       "      <td>140.0</td>\n",
       "      <td>167.0</td>\n",
       "      <td>0</td>\n",
       "    </tr>\n",
       "    <tr>\n",
       "      <th>5</th>\n",
       "      <td>198.0</td>\n",
       "      <td>227.0</td>\n",
       "      <td>1</td>\n",
       "    </tr>\n",
       "    <tr>\n",
       "      <th>...</th>\n",
       "      <td>...</td>\n",
       "      <td>...</td>\n",
       "      <td>...</td>\n",
       "    </tr>\n",
       "    <tr>\n",
       "      <th>541</th>\n",
       "      <td>116.0</td>\n",
       "      <td>130.0</td>\n",
       "      <td>1</td>\n",
       "    </tr>\n",
       "    <tr>\n",
       "      <th>542</th>\n",
       "      <td>172.0</td>\n",
       "      <td>207.0</td>\n",
       "      <td>1</td>\n",
       "    </tr>\n",
       "    <tr>\n",
       "      <th>544</th>\n",
       "      <td>107.0</td>\n",
       "      <td>115.0</td>\n",
       "      <td>1</td>\n",
       "    </tr>\n",
       "    <tr>\n",
       "      <th>545</th>\n",
       "      <td>117.0</td>\n",
       "      <td>147.0</td>\n",
       "      <td>1</td>\n",
       "    </tr>\n",
       "    <tr>\n",
       "      <th>546</th>\n",
       "      <td>148.0</td>\n",
       "      <td>176.0</td>\n",
       "      <td>1</td>\n",
       "    </tr>\n",
       "  </tbody>\n",
       "</table>\n",
       "<p>536 rows × 3 columns</p>\n",
       "</div>"
      ],
      "text/plain": [
       "     Weight  Cholesterol  Gender\n",
       "0     102.0        111.0       1\n",
       "1     115.0        135.0       1\n",
       "2     115.0        136.0       1\n",
       "3     140.0        167.0       0\n",
       "5     198.0        227.0       1\n",
       "..      ...          ...     ...\n",
       "541   116.0        130.0       1\n",
       "542   172.0        207.0       1\n",
       "544   107.0        115.0       1\n",
       "545   117.0        147.0       1\n",
       "546   148.0        176.0       1\n",
       "\n",
       "[536 rows x 3 columns]"
      ]
     },
     "execution_count": 68,
     "metadata": {},
     "output_type": "execute_result"
    }
   ],
   "source": [
    "deta = deta[(deta.Cholesterol>40) & (deta.Cholesterol<300)]\n",
    "deta"
   ]
  },
  {
   "cell_type": "code",
   "execution_count": 73,
   "id": "9fd7b63e",
   "metadata": {},
   "outputs": [
    {
     "data": {
      "text/plain": [
       "1    275\n",
       "0    258\n",
       "3      2\n",
       "4      1\n",
       "Name: Gender, dtype: int64"
      ]
     },
     "execution_count": 73,
     "metadata": {},
     "output_type": "execute_result"
    }
   ],
   "source": [
    "deta.Gender.value_counts()"
   ]
  },
  {
   "cell_type": "code",
   "execution_count": 101,
   "id": "dde39850",
   "metadata": {},
   "outputs": [],
   "source": [
    "index_gender = deta.index[deta.Gender>1]\n",
    "deta.drop(index = index_gender,inplace=True)"
   ]
  },
  {
   "cell_type": "code",
   "execution_count": 102,
   "id": "18c8e3ae",
   "metadata": {},
   "outputs": [
    {
     "name": "stdout",
     "output_type": "stream",
     "text": [
      "<class 'pandas.core.frame.DataFrame'>\n",
      "Int64Index: 533 entries, 0 to 546\n",
      "Data columns (total 3 columns):\n",
      " #   Column       Non-Null Count  Dtype  \n",
      "---  ------       --------------  -----  \n",
      " 0   Weight       533 non-null    float64\n",
      " 1   Cholesterol  533 non-null    float64\n",
      " 2   Gender       533 non-null    int64  \n",
      "dtypes: float64(2), int64(1)\n",
      "memory usage: 16.7 KB\n"
     ]
    }
   ],
   "source": [
    "deta.info()"
   ]
  },
  {
   "cell_type": "raw",
   "id": "2d39fbc6",
   "metadata": {},
   "source": []
  }
 ],
 "metadata": {
  "kernelspec": {
   "display_name": "Python 3 (ipykernel)",
   "language": "python",
   "name": "python3"
  },
  "language_info": {
   "codemirror_mode": {
    "name": "ipython",
    "version": 3
   },
   "file_extension": ".py",
   "mimetype": "text/x-python",
   "name": "python",
   "nbconvert_exporter": "python",
   "pygments_lexer": "ipython3",
   "version": "3.9.12"
  }
 },
 "nbformat": 4,
 "nbformat_minor": 5
}
