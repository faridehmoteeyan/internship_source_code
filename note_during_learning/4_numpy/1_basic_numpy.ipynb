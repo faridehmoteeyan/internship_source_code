{
 "cells": [
  {
   "cell_type": "code",
   "execution_count": 3,
   "id": "d002e34d",
   "metadata": {},
   "outputs": [],
   "source": [
    "import numpy as np"
   ]
  },
  {
   "cell_type": "markdown",
   "id": "b1a3598c",
   "metadata": {},
   "source": [
    "### 1d-arrey "
   ]
  },
  {
   "cell_type": "code",
   "execution_count": 7,
   "id": "446f3702",
   "metadata": {},
   "outputs": [
    {
     "data": {
      "text/plain": [
       "array([1, 2, 3, 4])"
      ]
     },
     "execution_count": 7,
     "metadata": {},
     "output_type": "execute_result"
    }
   ],
   "source": [
    "a=np.array([1,2,3,4])\n",
    "a"
   ]
  },
  {
   "cell_type": "code",
   "execution_count": 4,
   "id": "693ec185",
   "metadata": {},
   "outputs": [
    {
     "data": {
      "text/plain": [
       "(1, (4,), 4, 10, dtype('int32'))"
      ]
     },
     "execution_count": 4,
     "metadata": {},
     "output_type": "execute_result"
    }
   ],
   "source": [
    "a.ndim , a.shape, a.size,a.sum(),a.dtype"
   ]
  },
  {
   "cell_type": "markdown",
   "id": "bde8057d",
   "metadata": {},
   "source": [
    "### changing types "
   ]
  },
  {
   "cell_type": "code",
   "execution_count": 93,
   "id": "604b886e",
   "metadata": {},
   "outputs": [
    {
     "data": {
      "text/plain": [
       "array([ 1,  4,  9,  0, -7])"
      ]
     },
     "execution_count": 93,
     "metadata": {},
     "output_type": "execute_result"
    }
   ],
   "source": [
    "a=np.array([1,4,9,0,-7.0],dtype=np.int32)\n",
    "a"
   ]
  },
  {
   "cell_type": "code",
   "execution_count": 102,
   "id": "cbd6a7d2",
   "metadata": {},
   "outputs": [
    {
     "data": {
      "text/plain": [
       "array([ 1.,  4.,  9.,  0., -7.])"
      ]
     },
     "execution_count": 102,
     "metadata": {},
     "output_type": "execute_result"
    }
   ],
   "source": [
    "a.astype(np.float64)\n"
   ]
  },
  {
   "cell_type": "markdown",
   "id": "f16257f2",
   "metadata": {},
   "source": [
    "### nd_array\n"
   ]
  },
  {
   "cell_type": "code",
   "execution_count": 45,
   "id": "b422505a",
   "metadata": {},
   "outputs": [
    {
     "data": {
      "text/plain": [
       "array([[1., 2.],\n",
       "       [3., 4.],\n",
       "       [9., 5.],\n",
       "       [8., 5.]])"
      ]
     },
     "execution_count": 45,
     "metadata": {},
     "output_type": "execute_result"
    }
   ],
   "source": [
    "lst=[[1,2],[3,4],(9,5),(8,5,)]\n",
    "b=np.array(lst,dtype=np.float64)\n",
    "b"
   ]
  },
  {
   "cell_type": "code",
   "execution_count": 47,
   "id": "90ed1f8c",
   "metadata": {},
   "outputs": [
    {
     "data": {
      "text/plain": [
       "(2, (4, 2), 8)"
      ]
     },
     "execution_count": 47,
     "metadata": {},
     "output_type": "execute_result"
    }
   ],
   "source": [
    "b.ndim ,b.shape ,b.size"
   ]
  },
  {
   "cell_type": "markdown",
   "id": "100070d1",
   "metadata": {},
   "source": [
    "### create numpy by functions "
   ]
  },
  {
   "cell_type": "code",
   "execution_count": 59,
   "id": "97cda5a4",
   "metadata": {},
   "outputs": [
    {
     "data": {
      "text/plain": [
       "array([[0., 0.],\n",
       "       [0., 0.]])"
      ]
     },
     "execution_count": 59,
     "metadata": {},
     "output_type": "execute_result"
    }
   ],
   "source": [
    "np.zeros((2,2))"
   ]
  },
  {
   "cell_type": "code",
   "execution_count": 60,
   "id": "96a5fda4",
   "metadata": {},
   "outputs": [
    {
     "data": {
      "text/plain": [
       "array([[0., 0.],\n",
       "       [0., 0.]])"
      ]
     },
     "execution_count": 60,
     "metadata": {},
     "output_type": "execute_result"
    }
   ],
   "source": [
    "np.empty((2,2))"
   ]
  },
  {
   "cell_type": "code",
   "execution_count": 57,
   "id": "d8c0e881",
   "metadata": {
    "scrolled": true
   },
   "outputs": [
    {
     "data": {
      "text/plain": [
       "array([[3.36109123e+160, 2.31461371e-152],\n",
       "       [5.46519796e+241, 1.02189324e-152]])"
      ]
     },
     "execution_count": 57,
     "metadata": {},
     "output_type": "execute_result"
    }
   ],
   "source": [
    "m+n"
   ]
  },
  {
   "cell_type": "code",
   "execution_count": 63,
   "id": "446d54c6",
   "metadata": {},
   "outputs": [
    {
     "data": {
      "text/plain": [
       "array([ 0. ,  2.5,  5. ,  7.5, 10. ])"
      ]
     },
     "execution_count": 63,
     "metadata": {},
     "output_type": "execute_result"
    }
   ],
   "source": [
    "# divide distance(0-10) into 5 parts\n",
    "np.linspace(0,10,5)"
   ]
  },
  {
   "cell_type": "code",
   "execution_count": 67,
   "id": "9d80acc8",
   "metadata": {},
   "outputs": [
    {
     "data": {
      "text/plain": [
       "array([10,  8,  6,  4,  2])"
      ]
     },
     "execution_count": 67,
     "metadata": {},
     "output_type": "execute_result"
    }
   ],
   "source": [
    "np.arange(10,0,-2)"
   ]
  },
  {
   "cell_type": "code",
   "execution_count": 85,
   "id": "22ad6c42",
   "metadata": {},
   "outputs": [
    {
     "data": {
      "text/plain": [
       "array([[1, 1],\n",
       "       [1, 2],\n",
       "       [0, 2],\n",
       "       [1, 1],\n",
       "       [1, 2]])"
      ]
     },
     "execution_count": 85,
     "metadata": {},
     "output_type": "execute_result"
    }
   ],
   "source": [
    "np.random.binomial(n=2,p=.5,size=(5,2))"
   ]
  },
  {
   "cell_type": "markdown",
   "id": "171c45f9",
   "metadata": {},
   "source": [
    "### staking"
   ]
  },
  {
   "cell_type": "code",
   "execution_count": 88,
   "id": "f04e9c69",
   "metadata": {},
   "outputs": [],
   "source": [
    "a=np.random.standard_normal((2,3))\n",
    "b=np.random.standard_normal((2,3))\n",
    "c=np.ones((2,3))"
   ]
  },
  {
   "cell_type": "code",
   "execution_count": 89,
   "id": "a68d38e3",
   "metadata": {},
   "outputs": [
    {
     "data": {
      "text/plain": [
       "array([[ 0.76483698,  0.73853363, -0.28667984],\n",
       "       [ 0.38591736,  0.34903553, -0.97739957],\n",
       "       [-0.99310894, -1.2434124 ,  0.98218474],\n",
       "       [-0.55903279, -0.04472758, -1.57163508],\n",
       "       [ 1.        ,  1.        ,  1.        ],\n",
       "       [ 1.        ,  1.        ,  1.        ]])"
      ]
     },
     "execution_count": 89,
     "metadata": {},
     "output_type": "execute_result"
    }
   ],
   "source": [
    "np.vstack((a,b,c))"
   ]
  },
  {
   "cell_type": "code",
   "execution_count": 91,
   "id": "4acc2024",
   "metadata": {},
   "outputs": [
    {
     "data": {
      "text/plain": [
       "array([[ 0.76483698,  0.73853363, -0.28667984,  1.        ,  1.        ,\n",
       "         1.        ],\n",
       "       [ 0.38591736,  0.34903553, -0.97739957,  1.        ,  1.        ,\n",
       "         1.        ]])"
      ]
     },
     "execution_count": 91,
     "metadata": {},
     "output_type": "execute_result"
    }
   ],
   "source": [
    "np.hstack((a,c))"
   ]
  },
  {
   "cell_type": "code",
   "execution_count": 99,
   "id": "d456c75a",
   "metadata": {},
   "outputs": [
    {
     "data": {
      "text/plain": [
       "(array([[1., 1., 1.],\n",
       "        [1., 1., 1.]]),\n",
       " array([[1., 1.],\n",
       "        [1., 1.],\n",
       "        [1., 1.]]))"
      ]
     },
     "execution_count": 99,
     "metadata": {},
     "output_type": "execute_result"
    }
   ],
   "source": [
    "c,c.transpose()"
   ]
  },
  {
   "cell_type": "markdown",
   "id": "5bd71aaf",
   "metadata": {},
   "source": [
    "### another wy to goin array"
   ]
  },
  {
   "cell_type": "code",
   "execution_count": 6,
   "id": "af475fe2",
   "metadata": {},
   "outputs": [
    {
     "name": "stdout",
     "output_type": "stream",
     "text": [
      "[[1 2 5 6 9]\n",
      " [3 4 7 8 0]] \n",
      " [[1 2 5 6 9]\n",
      " [3 4 7 8 0]]\n"
     ]
    }
   ],
   "source": [
    "arr1 = np.array([[1, 2], [3, 4]])\n",
    "\n",
    "arr2 = np.array([[5, 6, 9], [7, 8, 0]])\n",
    "\n",
    "arr = np.concatenate((arr1, arr2), axis=1)\n",
    "asr = np.hstack((arr1,arr2))\n",
    "\n",
    "print(arr,\"\\n\",asr)"
   ]
  },
  {
   "cell_type": "markdown",
   "id": "3cf0b8f5",
   "metadata": {},
   "source": [
    "### dummy aray  \n",
    "avoid them.a=a.T"
   ]
  },
  {
   "cell_type": "code",
   "execution_count": 4,
   "id": "112cb645",
   "metadata": {},
   "outputs": [
    {
     "data": {
      "text/plain": [
       "((4,), array([1, 2, 3, 4]))"
      ]
     },
     "execution_count": 4,
     "metadata": {},
     "output_type": "execute_result"
    }
   ],
   "source": [
    "a = np.array([1, 2, 3, 4])\n",
    "a.shape, a"
   ]
  },
  {
   "cell_type": "code",
   "execution_count": 5,
   "id": "a5ea232b",
   "metadata": {},
   "outputs": [],
   "source": [
    "b=a.T"
   ]
  },
  {
   "cell_type": "code",
   "execution_count": 6,
   "id": "57097036",
   "metadata": {},
   "outputs": [
    {
     "data": {
      "text/plain": [
       "(True, array([1, 2, 3, 4]), array([1, 2, 3, 4]))"
      ]
     },
     "execution_count": 6,
     "metadata": {},
     "output_type": "execute_result"
    }
   ],
   "source": [
    "np.all(a==b),a,b"
   ]
  },
  {
   "cell_type": "code",
   "execution_count": 18,
   "id": "c31f9046",
   "metadata": {},
   "outputs": [
    {
     "data": {
      "text/plain": [
       "(array([[1, 2]]), (1, 2))"
      ]
     },
     "execution_count": 18,
     "metadata": {},
     "output_type": "execute_result"
    }
   ],
   "source": [
    "a=np.array([[1,2]])\n",
    "a, a.shape"
   ]
  },
  {
   "cell_type": "code",
   "execution_count": 21,
   "id": "29bf1f73",
   "metadata": {},
   "outputs": [
    {
     "data": {
      "text/plain": [
       "((2, 1),\n",
       " array([[1],\n",
       "        [2]]))"
      ]
     },
     "execution_count": 21,
     "metadata": {},
     "output_type": "execute_result"
    }
   ],
   "source": [
    "b=a.T\n",
    "b.shape , b"
   ]
  },
  {
   "cell_type": "code",
   "execution_count": 20,
   "id": "0435c3ff",
   "metadata": {},
   "outputs": [
    {
     "data": {
      "text/plain": [
       "array([[ 0,  1],\n",
       "       [-1,  0]])"
      ]
     },
     "execution_count": 20,
     "metadata": {},
     "output_type": "execute_result"
    }
   ],
   "source": [
    "a-b"
   ]
  },
  {
   "cell_type": "code",
   "execution_count": 146,
   "id": "d63c5577",
   "metadata": {},
   "outputs": [
    {
     "data": {
      "text/plain": [
       "False"
      ]
     },
     "execution_count": 146,
     "metadata": {},
     "output_type": "execute_result"
    }
   ],
   "source": [
    "np.all(a==b)"
   ]
  },
  {
   "cell_type": "markdown",
   "id": "28ee2aad",
   "metadata": {},
   "source": [
    "### save & load\n"
   ]
  },
  {
   "cell_type": "code",
   "execution_count": 156,
   "id": "d8d94a79",
   "metadata": {},
   "outputs": [],
   "source": [
    "np.save('a.npy',a)"
   ]
  },
  {
   "cell_type": "code",
   "execution_count": 157,
   "id": "74ea9357",
   "metadata": {},
   "outputs": [],
   "source": [
    "a=np.load('a.npy')"
   ]
  },
  {
   "cell_type": "code",
   "execution_count": 158,
   "id": "bb24573f",
   "metadata": {},
   "outputs": [
    {
     "data": {
      "text/plain": [
       "array([[1, 2]])"
      ]
     },
     "execution_count": 158,
     "metadata": {},
     "output_type": "execute_result"
    }
   ],
   "source": [
    "a"
   ]
  },
  {
   "cell_type": "markdown",
   "id": "5c043105",
   "metadata": {},
   "source": [
    "### braodcasting"
   ]
  },
  {
   "cell_type": "code",
   "execution_count": 7,
   "id": "e05e3c5f",
   "metadata": {},
   "outputs": [],
   "source": [
    "a=np.linspace(0,10,5)"
   ]
  },
  {
   "cell_type": "code",
   "execution_count": 8,
   "id": "88bffedf",
   "metadata": {},
   "outputs": [
    {
     "data": {
      "text/plain": [
       "array([ 1. ,  3.5,  6. ,  8.5, 11. ])"
      ]
     },
     "execution_count": 8,
     "metadata": {},
     "output_type": "execute_result"
    }
   ],
   "source": [
    "a+1"
   ]
  },
  {
   "cell_type": "code",
   "execution_count": 9,
   "id": "dc6d1317",
   "metadata": {},
   "outputs": [
    {
     "data": {
      "text/plain": [
       "array([[1., 1., 1., 1., 1.],\n",
       "       [1., 1., 1., 1., 1.],\n",
       "       [1., 1., 1., 1., 1.],\n",
       "       [1., 1., 1., 1., 1.]])"
      ]
     },
     "execution_count": 9,
     "metadata": {},
     "output_type": "execute_result"
    }
   ],
   "source": [
    "b=np.ones((4,5))\n",
    "b"
   ]
  },
  {
   "cell_type": "code",
   "execution_count": 10,
   "id": "fb01d9bf",
   "metadata": {},
   "outputs": [
    {
     "data": {
      "text/plain": [
       "array([[0.35464807],\n",
       "       [0.86261146],\n",
       "       [0.66230407],\n",
       "       [0.02264199]])"
      ]
     },
     "execution_count": 10,
     "metadata": {},
     "output_type": "execute_result"
    }
   ],
   "source": [
    "c = np.random.random((4,1))\n",
    "c"
   ]
  },
  {
   "cell_type": "code",
   "execution_count": 11,
   "id": "cee3f6e1",
   "metadata": {},
   "outputs": [
    {
     "data": {
      "text/plain": [
       "(array([ 0. ,  2.5,  5. ,  7.5, 10. ]),\n",
       " array([[1., 1., 1., 1., 1.],\n",
       "        [1., 1., 1., 1., 1.],\n",
       "        [1., 1., 1., 1., 1.],\n",
       "        [1., 1., 1., 1., 1.]]),\n",
       " array([[ 1. ,  3.5,  6. ,  8.5, 11. ],\n",
       "        [ 1. ,  3.5,  6. ,  8.5, 11. ],\n",
       "        [ 1. ,  3.5,  6. ,  8.5, 11. ],\n",
       "        [ 1. ,  3.5,  6. ,  8.5, 11. ]]),\n",
       " array([[1.35464807, 1.35464807, 1.35464807, 1.35464807, 1.35464807],\n",
       "        [1.86261146, 1.86261146, 1.86261146, 1.86261146, 1.86261146],\n",
       "        [1.66230407, 1.66230407, 1.66230407, 1.66230407, 1.66230407],\n",
       "        [1.02264199, 1.02264199, 1.02264199, 1.02264199, 1.02264199]]))"
      ]
     },
     "execution_count": 11,
     "metadata": {},
     "output_type": "execute_result"
    }
   ],
   "source": [
    "a,b,a+b,b + c"
   ]
  },
  {
   "cell_type": "code",
   "execution_count": 49,
   "id": "dc41d854",
   "metadata": {},
   "outputs": [
    {
     "data": {
      "text/plain": [
       "(array([[1, 1, 1, 1],\n",
       "        [1, 1, 1, 1]]),\n",
       " array([[2],\n",
       "        [2]]),\n",
       " array([[3, 3, 3, 3],\n",
       "        [3, 3, 3, 3]]))"
      ]
     },
     "execution_count": 49,
     "metadata": {},
     "output_type": "execute_result"
    }
   ],
   "source": [
    "#اگر در دوبعد مختلف 1 باشند بوردکست جواب میده.\n",
    "a = np.array([[1,1,1,1],[1,1,1,1]])\n",
    "b = np.array([[2],[2]])\n",
    "a,b,a+b"
   ]
  },
  {
   "cell_type": "code",
   "execution_count": 40,
   "id": "dcd69bf9",
   "metadata": {},
   "outputs": [
    {
     "data": {
      "text/plain": [
       "(array([[[8, 6, 2, 3]],\n",
       " \n",
       "        [[5, 9, 7, 5]],\n",
       " \n",
       "        [[9, 7, 3, 7]]]),\n",
       " array([[9],\n",
       "        [4]]),\n",
       " array([[[17, 15, 11, 12],\n",
       "         [12, 10,  6,  7]],\n",
       " \n",
       "        [[14, 18, 16, 14],\n",
       "         [ 9, 13, 11,  9]],\n",
       " \n",
       "        [[18, 16, 12, 16],\n",
       "         [13, 11,  7, 11]]]))"
      ]
     },
     "execution_count": 40,
     "metadata": {},
     "output_type": "execute_result"
    }
   ],
   "source": [
    "np.random.seed(1111)\n",
    "A = np.random.randint(low = 1, high = 10, size = (3, 1, 4))\n",
    "B = np.random.randint(low = 1, high = 10, size = (2, 1))\n",
    "A,B,A+B"
   ]
  },
  {
   "cell_type": "markdown",
   "id": "7666791a",
   "metadata": {},
   "source": [
    "###  speed (numpy  >>>>  list)"
   ]
  },
  {
   "cell_type": "code",
   "execution_count": 218,
   "id": "37dcdebb",
   "metadata": {},
   "outputs": [
    {
     "name": "stdout",
     "output_type": "stream",
     "text": [
      "611 µs ± 14.1 µs per loop (mean ± std. dev. of 7 runs, 1,000 loops each)\n"
     ]
    }
   ],
   "source": [
    "x=np.linspace(0,100,100000)\n",
    "%timeit np.sin(x)"
   ]
  },
  {
   "cell_type": "code",
   "execution_count": 220,
   "id": "42f93026",
   "metadata": {},
   "outputs": [
    {
     "name": "stdout",
     "output_type": "stream",
     "text": [
      "13.6 ms ± 364 µs per loop (mean ± std. dev. of 7 runs, 100 loops each)\n"
     ]
    }
   ],
   "source": [
    " %timeit [math.sin(i) for i in x]"
   ]
  },
  {
   "cell_type": "code",
   "execution_count": 222,
   "id": "496c9b3f",
   "metadata": {},
   "outputs": [
    {
     "name": "stdout",
     "output_type": "stream",
     "text": [
      "17.4 ms ± 450 µs per loop (mean ± std. dev. of 7 runs, 100 loops each)\n"
     ]
    }
   ],
   "source": [
    "def get_lst(x):\n",
    "    lst = []\n",
    "    for i in x:\n",
    "        lst.append(math.sin(i))\n",
    "    return lst\n",
    "\n",
    "%timeit get_lst(x)"
   ]
  },
  {
   "cell_type": "code",
   "execution_count": 221,
   "id": "7e9fec02",
   "metadata": {},
   "outputs": [
    {
     "data": {
      "text/plain": [
       "22.25859247135843"
      ]
     },
     "execution_count": 221,
     "metadata": {},
     "output_type": "execute_result"
    }
   ],
   "source": [
    "13.6/.611"
   ]
  },
  {
   "cell_type": "code",
   "execution_count": 223,
   "id": "d2efcf6c",
   "metadata": {},
   "outputs": [
    {
     "data": {
      "text/plain": [
       "28.47790507364975"
      ]
     },
     "execution_count": 223,
     "metadata": {},
     "output_type": "execute_result"
    }
   ],
   "source": [
    "17.4/.611"
   ]
  },
  {
   "cell_type": "markdown",
   "id": "4340c8a4",
   "metadata": {},
   "source": [
    "### slicing"
   ]
  },
  {
   "cell_type": "code",
   "execution_count": 9,
   "id": "1c122cc6",
   "metadata": {},
   "outputs": [
    {
     "data": {
      "text/plain": [
       "array([[1, 0, 0, 1, 0, 0, 1, 1, 0, 0],\n",
       "       [0, 1, 1, 0, 1, 1, 0, 0, 0, 0]])"
      ]
     },
     "execution_count": 9,
     "metadata": {},
     "output_type": "execute_result"
    }
   ],
   "source": [
    "#exactly the same as another\n",
    "v=np.random.randint(0,2,(2,10))\n",
    "v"
   ]
  },
  {
   "cell_type": "code",
   "execution_count": 16,
   "id": "1d434ff1",
   "metadata": {},
   "outputs": [
    {
     "data": {
      "text/plain": [
       "array([[1, 0, 0, 1, 0],\n",
       "       [0, 1, 1, 0, 0]])"
      ]
     },
     "execution_count": 16,
     "metadata": {},
     "output_type": "execute_result"
    }
   ],
   "source": [
    "v[:,::2]"
   ]
  },
  {
   "cell_type": "code",
   "execution_count": 17,
   "id": "2a9178af",
   "metadata": {},
   "outputs": [
    {
     "data": {
      "text/plain": [
       "0"
      ]
     },
     "execution_count": 17,
     "metadata": {},
     "output_type": "execute_result"
    }
   ],
   "source": [
    "v[1,0]"
   ]
  },
  {
   "cell_type": "code",
   "execution_count": 20,
   "id": "41516d9e",
   "metadata": {},
   "outputs": [
    {
     "data": {
      "text/plain": [
       "array([1, 0, 0])"
      ]
     },
     "execution_count": 20,
     "metadata": {},
     "output_type": "execute_result"
    }
   ],
   "source": [
    "v[1,[1,3,9]]"
   ]
  },
  {
   "cell_type": "code",
   "execution_count": 53,
   "id": "483405ad",
   "metadata": {},
   "outputs": [
    {
     "name": "stdout",
     "output_type": "stream",
     "text": [
      "(1, 10)\n",
      "(10,)\n",
      "(1, 10)\n"
     ]
    }
   ],
   "source": [
    "a=v[[0]]\n",
    "b=v[0]  \n",
    "c=v[0,None]\n",
    "for i in[a,b,c]:\n",
    "    print(i.shape)\n"
   ]
  },
  {
   "cell_type": "markdown",
   "id": "fb14b037",
   "metadata": {},
   "source": [
    "### imutabel"
   ]
  },
  {
   "cell_type": "code",
   "execution_count": 61,
   "id": "0e9927d8",
   "metadata": {},
   "outputs": [
    {
     "data": {
      "text/plain": [
       "array([ 0. ,  2.5,  5. ,  7.5, 10. ])"
      ]
     },
     "execution_count": 61,
     "metadata": {},
     "output_type": "execute_result"
    }
   ],
   "source": [
    "v=np.linspace(0,10,5)\n",
    "v"
   ]
  },
  {
   "cell_type": "code",
   "execution_count": 32,
   "id": "0f2c0de3",
   "metadata": {},
   "outputs": [
    {
     "name": "stdout",
     "output_type": "stream",
     "text": [
      "v1:[ 0.   0.   5.   7.5 10. ]\n",
      "v:[ 0.   0.   5.   7.5 10. ]\n"
     ]
    }
   ],
   "source": [
    "v1=v\n",
    "v1[1]=0\n",
    "print(f\"\"\"v1:{v1}\n",
    "v:{v}\"\"\")"
   ]
  },
  {
   "cell_type": "code",
   "execution_count": 38,
   "id": "f1d1ef03",
   "metadata": {},
   "outputs": [
    {
     "name": "stdout",
     "output_type": "stream",
     "text": [
      "v2:[ 0.   0.   0.   7.5 10. ]\n",
      "v:[ 0.   0.   5.   7.5 10. ]\n"
     ]
    }
   ],
   "source": [
    "v2=v.copy()\n",
    "v2[2]=00\n",
    "print(f\"\"\"v2:{v2}\n",
    "v:{v}\"\"\")"
   ]
  },
  {
   "cell_type": "markdown",
   "id": "9fcc9b5d",
   "metadata": {},
   "source": [
    "### boolian mask "
   ]
  },
  {
   "cell_type": "code",
   "execution_count": 71,
   "id": "1568f46a",
   "metadata": {},
   "outputs": [
    {
     "data": {
      "text/plain": [
       "array([ 0. ,  2.5,  5. ,  7.5, 10. ])"
      ]
     },
     "execution_count": 71,
     "metadata": {},
     "output_type": "execute_result"
    }
   ],
   "source": [
    "v"
   ]
  },
  {
   "cell_type": "code",
   "execution_count": 72,
   "id": "6b7d0364",
   "metadata": {},
   "outputs": [
    {
     "data": {
      "text/plain": [
       "array([[ 0. ,  2.5,  5. ,  7.5, 10. ],\n",
       "       [ 0. ,  2.5,  5. ,  7.5, 10. ]])"
      ]
     },
     "execution_count": 72,
     "metadata": {},
     "output_type": "execute_result"
    }
   ],
   "source": [
    "c=np.vstack((v,v))\n",
    "c"
   ]
  },
  {
   "cell_type": "code",
   "execution_count": 73,
   "id": "3ac8fca8",
   "metadata": {},
   "outputs": [
    {
     "data": {
      "text/plain": [
       "array([[False, False, False,  True,  True],\n",
       "       [False, False, False,  True,  True]])"
      ]
     },
     "execution_count": 73,
     "metadata": {},
     "output_type": "execute_result"
    }
   ],
   "source": [
    "bool_index= c>6\n",
    "bool_index"
   ]
  },
  {
   "cell_type": "code",
   "execution_count": 74,
   "id": "2e7b5824",
   "metadata": {},
   "outputs": [
    {
     "data": {
      "text/plain": [
       "array([ 7.5, 10. ,  7.5, 10. ])"
      ]
     },
     "execution_count": 74,
     "metadata": {},
     "output_type": "execute_result"
    }
   ],
   "source": [
    "c[bool_index]"
   ]
  },
  {
   "cell_type": "code",
   "execution_count": 6,
   "id": "d4174ddf",
   "metadata": {},
   "outputs": [
    {
     "data": {
      "text/plain": [
       "array([[21, 18, 70, 14, 42, 85, 10,  4,  8, 77],\n",
       "       [53, 19,  9, 51, 15, 66, 15, 42, 50, 65],\n",
       "       [23, 77, 46, 62, 49, 97, 61, 90, 79, 49],\n",
       "       [38, 60, 95, 82, 25, 99, 21, 66,  7, 50],\n",
       "       [81, 92, 38, 42, 86, 45, 60, 30, 63, 37],\n",
       "       [57, 70, 36, 40,  3, 26, 86, 63, 77, 73],\n",
       "       [16, 72, 96, 96, 19, 56, 69, 86, 22, 38],\n",
       "       [90, 59, 76, 81, 87, 55, 42, 27, 48, 50],\n",
       "       [14,  2, 41, 29, 67, 73, 89, 85, 12, 60],\n",
       "       [52, 59, 54, 53, 44, 47, 61, 86, 85, 31]])"
      ]
     },
     "execution_count": 6,
     "metadata": {},
     "output_type": "execute_result"
    }
   ],
   "source": [
    "vv=np.random.randint(0,100,(10,10))\n",
    "vv"
   ]
  },
  {
   "cell_type": "code",
   "execution_count": 56,
   "id": "190f3894",
   "metadata": {},
   "outputs": [
    {
     "data": {
      "text/plain": [
       "array([[33, 36,  0,  0,  0, 32,  0, 13,  0, 49],\n",
       "       [ 0,  0,  0,  0,  0,  0, 34, 24, 17, 21],\n",
       "       [44,  4,  0, 24,  0, 27, 13, 16,  0,  0],\n",
       "       [12, 28,  0,  0,  0, 35,  0, 24,  8,  0],\n",
       "       [ 0, 35,  0, 45, 24, 30,  0,  0,  0,  0],\n",
       "       [20, 44,  0, 36, 33,  0,  9,  0,  0,  0],\n",
       "       [47, 48, 36, 33, 28,  0, 18, 49,  0, 48],\n",
       "       [23, 25,  0, 14, 32,  0,  0,  0,  0, 24],\n",
       "       [ 0, 33,  0,  0, 21,  0,  0,  0,  0,  0],\n",
       "       [ 0,  0,  0, 37,  0,  0, 43, 10,  0,  0]])"
      ]
     },
     "execution_count": 56,
     "metadata": {},
     "output_type": "execute_result"
    }
   ],
   "source": [
    "vv[vv>50]=0\n",
    "vv"
   ]
  },
  {
   "cell_type": "code",
   "execution_count": 65,
   "id": "ea753d57",
   "metadata": {},
   "outputs": [
    {
     "data": {
      "text/plain": [
       "array([[ 33,  36,   0,   0,   0,  32,   0,  13,   0,  49],\n",
       "       [100, 100, 100, 100, 100,   0,  34,  24,  17,  21],\n",
       "       [ 44,   4,   0,  24,   0,  27,  13,  16,   0,   0],\n",
       "       [ 12,  28,   0,   0,   0,  35,   0,  24,   8,   0],\n",
       "       [  0,  35,   0,  45,  24,  30,   0,   0,   0,   0],\n",
       "       [ 20,  44,   0,  36,  33,   0,   9,   0,   0,   0],\n",
       "       [ 47,  48,  36,  33,  28,   0,  18,  49,   0,  48],\n",
       "       [ 23,  25,   0,  14,  32,   0,   0,   0,   0,  24],\n",
       "       [  0,  33,   0,   0,  21,   0,   0,   0,   0,   0],\n",
       "       [  0,   0,   0,  37,   0,   0,  43,  10,   0,   0]])"
      ]
     },
     "execution_count": 65,
     "metadata": {},
     "output_type": "execute_result"
    }
   ],
   "source": [
    "vv[1,0:5]=[100,100,100,100,100]\n",
    "vv"
   ]
  },
  {
   "cell_type": "code",
   "execution_count": 7,
   "id": "3eea4107",
   "metadata": {},
   "outputs": [
    {
     "data": {
      "text/plain": [
       "array([[21, 18, 70, 14, 42, 85, 10,  4,  8, 77],\n",
       "       [53, 19,  9, 51, 15, 66, 15, 42, 50, 65],\n",
       "       [23, 77, 46, 62, 49, 97, 61, 90, 79, 49],\n",
       "       [38, 60, 95, 82, 25, 99, 21, 66,  7, 50],\n",
       "       [81, 92, 38, 42, 86, 45, 60, 30, 63, 37],\n",
       "       [57, 70, 36, 40,  3, 26, 86, 63, 77, 73],\n",
       "       [16, 72, 96, 96, 19, 56, 69, 86, 22, 38],\n",
       "       [90, 59, 76, 81, 87, 55, 42, 27, 48, 50],\n",
       "       [14,  2, 41, 29, 67, 73, 89, 85, 12, 60],\n",
       "       [10, 10, 10, 53, 44, 47, 61, 86, 85, 31]])"
      ]
     },
     "execution_count": 7,
     "metadata": {},
     "output_type": "execute_result"
    }
   ],
   "source": [
    "vv[9,[0,1,2]]=[10,10,10]\n",
    "vv"
   ]
  },
  {
   "cell_type": "code",
   "execution_count": 8,
   "id": "56d7c79a",
   "metadata": {},
   "outputs": [
    {
     "data": {
      "text/plain": [
       "array([21, 23, 81, 16, 14])"
      ]
     },
     "execution_count": 8,
     "metadata": {},
     "output_type": "execute_result"
    }
   ],
   "source": [
    "vv[::2,0]"
   ]
  },
  {
   "cell_type": "code",
   "execution_count": 57,
   "id": "ff4d7179",
   "metadata": {},
   "outputs": [
    {
     "data": {
      "text/plain": [
       "array([[3, 9, 7],\n",
       "       [3, 3, 1]])"
      ]
     },
     "execution_count": 57,
     "metadata": {},
     "output_type": "execute_result"
    }
   ],
   "source": [
    "foo = np.array([\n",
    "    [3, 9, 7],\n",
    "    [2, 0, 3],\n",
    "    [3, 3, 1]\n",
    "])\n",
    "r13 = np.array([True, False, True])\n",
    "c23 = np.array([False, True, True])\n",
    "foo[r13]"
   ]
  },
  {
   "cell_type": "markdown",
   "id": "84512940",
   "metadata": {},
   "source": [
    "### reshape "
   ]
  },
  {
   "cell_type": "code",
   "execution_count": 11,
   "id": "8f7db53c",
   "metadata": {},
   "outputs": [
    {
     "data": {
      "text/plain": [
       "array([[-0.0678532 , -0.05606998, -1.81818461],\n",
       "       [-1.43619182, -0.17279872, -0.23527168],\n",
       "       [-0.53596642,  0.02237324,  1.04526797],\n",
       "       [ 0.05705313,  0.43029837,  0.8915177 ]])"
      ]
     },
     "execution_count": 11,
     "metadata": {},
     "output_type": "execute_result"
    }
   ],
   "source": [
    "ax=np.random.standard_normal((4,3))\n",
    "ax"
   ]
  },
  {
   "cell_type": "code",
   "execution_count": 14,
   "id": "ef390765",
   "metadata": {},
   "outputs": [
    {
     "data": {
      "text/plain": [
       "array([[-0.0678532 , -0.05606998, -1.81818461],\n",
       "       [-1.43619182, -0.17279872, -0.23527168],\n",
       "       [-0.53596642,  0.02237324,  1.04526797],\n",
       "       [ 0.05705313,  0.43029837,  0.8915177 ]])"
      ]
     },
     "execution_count": 14,
     "metadata": {},
     "output_type": "execute_result"
    }
   ],
   "source": [
    "ax.reshape(6,-1)\n",
    "ax"
   ]
  },
  {
   "cell_type": "markdown",
   "id": "b5db7ff6",
   "metadata": {},
   "source": [
    "### dot "
   ]
  },
  {
   "cell_type": "code",
   "execution_count": 31,
   "id": "2f22f064",
   "metadata": {},
   "outputs": [
    {
     "data": {
      "text/plain": [
       "(array([[1, 2],\n",
       "        [2, 3]]),\n",
       " array([[2, 2],\n",
       "        [2, 2]]))"
      ]
     },
     "execution_count": 31,
     "metadata": {},
     "output_type": "execute_result"
    }
   ],
   "source": [
    "a=np.array([[1,2],[2,3]])\n",
    "b=np.array([[2,2],[2,2]])\n",
    "a,b"
   ]
  },
  {
   "cell_type": "code",
   "execution_count": 32,
   "id": "a2628b3d",
   "metadata": {},
   "outputs": [
    {
     "data": {
      "text/plain": [
       "array([[ 6,  6],\n",
       "       [10, 10]])"
      ]
     },
     "execution_count": 32,
     "metadata": {},
     "output_type": "execute_result"
    }
   ],
   "source": [
    "np.dot(a,b)"
   ]
  },
  {
   "cell_type": "code",
   "execution_count": 33,
   "id": "2d9d8fe9",
   "metadata": {},
   "outputs": [
    {
     "data": {
      "text/plain": [
       "array([[ 6,  6],\n",
       "       [10, 10]])"
      ]
     },
     "execution_count": 33,
     "metadata": {},
     "output_type": "execute_result"
    }
   ],
   "source": [
    "a@b"
   ]
  },
  {
   "cell_type": "code",
   "execution_count": 38,
   "id": "cb7e2877",
   "metadata": {},
   "outputs": [
    {
     "data": {
      "text/plain": [
       "(array([1, 2, 3]), array([1, 1, 2]), 9, array([ 6, 14]), 27, 9)"
      ]
     },
     "execution_count": 38,
     "metadata": {},
     "output_type": "execute_result"
    }
   ],
   "source": [
    "#dumpy in dot()\n",
    "a=np.array([1,2,3])\n",
    "b=np.array([1,1,2])\n",
    "a,b,np.dot(a,b),np.dot(2,[3,7]),np.dot([3,5],[9,0]),a@b"
   ]
  },
  {
   "cell_type": "markdown",
   "id": "641bc118",
   "metadata": {},
   "source": [
    "#### dot ex\n",
    "((A'PA)^-1)(A'PL)"
   ]
  },
  {
   "cell_type": "code",
   "execution_count": 9,
   "id": "b56f5ffb",
   "metadata": {},
   "outputs": [],
   "source": [
    "A = np.array([[1,2],[3,5],[7,6]])\n",
    "P = np.diag([5,5,5])\n",
    "L = np.array([7,3, 2]).reshape((3,1))"
   ]
  },
  {
   "cell_type": "code",
   "execution_count": null,
   "id": "3a61ad73",
   "metadata": {},
   "outputs": [],
   "source": []
  },
  {
   "cell_type": "code",
   "execution_count": null,
   "id": "b9847239",
   "metadata": {},
   "outputs": [],
   "source": []
  },
  {
   "cell_type": "markdown",
   "id": "7c2438e6",
   "metadata": {},
   "source": [
    "### where"
   ]
  },
  {
   "cell_type": "code",
   "execution_count": 14,
   "id": "e79cf2f7",
   "metadata": {},
   "outputs": [
    {
     "data": {
      "text/plain": [
       "(array([3, 4]),\n",
       " (array([2, 3], dtype=int64),),\n",
       " array(['0', '0', '5>', '5>'], dtype='<U11'))"
      ]
     },
     "execution_count": 14,
     "metadata": {},
     "output_type": "execute_result"
    }
   ],
   "source": [
    "array = np.array([1,2,3,4])\n",
    "rows = np.where(array >= 2.5)\n",
    "rows2 = np.where(array >= 2.5,\"5>\",0)\n",
    "rows# return index tuple \n",
    "array[rows],rows,rows2,\n"
   ]
  },
  {
   "cell_type": "code",
   "execution_count": 76,
   "id": "5a36cced",
   "metadata": {},
   "outputs": [
    {
     "data": {
      "text/plain": [
       "array([['1', '2', '3', 'bar'],\n",
       "       ['2', 'bar', '3', '4'],\n",
       "       ['5', '6', '7', 'hello'],\n",
       "       ['8', '9', '1', 'bar']], dtype='<U11')"
      ]
     },
     "execution_count": 76,
     "metadata": {},
     "output_type": "execute_result"
    }
   ],
   "source": [
    "t = np.array([[1,2,3,'bar'],\n",
    " [2,\"bar\",3,4,],\n",
    " [5,6,7,'hello'],\n",
    " [8,9,1,'bar']])\n",
    "\n",
    "\n",
    "t"
   ]
  },
  {
   "cell_type": "code",
   "execution_count": 77,
   "id": "6281884f",
   "metadata": {},
   "outputs": [
    {
     "data": {
      "text/plain": [
       "(array([0, 1, 3], dtype=int64), array([3, 1, 3], dtype=int64))"
      ]
     },
     "execution_count": 77,
     "metadata": {},
     "output_type": "execute_result"
    }
   ],
   "source": [
    "rows,cols=np.where(t==\"bar\")\n",
    "np.where(t==\"bar\")"
   ]
  },
  {
   "cell_type": "code",
   "execution_count": 28,
   "id": "8de61e94",
   "metadata": {},
   "outputs": [
    {
     "data": {
      "text/plain": [
       "array([['bar', '2', 'bar'],\n",
       "       ['4', 'bar', '4'],\n",
       "       ['hello', '6', 'hello'],\n",
       "       ['bar', '9', 'bar']], dtype='<U11')"
      ]
     },
     "execution_count": 28,
     "metadata": {},
     "output_type": "execute_result"
    }
   ],
   "source": [
    "t[:,cols]"
   ]
  },
  {
   "cell_type": "code",
   "execution_count": 29,
   "id": "857b5489",
   "metadata": {},
   "outputs": [
    {
     "data": {
      "text/plain": [
       "(array([['1', '2', '3', 'bar'],\n",
       "        ['2', 'bar', '3', '4'],\n",
       "        ['8', '9', '1', 'bar']], dtype='<U11'),\n",
       " array([['8', '9', '1', 'bar'],\n",
       "        ['2', 'bar', '3', '4'],\n",
       "        ['8', '9', '1', 'bar']], dtype='<U11'),\n",
       " array(['bar', 'bar', 'bar'], dtype='<U11'))"
      ]
     },
     "execution_count": 29,
     "metadata": {},
     "output_type": "execute_result"
    }
   ],
   "source": [
    "t[rows],t[cols],t[rows,cols]"
   ]
  },
  {
   "cell_type": "code",
   "execution_count": 30,
   "id": "833b6df3",
   "metadata": {},
   "outputs": [
    {
     "data": {
      "text/plain": [
       "(array([0, 1, 3], dtype=int64), array([3, 1, 3], dtype=int64))"
      ]
     },
     "execution_count": 30,
     "metadata": {},
     "output_type": "execute_result"
    }
   ],
   "source": [
    "rows,cols"
   ]
  },
  {
   "cell_type": "markdown",
   "id": "a98700fb",
   "metadata": {},
   "source": [
    "### split"
   ]
  },
  {
   "cell_type": "code",
   "execution_count": 19,
   "id": "25d2efd1",
   "metadata": {},
   "outputs": [
    {
     "data": {
      "text/plain": [
       "[array([0, 1, 2, 3]), array([4, 5]), array([6, 7]), array([8]), array([9])]"
      ]
     },
     "execution_count": 19,
     "metadata": {},
     "output_type": "execute_result"
    }
   ],
   "source": [
    "# to n group\n",
    "a = np.arange(10)\n",
    "np.split(a,5)\n",
    "\n",
    "# till this arg\n",
    "a = np.arange(10)\n",
    "np.split(a,[4,6,8,9])"
   ]
  },
  {
   "cell_type": "markdown",
   "id": "2404eb7a",
   "metadata": {},
   "source": [
    "### delet an colum\n",
    "or whith slicing"
   ]
  },
  {
   "cell_type": "code",
   "execution_count": 6,
   "id": "eca18da5",
   "metadata": {},
   "outputs": [
    {
     "data": {
      "text/plain": [
       "array([[0, 1],\n",
       "       [2, 3],\n",
       "       [4, 5],\n",
       "       [6, 7],\n",
       "       [8, 9]])"
      ]
     },
     "execution_count": 6,
     "metadata": {},
     "output_type": "execute_result"
    }
   ],
   "source": [
    "a = np.arange(10).reshape(5,2)\n",
    "a"
   ]
  },
  {
   "cell_type": "code",
   "execution_count": 9,
   "id": "10a1e44b",
   "metadata": {},
   "outputs": [
    {
     "data": {
      "text/plain": [
       "array([[0, 1],\n",
       "       [2, 3],\n",
       "       [4, 5],\n",
       "       [8, 9]])"
      ]
     },
     "execution_count": 9,
     "metadata": {},
     "output_type": "execute_result"
    }
   ],
   "source": [
    "a_del = np.delete( a, 3, 0)\n",
    "a_del"
   ]
  },
  {
   "cell_type": "code",
   "execution_count": 10,
   "id": "73297bb8",
   "metadata": {},
   "outputs": [
    {
     "data": {
      "text/plain": [
       "array([[1],\n",
       "       [3],\n",
       "       [5],\n",
       "       [7],\n",
       "       [9]])"
      ]
     },
     "execution_count": 10,
     "metadata": {},
     "output_type": "execute_result"
    }
   ],
   "source": [
    "a_del2 = np.delete( a, 0, 1)\n",
    "a_del2"
   ]
  },
  {
   "cell_type": "markdown",
   "id": "92879c55",
   "metadata": {},
   "source": [
    "### nonezeros"
   ]
  },
  {
   "cell_type": "code",
   "execution_count": 22,
   "id": "6b2cfbf8",
   "metadata": {},
   "outputs": [],
   "source": [
    "# mine work : seprate elements witch has mine Condition"
   ]
  },
  {
   "cell_type": "code",
   "execution_count": 24,
   "id": "444e72b3",
   "metadata": {},
   "outputs": [
    {
     "data": {
      "text/plain": [
       "array([[ 5,  0,  7,  9,  4],\n",
       "       [ 5,  9, 10,  1, 10],\n",
       "       [ 0,  2,  5, 10,  0],\n",
       "       [ 1,  1,  8,  9,  8],\n",
       "       [ 3,  0,  6,  2,  9]])"
      ]
     },
     "execution_count": 24,
     "metadata": {},
     "output_type": "execute_result"
    }
   ],
   "source": [
    "a = np.random.randint(0,11,(5,5))\n",
    "a"
   ]
  },
  {
   "cell_type": "code",
   "execution_count": 25,
   "id": "9643c7dd",
   "metadata": {},
   "outputs": [
    {
     "data": {
      "text/plain": [
       "array([[False, False,  True,  True, False],\n",
       "       [False,  True,  True, False,  True],\n",
       "       [False, False, False,  True, False],\n",
       "       [False, False,  True,  True,  True],\n",
       "       [False, False,  True, False,  True]])"
      ]
     },
     "execution_count": 25,
     "metadata": {},
     "output_type": "execute_result"
    }
   ],
   "source": [
    "a>5"
   ]
  },
  {
   "cell_type": "code",
   "execution_count": 26,
   "id": "5c64757f",
   "metadata": {},
   "outputs": [
    {
     "data": {
      "text/plain": [
       "(array([0, 0, 1, 1, 1, 2, 3, 3, 3, 4, 4], dtype=int64),\n",
       " array([2, 3, 1, 2, 4, 3, 2, 3, 4, 2, 4], dtype=int64))"
      ]
     },
     "execution_count": 26,
     "metadata": {},
     "output_type": "execute_result"
    }
   ],
   "source": [
    "(a>5).nonzero()"
   ]
  },
  {
   "cell_type": "code",
   "execution_count": 27,
   "id": "bab9101e",
   "metadata": {},
   "outputs": [
    {
     "data": {
      "text/plain": [
       "array([ 7,  9,  9, 10, 10, 10,  8,  9,  8,  6,  9])"
      ]
     },
     "execution_count": 27,
     "metadata": {},
     "output_type": "execute_result"
    }
   ],
   "source": [
    "a[(a>5).nonzero()]"
   ]
  },
  {
   "cell_type": "code",
   "execution_count": 28,
   "id": "a8ce97cc",
   "metadata": {},
   "outputs": [],
   "source": [
    "# important: input : array --> outpout \" tuple\n",
    "# use [0] to make it into array"
   ]
  },
  {
   "cell_type": "code",
   "execution_count": 37,
   "id": "3b8113da",
   "metadata": {},
   "outputs": [
    {
     "data": {
      "text/plain": [
       "((array([0, 0, 1, 1, 1, 2, 3, 3, 3, 4, 4], dtype=int64),\n",
       "  array([2, 3, 1, 2, 4, 3, 2, 3, 4, 2, 4], dtype=int64)),\n",
       " tuple,\n",
       " numpy.ndarray)"
      ]
     },
     "execution_count": 37,
     "metadata": {},
     "output_type": "execute_result"
    }
   ],
   "source": [
    "(a>5).nonzero(),type((a>5).nonzero()),type((a>5).nonzero()[1])"
   ]
  },
  {
   "cell_type": "markdown",
   "id": "e3ef0664",
   "metadata": {},
   "source": [
    "###  choice"
   ]
  },
  {
   "cell_type": "code",
   "execution_count": 31,
   "id": "f478ef81",
   "metadata": {},
   "outputs": [
    {
     "data": {
      "text/plain": [
       "array([25, 48,  7, 81, 46, 44, 45, 87, 37, 82, 70, 88, 92, 83, 52, 65, 35,\n",
       "       98, 21, 22])"
      ]
     },
     "execution_count": 31,
     "metadata": {},
     "output_type": "execute_result"
    }
   ],
   "source": [
    "# making 20 random number from(0,100) without repeat repeating numbers\n",
    "place = np.random.choice(100, 20, replace = False)\n",
    "place"
   ]
  },
  {
   "cell_type": "markdown",
   "id": "9ac19544",
   "metadata": {},
   "source": [
    "### mask "
   ]
  },
  {
   "cell_type": "code",
   "execution_count": 78,
   "id": "3e1b0258",
   "metadata": {},
   "outputs": [],
   "source": [
    "foo = np.array([\n",
    "    [3, 9, 7],\n",
    "    [2, 0, 3],\n",
    "    [3, 3, 1]\n",
    "])"
   ]
  },
  {
   "cell_type": "code",
   "execution_count": 82,
   "id": "33ead587",
   "metadata": {},
   "outputs": [
    {
     "data": {
      "text/plain": [
       "(array([[ True, False, False],\n",
       "        [False, False,  True],\n",
       "        [ True,  True, False]]),\n",
       " (3, 3))"
      ]
     },
     "execution_count": 82,
     "metadata": {},
     "output_type": "execute_result"
    }
   ],
   "source": [
    "mask = foo==3\n",
    "mask,mask.shape"
   ]
  },
  {
   "cell_type": "code",
   "execution_count": 83,
   "id": "676727c9",
   "metadata": {},
   "outputs": [
    {
     "data": {
      "text/plain": [
       "array([3, 3, 3, 3])"
      ]
     },
     "execution_count": 83,
     "metadata": {},
     "output_type": "execute_result"
    }
   ],
   "source": [
    "foo[mask]"
   ]
  },
  {
   "cell_type": "code",
   "execution_count": 84,
   "id": "86415a99",
   "metadata": {},
   "outputs": [
    {
     "data": {
      "text/plain": [
       "array([[3, 9, 7],\n",
       "       [3, 3, 1]])"
      ]
     },
     "execution_count": 84,
     "metadata": {},
     "output_type": "execute_result"
    }
   ],
   "source": [
    "r13 = np.array([True, False, True])\n",
    "c23 = np.array([False, True, True])\n",
    "foo[r13]"
   ]
  },
  {
   "cell_type": "code",
   "execution_count": 92,
   "id": "dd49430e",
   "metadata": {},
   "outputs": [
    {
     "data": {
      "text/plain": [
       "array([9, 1])"
      ]
     },
     "execution_count": 92,
     "metadata": {},
     "output_type": "execute_result"
    }
   ],
   "source": [
    "#==foo[[0, 2], [1, 2]]\n",
    "foo[r13,c23]\n"
   ]
  },
  {
   "cell_type": "code",
   "execution_count": 87,
   "id": "237bd90d",
   "metadata": {},
   "outputs": [
    {
     "data": {
      "text/plain": [
       "array([ True, False])"
      ]
     },
     "execution_count": 87,
     "metadata": {},
     "output_type": "execute_result"
    }
   ],
   "source": [
    "~np.array([False, True])"
   ]
  },
  {
   "cell_type": "markdown",
   "id": "270aa646",
   "metadata": {},
   "source": [
    "### nan "
   ]
  },
  {
   "cell_type": "code",
   "execution_count": null,
   "id": "dc231681",
   "metadata": {},
   "outputs": [],
   "source": [
    "#nan is float.we cant use nan in int<str,or bool array\n"
   ]
  },
  {
   "cell_type": "code",
   "execution_count": 104,
   "id": "46378813",
   "metadata": {},
   "outputs": [
    {
     "name": "stdout",
     "output_type": "stream",
     "text": [
      "int32\n"
     ]
    },
    {
     "data": {
      "text/plain": [
       "(array([[1, 1, 1, 1],\n",
       "        [1, 1, 1, 1],\n",
       "        [1, 1, 1, 1]]),\n",
       " array([[1., 1., 1., 1.],\n",
       "        [1., 1., 1., 1.],\n",
       "        [1., 1., 1., 1.]], dtype=float32))"
      ]
     },
     "execution_count": 104,
     "metadata": {},
     "output_type": "execute_result"
    }
   ],
   "source": [
    "bot = np.ones(shape = (3, 4),dtype=np.int32)\n",
    "print(bot.dtype)\n",
    "boot = bot.astype(np.float32)\n",
    "bot,boot"
   ]
  },
  {
   "cell_type": "code",
   "execution_count": 108,
   "id": "14d8662b",
   "metadata": {},
   "outputs": [
    {
     "data": {
      "text/plain": [
       "array([[ 1.,  1.,  1.,  1.],\n",
       "       [nan,  1.,  1., nan],\n",
       "       [ 1.,  1.,  1.,  1.]], dtype=float32)"
      ]
     },
     "execution_count": 108,
     "metadata": {},
     "output_type": "execute_result"
    }
   ],
   "source": [
    "boot[[1,1],[0,3]] = np.nan\n",
    "boot"
   ]
  },
  {
   "cell_type": "code",
   "execution_count": 109,
   "id": "ea99de37",
   "metadata": {},
   "outputs": [
    {
     "ename": "ValueError",
     "evalue": "cannot convert float NaN to integer",
     "output_type": "error",
     "traceback": [
      "\u001b[1;31m---------------------------------------------------------------------------\u001b[0m",
      "\u001b[1;31mValueError\u001b[0m                                Traceback (most recent call last)",
      "Input \u001b[1;32mIn [109]\u001b[0m, in \u001b[0;36m<cell line: 1>\u001b[1;34m()\u001b[0m\n\u001b[1;32m----> 1\u001b[0m \u001b[43mbot\u001b[49m\u001b[43m[\u001b[49m\u001b[43m[\u001b[49m\u001b[38;5;241;43m1\u001b[39;49m\u001b[43m,\u001b[49m\u001b[38;5;241;43m1\u001b[39;49m\u001b[43m]\u001b[49m\u001b[43m,\u001b[49m\u001b[43m[\u001b[49m\u001b[38;5;241;43m0\u001b[39;49m\u001b[43m,\u001b[49m\u001b[38;5;241;43m3\u001b[39;49m\u001b[43m]\u001b[49m\u001b[43m]\u001b[49m \u001b[38;5;241m=\u001b[39m np\u001b[38;5;241m.\u001b[39mnan\n",
      "\u001b[1;31mValueError\u001b[0m: cannot convert float NaN to integer"
     ]
    }
   ],
   "source": [
    "bot[[1,1],[0,3]] = np.nan"
   ]
  },
  {
   "cell_type": "code",
   "execution_count": 113,
   "id": "06bebe25",
   "metadata": {},
   "outputs": [
    {
     "data": {
      "text/plain": [
       "(array([[False, False, False, False],\n",
       "        [False, False, False, False],\n",
       "        [False, False, False, False]]),\n",
       " array([[ True,  True,  True,  True],\n",
       "        [ True,  True,  True,  True],\n",
       "        [ True,  True,  True,  True]]))"
      ]
     },
     "execution_count": 113,
     "metadata": {},
     "output_type": "execute_result"
    }
   ],
   "source": [
    "# we use isnon not this stracture\n",
    "boot == np.nan,boot != np.nan"
   ]
  },
  {
   "cell_type": "code",
   "execution_count": 115,
   "id": "4d8f5614",
   "metadata": {},
   "outputs": [
    {
     "data": {
      "text/plain": [
       "array([[False, False, False, False],\n",
       "       [ True, False, False,  True],\n",
       "       [False, False, False, False]])"
      ]
     },
     "execution_count": 115,
     "metadata": {},
     "output_type": "execute_result"
    }
   ],
   "source": [
    "np.isnan(boot)"
   ]
  },
  {
   "cell_type": "code",
   "execution_count": 117,
   "id": "acdb6ef7",
   "metadata": {},
   "outputs": [
    {
     "data": {
      "text/plain": [
       "array([[ 4.,  4.,  4.,  4.],\n",
       "       [nan,  4.,  4., nan],\n",
       "       [ 4.,  4.,  4.,  4.]])"
      ]
     },
     "execution_count": 117,
     "metadata": {},
     "output_type": "execute_result"
    }
   ],
   "source": [
    "lot = np.ones(shape = (3, 4))\n",
    "(boot + lot)*2"
   ]
  },
  {
   "cell_type": "markdown",
   "id": "5b327f47",
   "metadata": {},
   "source": [
    "### Infinity and -Infinity"
   ]
  },
  {
   "cell_type": "code",
   "execution_count": 119,
   "id": "ab8bcee1",
   "metadata": {},
   "outputs": [
    {
     "data": {
      "text/plain": [
       "array([ inf,   2., -inf])"
      ]
     },
     "execution_count": 119,
     "metadata": {},
     "output_type": "execute_result"
    }
   ],
   "source": [
    "np.array([np.inf,2,np.NINF])"
   ]
  },
  {
   "cell_type": "code",
   "execution_count": 120,
   "id": "858f0762",
   "metadata": {},
   "outputs": [
    {
     "name": "stderr",
     "output_type": "stream",
     "text": [
      "C:\\Users\\user\\AppData\\Local\\Temp\\ipykernel_13120\\1566236623.py:1: RuntimeWarning: divide by zero encountered in divide\n",
      "  np.array([-1, 1])/0\n"
     ]
    },
    {
     "data": {
      "text/plain": [
       "array([-inf,  inf])"
      ]
     },
     "execution_count": 120,
     "metadata": {},
     "output_type": "execute_result"
    }
   ],
   "source": [
    "np.array([-1, 1])/0"
   ]
  },
  {
   "cell_type": "markdown",
   "id": "b5fda274",
   "metadata": {},
   "source": [
    "### random "
   ]
  },
  {
   "cell_type": "code",
   "execution_count": 127,
   "id": "ea2648f2",
   "metadata": {},
   "outputs": [],
   "source": [
    "generator = np.random.default_rng(seed = 123)\n"
   ]
  },
  {
   "cell_type": "code",
   "execution_count": 130,
   "id": "2349db9a",
   "metadata": {},
   "outputs": [
    {
     "data": {
      "text/plain": [
       "array([[ 2, 51, 26, 24, 24],\n",
       "       [82, 79, 21, 40, 74]], dtype=int64)"
      ]
     },
     "execution_count": 130,
     "metadata": {},
     "output_type": "execute_result"
    }
   ],
   "source": [
    "#Sample integers in range with replacement\n",
    "a = generator.integers(0,100,(2,5))\n",
    "a"
   ]
  },
  {
   "cell_type": "code",
   "execution_count": 140,
   "id": "2c387f4b",
   "metadata": {},
   "outputs": [
    {
     "data": {
      "text/plain": [
       "array([7, 8, 3, 6, 4, 2, 1, 9, 5, 0], dtype=int64)"
      ]
     },
     "execution_count": 140,
     "metadata": {},
     "output_type": "execute_result"
    }
   ],
   "source": [
    "generator.choice(10,(10),replace = False)"
   ]
  },
  {
   "cell_type": "code",
   "execution_count": 186,
   "id": "54ca8a48",
   "metadata": {},
   "outputs": [
    {
     "data": {
      "text/plain": [
       "(array([[ 2,  1],\n",
       "        [ 4,  3],\n",
       "        [ 6,  5],\n",
       "        [ 8,  7],\n",
       "        [10,  9]]),\n",
       " array([[ 1,  2],\n",
       "        [ 3,  4],\n",
       "        [ 5,  6],\n",
       "        [ 7,  8],\n",
       "        [ 9, 10]]))"
      ]
     },
     "execution_count": 186,
     "metadata": {},
     "output_type": "execute_result"
    }
   ],
   "source": [
    "# shaffel in row and cloumn\n",
    "foo = np.array([\n",
    "    [1, 2],\n",
    "    [3, 4],\n",
    "    [5, 6],\n",
    "    [7, 8],\n",
    "    [9, 10]])\n",
    "a = generator.permutation(foo,1)\n",
    "a,foo"
   ]
  },
  {
   "cell_type": "code",
   "execution_count": 185,
   "id": "5c3385aa",
   "metadata": {},
   "outputs": [],
   "source": [
    "#shuffel\n"
   ]
  },
  {
   "cell_type": "code",
   "execution_count": 183,
   "id": "480528a4",
   "metadata": {},
   "outputs": [
    {
     "data": {
      "text/plain": [
       "(None, array([0, 4, 6, 9, 5, 7, 2, 8, 1, 3]))"
      ]
     },
     "execution_count": 183,
     "metadata": {},
     "output_type": "execute_result"
    }
   ],
   "source": [
    "#تفائت اینه که شافل تابع اصلی رو تغییر میده ولی اونیکی کپی میگیره و اصلی رو تغییر نمیده\n",
    "arr = np.arange(10)\n",
    "generator.shuffle(arr) , arr"
   ]
  },
  {
   "cell_type": "code",
   "execution_count": 172,
   "id": "459d5361",
   "metadata": {},
   "outputs": [
    {
     "data": {
      "text/plain": [
       "array([[0, 1, 2],\n",
       "       [6, 7, 8],\n",
       "       [3, 4, 5]])"
      ]
     },
     "execution_count": 172,
     "metadata": {},
     "output_type": "execute_result"
    }
   ],
   "source": [
    "# چندبعدی ها اعداد داخل جابه جا نمیشن\n",
    "arr = np.arange(9).reshape((3, 3))\n",
    "np.random.shuffle(arr)\n",
    "arr"
   ]
  },
  {
   "cell_type": "code",
   "execution_count": null,
   "id": "a79d11db",
   "metadata": {},
   "outputs": [],
   "source": []
  },
  {
   "cell_type": "code",
   "execution_count": null,
   "id": "eb008490",
   "metadata": {},
   "outputs": [],
   "source": []
  }
 ],
 "metadata": {
  "kernelspec": {
   "display_name": "Python 3 (ipykernel)",
   "language": "python",
   "name": "python3"
  },
  "language_info": {
   "codemirror_mode": {
    "name": "ipython",
    "version": 3
   },
   "file_extension": ".py",
   "mimetype": "text/x-python",
   "name": "python",
   "nbconvert_exporter": "python",
   "pygments_lexer": "ipython3",
   "version": "3.9.12"
  }
 },
 "nbformat": 4,
 "nbformat_minor": 5
}
