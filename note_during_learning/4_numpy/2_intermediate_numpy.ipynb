{
 "cells": [
  {
   "cell_type": "markdown",
   "id": "5935c540",
   "metadata": {},
   "source": [
    "### sum "
   ]
  },
  {
   "cell_type": "code",
   "execution_count": 1,
   "id": "8e1d5e12",
   "metadata": {},
   "outputs": [],
   "source": [
    "import numpy as np"
   ]
  },
  {
   "cell_type": "code",
   "execution_count": 3,
   "id": "3b34dd0a",
   "metadata": {},
   "outputs": [],
   "source": [
    "foo = np.array(\n",
    "    [[5.0, 2.0, 9.0],\n",
    "     [1.0, 0.0, 2.0],\n",
    "     [1.0, 7.0, 8.0]]\n",
    ")"
   ]
  },
  {
   "cell_type": "code",
   "execution_count": 4,
   "id": "f73ad589",
   "metadata": {},
   "outputs": [
    {
     "data": {
      "text/plain": [
       "35.0"
      ]
     },
     "execution_count": 4,
     "metadata": {},
     "output_type": "execute_result"
    }
   ],
   "source": [
    "np.sum(foo)"
   ]
  },
  {
   "cell_type": "code",
   "execution_count": 5,
   "id": "26b44c74",
   "metadata": {},
   "outputs": [
    {
     "data": {
      "text/plain": [
       "array([ 7.,  9., 19.])"
      ]
     },
     "execution_count": 5,
     "metadata": {},
     "output_type": "execute_result"
    }
   ],
   "source": [
    "np.sum(foo,0)"
   ]
  },
  {
   "cell_type": "code",
   "execution_count": 7,
   "id": "79f20587",
   "metadata": {},
   "outputs": [
    {
     "data": {
      "text/plain": [
       "array([16.,  3., 16.])"
      ]
     },
     "execution_count": 7,
     "metadata": {},
     "output_type": "execute_result"
    }
   ],
   "source": [
    "np.sum(foo,1)"
   ]
  },
  {
   "cell_type": "code",
   "execution_count": 8,
   "id": "3a1859ee",
   "metadata": {},
   "outputs": [
    {
     "data": {
      "text/plain": [
       "nan"
      ]
     },
     "execution_count": 8,
     "metadata": {},
     "output_type": "execute_result"
    }
   ],
   "source": [
    "foo[1,1] = np.nan\n",
    "np.sum(foo)"
   ]
  },
  {
   "cell_type": "code",
   "execution_count": 17,
   "id": "06f0b62b",
   "metadata": {},
   "outputs": [
    {
     "data": {
      "text/plain": [
       "(35.0,\n",
       " 35.0,\n",
       " 35.0,\n",
       " array([[5., 2., 9.],\n",
       "        [1., 0., 2.],\n",
       "        [1., 7., 8.]]))"
      ]
     },
     "execution_count": 17,
     "metadata": {},
     "output_type": "execute_result"
    }
   ],
   "source": [
    "#3 ways to fix this problem\n",
    "q = np.sum(foo,where = ~np.isnan(foo))\n",
    "\n",
    "nan_to_nan_foo = np.nan_to_num(foo)\n",
    "q2 = np.sum(nan_to_nan_foo)\n",
    "\n",
    "q3 = np.nansum(foo)\n",
    "\n",
    "q , q2 , q3 ,nan_to_nan_foo"
   ]
  },
  {
   "cell_type": "markdown",
   "id": "86e76c57",
   "metadata": {},
   "source": [
    "###  all"
   ]
  },
  {
   "cell_type": "code",
   "execution_count": 18,
   "id": "2c108adc",
   "metadata": {},
   "outputs": [],
   "source": [
    "foo = np.array([\n",
    "    [np.nan,    4.4],\n",
    "    [   1.0,    3.2],\n",
    "    [np.nan, np.nan],\n",
    "    [   0.1, np.nan]\n",
    "])"
   ]
  },
  {
   "cell_type": "code",
   "execution_count": 22,
   "id": "5c36e569",
   "metadata": {},
   "outputs": [
    {
     "data": {
      "text/plain": [
       "False"
      ]
     },
     "execution_count": 22,
     "metadata": {},
     "output_type": "execute_result"
    }
   ],
   "source": [
    "np.all(np.isnan(foo))"
   ]
  },
  {
   "cell_type": "code",
   "execution_count": 26,
   "id": "120a8659",
   "metadata": {},
   "outputs": [
    {
     "data": {
      "text/plain": [
       "array([False, False])"
      ]
     },
     "execution_count": 26,
     "metadata": {},
     "output_type": "execute_result"
    }
   ],
   "source": [
    "np.all(np.isnan(foo),0)"
   ]
  },
  {
   "cell_type": "code",
   "execution_count": 27,
   "id": "26a28dfd",
   "metadata": {},
   "outputs": [
    {
     "data": {
      "text/plain": [
       "array([False, False,  True, False])"
      ]
     },
     "execution_count": 27,
     "metadata": {},
     "output_type": "execute_result"
    }
   ],
   "source": [
    "np.all(np.isnan(foo),1)"
   ]
  },
  {
   "cell_type": "markdown",
   "id": "f58452f8",
   "metadata": {},
   "source": [
    "### any "
   ]
  },
  {
   "cell_type": "code",
   "execution_count": 28,
   "id": "c3145098",
   "metadata": {},
   "outputs": [
    {
     "data": {
      "text/plain": [
       "True"
      ]
     },
     "execution_count": 28,
     "metadata": {},
     "output_type": "execute_result"
    }
   ],
   "source": [
    "np.any(np.isnan(foo))"
   ]
  },
  {
   "cell_type": "code",
   "execution_count": 30,
   "id": "a16b163b",
   "metadata": {},
   "outputs": [
    {
     "data": {
      "text/plain": [
       "array([ True,  True])"
      ]
     },
     "execution_count": 30,
     "metadata": {},
     "output_type": "execute_result"
    }
   ],
   "source": [
    "np.any(np.isnan(foo), axis=0)"
   ]
  },
  {
   "cell_type": "code",
   "execution_count": 29,
   "id": "493456dd",
   "metadata": {},
   "outputs": [
    {
     "data": {
      "text/plain": [
       "array([ True, False,  True,  True])"
      ]
     },
     "execution_count": 29,
     "metadata": {},
     "output_type": "execute_result"
    }
   ],
   "source": [
    "np.any(np.isnan(foo), axis=1)"
   ]
  },
  {
   "cell_type": "markdown",
   "id": "c319c503",
   "metadata": {},
   "source": [
    "### concatenate "
   ]
  },
  {
   "cell_type": "code",
   "execution_count": 39,
   "id": "fb0482e9",
   "metadata": {},
   "outputs": [],
   "source": [
    "foo = np.array([1, 1])\n",
    "bar = np.array([2, 2])\n",
    "baz = np.array([[1, 1]])\n",
    "bingo = np.array([[2, 2, 2]])\n"
   ]
  },
  {
   "cell_type": "code",
   "execution_count": 47,
   "id": "c463501e",
   "metadata": {},
   "outputs": [
    {
     "data": {
      "text/plain": [
       "array([[1, 1, 2, 2, 2]])"
      ]
     },
     "execution_count": 47,
     "metadata": {},
     "output_type": "execute_result"
    }
   ],
   "source": [
    "np.concatenate((baz,bingo),1)\n"
   ]
  },
  {
   "cell_type": "code",
   "execution_count": 45,
   "id": "4945ce2a",
   "metadata": {},
   "outputs": [
    {
     "data": {
      "text/plain": [
       "(4,)"
      ]
     },
     "execution_count": 45,
     "metadata": {},
     "output_type": "execute_result"
    }
   ],
   "source": [
    "np.concatenate((foo,bar),).shape"
   ]
  },
  {
   "cell_type": "code",
   "execution_count": 49,
   "id": "2c5284fb",
   "metadata": {},
   "outputs": [],
   "source": [
    "a = np.arange(6).reshape(2,3)"
   ]
  },
  {
   "cell_type": "markdown",
   "id": "90f9c25a",
   "metadata": {},
   "source": [
    "### count elements"
   ]
  },
  {
   "cell_type": "code",
   "execution_count": 10,
   "id": "416b5c76",
   "metadata": {},
   "outputs": [
    {
     "data": {
      "text/plain": [
       "array([[ 0,  1,  2,  3],\n",
       "       [ 4,  5,  6,  7],\n",
       "       [ 8,  9, 10, 11]])"
      ]
     },
     "execution_count": 10,
     "metadata": {},
     "output_type": "execute_result"
    }
   ],
   "source": [
    "county = np.arange(12).reshape((3,4))\n",
    "county"
   ]
  },
  {
   "cell_type": "code",
   "execution_count": 11,
   "id": "160dad7f",
   "metadata": {},
   "outputs": [
    {
     "data": {
      "text/plain": [
       "7"
      ]
     },
     "execution_count": 11,
     "metadata": {},
     "output_type": "execute_result"
    }
   ],
   "source": [
    "np.count_nonzero((county%2 ==0 )| (county<3))"
   ]
  },
  {
   "cell_type": "code",
   "execution_count": 12,
   "id": "6a7eebcd",
   "metadata": {},
   "outputs": [
    {
     "data": {
      "text/plain": [
       "7"
      ]
     },
     "execution_count": 12,
     "metadata": {},
     "output_type": "execute_result"
    }
   ],
   "source": [
    "# or sum.but sum is slower\n",
    "np.sum((county%2 ==0 )| (county<3))"
   ]
  },
  {
   "cell_type": "code",
   "execution_count": 31,
   "id": "98e82c44",
   "metadata": {},
   "outputs": [
    {
     "data": {
      "text/plain": [
       "2"
      ]
     },
     "execution_count": 31,
     "metadata": {},
     "output_type": "execute_result"
    }
   ],
   "source": [
    "# nan and inf\n",
    "county = county.astype(np.float32())\n",
    "county[[0,1],0] = np.nan\n",
    "np.count_nonzero(np.isnan(county))"
   ]
  },
  {
   "cell_type": "code",
   "execution_count": null,
   "id": "67a88851",
   "metadata": {},
   "outputs": [],
   "source": []
  }
 ],
 "metadata": {
  "kernelspec": {
   "display_name": "Python 3 (ipykernel)",
   "language": "python",
   "name": "python3"
  },
  "language_info": {
   "codemirror_mode": {
    "name": "ipython",
    "version": 3
   },
   "file_extension": ".py",
   "mimetype": "text/x-python",
   "name": "python",
   "nbconvert_exporter": "python",
   "pygments_lexer": "ipython3",
   "version": "3.9.12"
  }
 },
 "nbformat": 4,
 "nbformat_minor": 5
}
