{
 "cells": [
  {
   "cell_type": "markdown",
   "id": "3a3b681c",
   "metadata": {},
   "source": [
    "the source of question is here:<br>\n",
    "[website](https://www.practiceprobs.com/problemsets/python-numpy/)"
   ]
  },
  {
   "cell_type": "code",
   "execution_count": 1,
   "id": "311658fd",
   "metadata": {},
   "outputs": [],
   "source": [
    "import numpy as np"
   ]
  },
  {
   "cell_type": "markdown",
   "id": "cbc93ef8",
   "metadata": {},
   "source": [
    "You’re a relationship scientist, and you’ve developed a questionnaire that determines a person’s love score - a real-valued number between 0 and 100. Your theory is that two people with similar love scores should make a good match 👩‍❤️‍💋‍👨\n",
    "\n",
    "Given the love scores for 10 different people, create a 2-d array where (i,j) gives the absolute difference of the love scores for person i and person j."
   ]
  },
  {
   "cell_type": "raw",
   "id": "9928b12f",
   "metadata": {},
   "source": [
    "the mean tric of this question is you can (10,1) - (1,10)"
   ]
  },
  {
   "cell_type": "code",
   "execution_count": 14,
   "id": "8204816a",
   "metadata": {},
   "outputs": [
    {
     "name": "stdout",
     "output_type": "stream",
     "text": [
      "[ 9.5  53.58 91.77 98.15 84.88 74.61 40.94 56.49  8.39 64.69]\n"
     ]
    }
   ],
   "source": [
    "generator = np.random.default_rng(1010)\n",
    "love_scores = np.round(generator.uniform(low=0, high=100, size=10), 2)\n",
    "\n",
    "print(love_scores)\n",
    "# [ 9.5  53.58 91.77 98.15 84.88 74.61 40.94 56.49  8.39 64.69]"
   ]
  },
  {
   "cell_type": "code",
   "execution_count": 15,
   "id": "c56e146f",
   "metadata": {},
   "outputs": [],
   "source": [
    "# two show more colum in print\n",
    "np.set_printoptions(linewidth=999)"
   ]
  },
  {
   "cell_type": "code",
   "execution_count": 20,
   "id": "060a2c3f",
   "metadata": {},
   "outputs": [
    {
     "data": {
      "text/plain": [
       "array([[ 0.  , 44.08, 82.27, 88.65, 75.38, 65.11, 31.44, 46.99,  1.11, 55.19],\n",
       "       [44.08,  0.  , 38.19, 44.57, 31.3 , 21.03, 12.64,  2.91, 45.19, 11.11],\n",
       "       [82.27, 38.19,  0.  ,  6.38,  6.89, 17.16, 50.83, 35.28, 83.38, 27.08],\n",
       "       [88.65, 44.57,  6.38,  0.  , 13.27, 23.54, 57.21, 41.66, 89.76, 33.46],\n",
       "       [75.38, 31.3 ,  6.89, 13.27,  0.  , 10.27, 43.94, 28.39, 76.49, 20.19],\n",
       "       [65.11, 21.03, 17.16, 23.54, 10.27,  0.  , 33.67, 18.12, 66.22,  9.92],\n",
       "       [31.44, 12.64, 50.83, 57.21, 43.94, 33.67,  0.  , 15.55, 32.55, 23.75],\n",
       "       [46.99,  2.91, 35.28, 41.66, 28.39, 18.12, 15.55,  0.  , 48.1 ,  8.2 ],\n",
       "       [ 1.11, 45.19, 83.38, 89.76, 76.49, 66.22, 32.55, 48.1 ,  0.  , 56.3 ],\n",
       "       [55.19, 11.11, 27.08, 33.46, 20.19,  9.92, 23.75,  8.2 , 56.3 ,  0.  ]])"
      ]
     },
     "execution_count": 20,
     "metadata": {},
     "output_type": "execute_result"
    }
   ],
   "source": [
    "different = np.abs(love_scores.reshape(10,1) - love_scores.reshape(1,10))\n",
    "different\n"
   ]
  },
  {
   "cell_type": "markdown",
   "id": "3b5ff1b4",
   "metadata": {},
   "source": [
    "You’re a vindictive professor 👨‍🏫 and one of your pet peeves is when students rush through their exams. To teach them a lesson, you decide to give zeros to the first three students who score less than sixty, in the order they turned in their exams.\n",
    "\n",
    "Given a 1-d array of integers, identify the first three values less than sixty and replace them with zero."
   ]
  },
  {
   "cell_type": "markdown",
   "id": "e122b4d4",
   "metadata": {},
   "source": [
    "main trick is nonzeros"
   ]
  },
  {
   "cell_type": "code",
   "execution_count": 2,
   "id": "637ab0a5",
   "metadata": {},
   "outputs": [
    {
     "name": "stdout",
     "output_type": "stream",
     "text": [
      "[68. 36. 76. 57. 56. 54. 63. 64. 36. 88. 80. 82. 84. 76. 42.]\n"
     ]
    }
   ],
   "source": [
    "import numpy as np\n",
    "generator = np.random.default_rng(80085)\n",
    "scores = np.round(generator.uniform(low=30, high=100, size=15))\n",
    "print(scores)"
   ]
  },
  {
   "cell_type": "code",
   "execution_count": 3,
   "id": "41d8df9c",
   "metadata": {},
   "outputs": [
    {
     "data": {
      "text/plain": [
       "array([68.,  0., 76.,  0.,  0., 54., 63., 64., 36., 88., 80., 82., 84.,\n",
       "       76., 42.])"
      ]
     },
     "execution_count": 3,
     "metadata": {},
     "output_type": "execute_result"
    }
   ],
   "source": [
    "scores[(scores<60).nonzero()[0][:3]]=0\n",
    "scores"
   ]
  },
  {
   "cell_type": "markdown",
   "id": "4ecba4b7",
   "metadata": {},
   "source": [
    "ex.3<br>\n",
    "Eager to make your mark on the PTA, you decide the best way to hide eggs for the upcoming Easter egg hunt is to use NumPy\n",
    ". You represent the field as a 10x10 array of 0s.\n",
    "Insert 20 random normal values at random (non repeating) locations in the grid. Then you'll know how much candy to hide at each spot."
   ]
  },
  {
   "cell_type": "code",
   "execution_count": 2,
   "id": "7cb8377e",
   "metadata": {},
   "outputs": [
    {
     "name": "stdout",
     "output_type": "stream",
     "text": [
      "[[0. 0. 0. 0. 0. 0. 0. 0. 0. 0.]\n",
      " [0. 0. 0. 0. 0. 0. 0. 0. 0. 0.]\n",
      " [0. 0. 0. 0. 0. 0. 0. 0. 0. 0.]\n",
      " [0. 0. 0. 0. 0. 0. 0. 0. 0. 0.]\n",
      " [0. 0. 0. 0. 0. 0. 0. 0. 0. 0.]\n",
      " [0. 0. 0. 0. 0. 0. 0. 0. 0. 0.]\n",
      " [0. 0. 0. 0. 0. 0. 0. 0. 0. 0.]\n",
      " [0. 0. 0. 0. 0. 0. 0. 0. 0. 0.]\n",
      " [0. 0. 0. 0. 0. 0. 0. 0. 0. 0.]\n",
      " [0. 0. 0. 0. 0. 0. 0. 0. 0. 0.]]\n"
     ]
    }
   ],
   "source": [
    "import numpy as np\n",
    "\n",
    "field = np.zeros(shape = (10, 10))\n",
    "\n",
    "print(field)"
   ]
  },
  {
   "cell_type": "code",
   "execution_count": 3,
   "id": "c573a582",
   "metadata": {},
   "outputs": [
    {
     "data": {
      "text/plain": [
       "array([-1.78,  0.81,  0.33,  0.22, -0.14, -1.36,  0.05, -0.41, -0.19,\n",
       "       -1.47,  1.17, -0.43,  0.29, -0.42,  0.31,  1.31, -1.16,  0.1 ,\n",
       "        0.85, -0.58])"
      ]
     },
     "execution_count": 3,
     "metadata": {},
     "output_type": "execute_result"
    }
   ],
   "source": [
    "candy_amount = np.round(np.random.normal(size=20) ,2)\n",
    "candy_amount"
   ]
  },
  {
   "cell_type": "code",
   "execution_count": 4,
   "id": "4620d5ff",
   "metadata": {},
   "outputs": [
    {
     "data": {
      "text/plain": [
       "array([ 3,  4, 11, 14, 38, 41, 42, 51, 54, 55, 60, 63, 68, 76, 80, 83, 85,\n",
       "       93, 97, 98])"
      ]
     },
     "execution_count": 4,
     "metadata": {},
     "output_type": "execute_result"
    }
   ],
   "source": [
    "place = np.random.choice(field.size,20,replace = False)\n",
    "np.sort(place)"
   ]
  },
  {
   "cell_type": "code",
   "execution_count": 10,
   "id": "905e5fd6",
   "metadata": {},
   "outputs": [
    {
     "data": {
      "text/plain": [
       "array([[ 0.  ,  0.  ,  0.  , -0.19, -0.43,  0.  ,  0.  ,  0.  ,  0.  ,  0.  ],\n",
       "       [ 0.  ,  0.05,  0.  ,  0.  , -0.14,  0.  ,  0.  ,  0.  ,  0.  ,  0.  ],\n",
       "       [ 0.  ,  0.  ,  0.  ,  0.  ,  0.  ,  0.  ,  0.  ,  0.  ,  0.  ,  0.  ],\n",
       "       [ 0.  ,  0.  ,  0.  ,  0.  ,  0.  ,  0.  ,  0.  ,  0.  ,  0.85,  0.  ],\n",
       "       [ 0.  ,  1.31,  0.1 ,  0.  ,  0.  ,  0.  ,  0.  ,  0.  ,  0.  ,  0.  ],\n",
       "       [ 0.  ,  0.22,  0.  ,  0.  , -1.36, -1.47,  0.  ,  0.  ,  0.  ,  0.  ],\n",
       "       [-0.41,  0.  ,  0.  , -0.42,  0.  ,  0.  ,  0.  ,  0.  ,  0.81,  0.  ],\n",
       "       [ 0.  ,  0.  ,  0.  ,  0.  ,  0.  ,  0.  ,  0.29,  0.  ,  0.  ,  0.  ],\n",
       "       [-1.78,  0.  ,  0.  , -0.58,  0.  , -1.16,  0.  ,  0.  ,  0.  ,  0.  ],\n",
       "       [ 0.  ,  0.  ,  0.  ,  1.17,  0.  ,  0.  ,  0.  ,  0.31,  0.33,  0.  ]])"
      ]
     },
     "execution_count": 10,
     "metadata": {},
     "output_type": "execute_result"
    }
   ],
   "source": [
    "np.set_printoptions(linewidth=1000)\n",
    "field.reshape(100,)[[place]] = [candy_amount]\n",
    "field"
   ]
  },
  {
   "cell_type": "code",
   "execution_count": 7,
   "id": "37b8c247",
   "metadata": {},
   "outputs": [
    {
     "data": {
      "text/plain": [
       "array([[ 0.  ,  0.  ,  0.  , -0.19, -0.43,  0.  ,  0.  ,  0.  ,  0.  ,  0.  ],\n",
       "       [ 0.  ,  0.05,  0.  ,  0.  , -0.14,  0.  ,  0.  ,  0.  ,  0.  ,  0.  ],\n",
       "       [ 0.  ,  0.  ,  0.  ,  0.  ,  0.  ,  0.  ,  0.  ,  0.  ,  0.  ,  0.  ],\n",
       "       [ 0.  ,  0.  ,  0.  ,  0.  ,  0.  ,  0.  ,  0.  ,  0.  ,  0.85,  0.  ],\n",
       "       [ 0.  ,  1.31,  0.1 ,  0.  ,  0.  ,  0.  ,  0.  ,  0.  ,  0.  ,  0.  ],\n",
       "       [ 0.  ,  0.22,  0.  ,  0.  , -1.36, -1.47,  0.  ,  0.  ,  0.  ,  0.  ],\n",
       "       [-0.41,  0.  ,  0.  , -0.42,  0.  ,  0.  ,  0.  ,  0.  ,  0.81,  0.  ],\n",
       "       [ 0.  ,  0.  ,  0.  ,  0.  ,  0.  ,  0.  ,  0.29,  0.  ,  0.  ,  0.  ],\n",
       "       [-1.78,  0.  ,  0.  , -0.58,  0.  , -1.16,  0.  ,  0.  ,  0.  ,  0.  ],\n",
       "       [ 0.  ,  0.  ,  0.  ,  1.17,  0.  ,  0.  ,  0.  ,  0.31,  0.33,  0.  ]])"
      ]
     },
     "execution_count": 7,
     "metadata": {},
     "output_type": "execute_result"
    }
   ],
   "source": [
    "np.set_printoptions(linewidth=1000)\n",
    "\n",
    "#reval underestands number of array\n",
    "field.ravel()[[place]] = [candy_amount]\n",
    "field"
   ]
  },
  {
   "cell_type": "code",
   "execution_count": null,
   "id": "c5efcbaa",
   "metadata": {},
   "outputs": [],
   "source": []
  }
 ],
 "metadata": {
  "kernelspec": {
   "display_name": "Python 3 (ipykernel)",
   "language": "python",
   "name": "python3"
  },
  "language_info": {
   "codemirror_mode": {
    "name": "ipython",
    "version": 3
   },
   "file_extension": ".py",
   "mimetype": "text/x-python",
   "name": "python",
   "nbconvert_exporter": "python",
   "pygments_lexer": "ipython3",
   "version": "3.9.12"
  }
 },
 "nbformat": 4,
 "nbformat_minor": 5
}
