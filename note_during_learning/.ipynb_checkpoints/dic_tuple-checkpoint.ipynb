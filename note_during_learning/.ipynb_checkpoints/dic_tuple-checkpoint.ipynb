{
 "cells": [
  {
   "cell_type": "markdown",
   "id": "8d485d69",
   "metadata": {},
   "source": [
    "### tuple"
   ]
  },
  {
   "cell_type": "markdown",
   "id": "bcee278f",
   "metadata": {},
   "source": [
    "#### things witch seperated with , \n",
    "#### tehey are  immulated listlist "
   ]
  },
  {
   "cell_type": "code",
   "execution_count": 16,
   "id": "b3bfd17d",
   "metadata": {},
   "outputs": [
    {
     "name": "stdout",
     "output_type": "stream",
     "text": [
      "('sara',)\n"
     ]
    },
    {
     "data": {
      "text/plain": [
       "tuple"
      ]
     },
     "execution_count": 16,
     "metadata": {},
     "output_type": "execute_result"
    }
   ],
   "source": [
    "a=\"sara\",\n",
    "print(a)\n",
    "type(a)"
   ]
  },
  {
   "cell_type": "code",
   "execution_count": 17,
   "id": "c9c9c423",
   "metadata": {},
   "outputs": [
    {
     "data": {
      "text/plain": [
       "'i'"
      ]
     },
     "execution_count": 17,
     "metadata": {},
     "output_type": "execute_result"
    }
   ],
   "source": [
    "tup=(\"ds,\",[4,\"pilio\"],(8,4,4),5)\n",
    "tup[1][1][3]"
   ]
  },
  {
   "cell_type": "code",
   "execution_count": 18,
   "id": "6c0ceb6d",
   "metadata": {},
   "outputs": [
    {
     "data": {
      "text/plain": [
       "('ds,', (8, 4, 4))"
      ]
     },
     "execution_count": 18,
     "metadata": {},
     "output_type": "execute_result"
    }
   ],
   "source": [
    "tup[::2]"
   ]
  },
  {
   "cell_type": "code",
   "execution_count": 19,
   "id": "ecdfcf5d",
   "metadata": {},
   "outputs": [
    {
     "data": {
      "text/plain": [
       "1"
      ]
     },
     "execution_count": 19,
     "metadata": {},
     "output_type": "execute_result"
    }
   ],
   "source": [
    "tup.count(5)"
   ]
  },
  {
   "cell_type": "code",
   "execution_count": 20,
   "id": "65a937b3",
   "metadata": {},
   "outputs": [
    {
     "data": {
      "text/plain": [
       "3"
      ]
     },
     "execution_count": 20,
     "metadata": {},
     "output_type": "execute_result"
    }
   ],
   "source": [
    "tup.index(5)"
   ]
  },
  {
   "cell_type": "markdown",
   "id": "a2747ab9",
   "metadata": {},
   "source": [
    "### set"
   ]
  },
  {
   "cell_type": "code",
   "execution_count": 21,
   "id": "d08ba53d",
   "metadata": {},
   "outputs": [],
   "source": [
    "## set\n",
    "### doesnt show similar elements\n",
    "### doesnt have 'tartib'"
   ]
  },
  {
   "cell_type": "code",
   "execution_count": 22,
   "id": "8a49064e",
   "metadata": {},
   "outputs": [
    {
     "name": "stdout",
     "output_type": "stream",
     "text": [
      "[1, 4]\n"
     ]
    }
   ],
   "source": [
    "a=[3,4]\n",
    "a[0]=1\n",
    "print(a)\n",
    "\n",
    "a={3,4,1,}\n"
   ]
  },
  {
   "cell_type": "code",
   "execution_count": 23,
   "id": "f65202f6",
   "metadata": {},
   "outputs": [
    {
     "name": "stdout",
     "output_type": "stream",
     "text": [
      "True\n",
      "{1, 2, (1,), 'salar'}\n",
      "{1, 2, (1,), 'sima', 'salar'}\n",
      "{1}\n",
      "{'sima', 2, 'salar', (1,)}\n",
      "{(1,), 2, 'salar'}\n",
      "False\n",
      "4\n"
     ]
    }
   ],
   "source": [
    "set_ = {1,2,1,\"salar\", (1,)}\n",
    "sat_1={\"sima\",1}\n",
    "\n",
    "\n",
    "print(\"salar\" in set_)\n",
    "print(set_)\n",
    "print(set_ | sat_1)\n",
    "print(set_ & sat_1)\n",
    "print(set_ ^ sat_1)   # in a or b , but not in both\n",
    "print(set_ - sat_1)   # uniq item in first\n",
    "print(set_ > sat_1)   # is a incloud every item in b?\n",
    "print(len(set_))"
   ]
  },
  {
   "cell_type": "markdown",
   "id": "084bdc5d",
   "metadata": {},
   "source": [
    "### dictionary"
   ]
  },
  {
   "cell_type": "code",
   "execution_count": 24,
   "id": "2744a79f",
   "metadata": {},
   "outputs": [
    {
     "data": {
      "text/plain": [
       "{'limo': 'green', 'kivi': 'green', 'orange': 'red'}"
      ]
     },
     "execution_count": 24,
     "metadata": {},
     "output_type": "execute_result"
    }
   ],
   "source": [
    "names = dict(limo = \"green\"\n",
    "    ,kivi = \"green\",\n",
    "        orange = \"red\")\n",
    "names"
   ]
  },
  {
   "cell_type": "code",
   "execution_count": 25,
   "id": "2844ef0b",
   "metadata": {},
   "outputs": [],
   "source": [
    "countries={\"iran\":\"tehran\" ,\n",
    "           \"italy\":\"rome\",\n",
    "          \"Fiji\" :\"Suva\"}"
   ]
  },
  {
   "cell_type": "code",
   "execution_count": 26,
   "id": "7be96571",
   "metadata": {},
   "outputs": [
    {
     "data": {
      "text/plain": [
       "'tehran'"
      ]
     },
     "execution_count": 26,
     "metadata": {},
     "output_type": "execute_result"
    }
   ],
   "source": [
    "countries[\"iran\"\n",
    "        ]"
   ]
  },
  {
   "cell_type": "code",
   "execution_count": 44,
   "id": "e83e79b1",
   "metadata": {},
   "outputs": [
    {
     "name": "stdout",
     "output_type": "stream",
     "text": [
      "{'iran': 'qom', 'italy': 'rome', 'Fiji': 'Suva', 'spain': 'madrid', 'japon': 'tokyo'}\n"
     ]
    },
    {
     "data": {
      "text/plain": [
       "'rome'"
      ]
     },
     "execution_count": 44,
     "metadata": {},
     "output_type": "execute_result"
    }
   ],
   "source": [
    "#show value by key\n",
    "print(countries)\n",
    "countries[\"italy\"]"
   ]
  },
  {
   "cell_type": "code",
   "execution_count": 45,
   "id": "d19d8527",
   "metadata": {},
   "outputs": [
    {
     "ename": "KeyError",
     "evalue": "'china'",
     "output_type": "error",
     "traceback": [
      "\u001b[1;31m---------------------------------------------------------------------------\u001b[0m",
      "\u001b[1;31mKeyError\u001b[0m                                  Traceback (most recent call last)",
      "Input \u001b[1;32mIn [45]\u001b[0m, in \u001b[0;36m<cell line: 1>\u001b[1;34m()\u001b[0m\n\u001b[1;32m----> 1\u001b[0m \u001b[43mcountries\u001b[49m\u001b[43m[\u001b[49m\u001b[38;5;124;43m\"\u001b[39;49m\u001b[38;5;124;43mchina\u001b[39;49m\u001b[38;5;124;43m\"\u001b[39;49m\u001b[43m]\u001b[49m\n",
      "\u001b[1;31mKeyError\u001b[0m: 'china'"
     ]
    }
   ],
   "source": [
    "countries[\"china\"]\n",
    "#to avoid error we use get"
   ]
  },
  {
   "cell_type": "code",
   "execution_count": 43,
   "id": "8ccdd82e",
   "metadata": {},
   "outputs": [
    {
     "name": "stdout",
     "output_type": "stream",
     "text": [
      "rome ggg {'iran': 'qom', 'italy': 'rome', 'Fiji': 'Suva', 'spain': 'madrid', 'japon': 'tokyo'}\n"
     ]
    },
    {
     "data": {
      "text/plain": [
       "True"
      ]
     },
     "execution_count": 43,
     "metadata": {},
     "output_type": "execute_result"
    }
   ],
   "source": [
    "countries\n",
    "a=countries.get(\"italy\", 7)\n",
    "print(a,\"ggg\",countries)\n",
    "\"italy\" in countries"
   ]
  },
  {
   "cell_type": "markdown",
   "id": "00018589",
   "metadata": {},
   "source": [
    "### add"
   ]
  },
  {
   "cell_type": "code",
   "execution_count": 27,
   "id": "80767cfa",
   "metadata": {},
   "outputs": [
    {
     "data": {
      "text/plain": [
       "{'iran': 'qom', 'italy': 'rome', 'Fiji': 'Suva'}"
      ]
     },
     "execution_count": 27,
     "metadata": {},
     "output_type": "execute_result"
    }
   ],
   "source": [
    "countries[\"iran\"]= \"qom\"\n",
    "countries"
   ]
  },
  {
   "cell_type": "code",
   "execution_count": 28,
   "id": "393afdc7",
   "metadata": {},
   "outputs": [
    {
     "data": {
      "text/plain": [
       "{'iran': 'qom', 'italy': 'rome', 'Fiji': 'Suva', 'spain': 'madrid'}"
      ]
     },
     "execution_count": 28,
     "metadata": {},
     "output_type": "execute_result"
    }
   ],
   "source": [
    "countries[\"spain\"]= \"madrid\"\n",
    "countries"
   ]
  },
  {
   "cell_type": "code",
   "execution_count": 29,
   "id": "89a990a4",
   "metadata": {},
   "outputs": [
    {
     "data": {
      "text/plain": [
       "{'iran': 'qom',\n",
       " 'italy': 'rome',\n",
       " 'Fiji': 'Suva',\n",
       " 'spain': 'madrid',\n",
       " 'Haiti': 'Port au Prince',\n",
       " 'japon': 'tokyo'}"
      ]
     },
     "execution_count": 29,
     "metadata": {},
     "output_type": "execute_result"
    }
   ],
   "source": [
    "### like extend in list,but it will remove repeated item\n",
    "\n",
    "new={\"Haiti\":\"Port au Prince\",\"japon\":\"tokyo\",\"Fiji\" :\"Suva\"}\n",
    "countries.update(new)\n",
    "countries"
   ]
  },
  {
   "cell_type": "code",
   "execution_count": 30,
   "id": "3d1bedcb",
   "metadata": {},
   "outputs": [
    {
     "name": "stdout",
     "output_type": "stream",
     "text": [
      "False False True\n"
     ]
    }
   ],
   "source": [
    "print(\"germany\" in countries,\n",
    "\"tokyo\"in countries,\n",
    "\"Fiji\"in countries)"
   ]
  },
  {
   "cell_type": "markdown",
   "id": "a502a74d",
   "metadata": {},
   "source": [
    "### acces to key , value , and both"
   ]
  },
  {
   "cell_type": "code",
   "execution_count": 31,
   "id": "3f7b2794",
   "metadata": {},
   "outputs": [
    {
     "data": {
      "text/plain": [
       "dict_keys(['iran', 'italy', 'Fiji', 'spain', 'Haiti', 'japon'])"
      ]
     },
     "execution_count": 31,
     "metadata": {},
     "output_type": "execute_result"
    }
   ],
   "source": [
    "countries.keys()"
   ]
  },
  {
   "cell_type": "code",
   "execution_count": 32,
   "id": "2ea387e6",
   "metadata": {},
   "outputs": [
    {
     "data": {
      "text/plain": [
       "dict_values(['qom', 'rome', 'Suva', 'madrid', 'Port au Prince', 'tokyo'])"
      ]
     },
     "execution_count": 32,
     "metadata": {},
     "output_type": "execute_result"
    }
   ],
   "source": [
    "countries.values()"
   ]
  },
  {
   "cell_type": "code",
   "execution_count": 33,
   "id": "d9472f6d",
   "metadata": {},
   "outputs": [
    {
     "data": {
      "text/plain": [
       "dict_items([('iran', 'qom'), ('italy', 'rome'), ('Fiji', 'Suva'), ('spain', 'madrid'), ('Haiti', 'Port au Prince'), ('japon', 'tokyo')])"
      ]
     },
     "execution_count": 33,
     "metadata": {},
     "output_type": "execute_result"
    }
   ],
   "source": [
    "countries.items()"
   ]
  },
  {
   "cell_type": "code",
   "execution_count": 34,
   "id": "c086b79f",
   "metadata": {},
   "outputs": [
    {
     "data": {
      "text/plain": [
       "False"
      ]
     },
     "execution_count": 34,
     "metadata": {},
     "output_type": "execute_result"
    }
   ],
   "source": [
    "\"macawo\" in countries"
   ]
  },
  {
   "cell_type": "code",
   "execution_count": 35,
   "id": "7543afb5",
   "metadata": {},
   "outputs": [
    {
     "data": {
      "text/plain": [
       "True"
      ]
     },
     "execution_count": 35,
     "metadata": {},
     "output_type": "execute_result"
    }
   ],
   "source": [
    "\"Fiji\" in countries.keys()"
   ]
  },
  {
   "cell_type": "markdown",
   "id": "a9127973",
   "metadata": {},
   "source": [
    "### delite"
   ]
  },
  {
   "cell_type": "code",
   "execution_count": 36,
   "id": "62bc380c",
   "metadata": {},
   "outputs": [
    {
     "data": {
      "text/plain": [
       "{'iran': 'qom',\n",
       " 'italy': 'rome',\n",
       " 'Fiji': 'Suva',\n",
       " 'spain': 'madrid',\n",
       " 'japon': 'tokyo'}"
      ]
     },
     "execution_count": 36,
     "metadata": {},
     "output_type": "execute_result"
    }
   ],
   "source": [
    "del countries[\"Haiti\"]\n",
    "countries"
   ]
  },
  {
   "cell_type": "markdown",
   "id": "9123100f",
   "metadata": {},
   "source": [
    "### empty dic"
   ]
  },
  {
   "cell_type": "code",
   "execution_count": 38,
   "id": "55cf74a4",
   "metadata": {},
   "outputs": [],
   "source": [
    "empty_dic = dict()\n",
    "empty_dic_1={}\n",
    "empty=set()"
   ]
  },
  {
   "cell_type": "code",
   "execution_count": 49,
   "id": "103122e4",
   "metadata": {},
   "outputs": [],
   "source": [
    "a='potin',3,5\n",
    "b={3,\"lop\",4}\n",
    "c=dict(gmail=\"google\", towin =\"none\")\n"
   ]
  },
  {
   "cell_type": "code",
   "execution_count": 53,
   "id": "78775f61",
   "metadata": {},
   "outputs": [
    {
     "name": "stdout",
     "output_type": "stream",
     "text": [
      "potin b[0] c[0]\n"
     ]
    }
   ],
   "source": [
    "print(a[0],\"b[0]\",\"c[0]\")"
   ]
  },
  {
   "cell_type": "markdown",
   "id": "c119f975",
   "metadata": {},
   "source": [
    "#### hashabling\n"
   ]
  },
  {
   "cell_type": "code",
   "execution_count": 55,
   "id": "9682c5b5",
   "metadata": {},
   "outputs": [
    {
     "data": {
      "text/plain": [
       "[{2, 22}, 3, ['p', 8], (9, 0)]"
      ]
     },
     "execution_count": 55,
     "metadata": {},
     "output_type": "execute_result"
    }
   ],
   "source": [
    "a=[{2,22,2},3,[\"p\",8],(9,0)]\n",
    "a"
   ]
  },
  {
   "cell_type": "code",
   "execution_count": 57,
   "id": "a0d0aa03",
   "metadata": {},
   "outputs": [
    {
     "data": {
      "text/plain": [
       "{('4', 8), 3}"
      ]
     },
     "execution_count": 57,
     "metadata": {},
     "output_type": "execute_result"
    }
   ],
   "source": [
    "b={3,(\"4\",8)}\n",
    "b"
   ]
  },
  {
   "cell_type": "code",
   "execution_count": 58,
   "id": "0a47e889",
   "metadata": {},
   "outputs": [
    {
     "ename": "TypeError",
     "evalue": "unhashable type: 'list'",
     "output_type": "error",
     "traceback": [
      "\u001b[1;31m---------------------------------------------------------------------------\u001b[0m",
      "\u001b[1;31mTypeError\u001b[0m                                 Traceback (most recent call last)",
      "Input \u001b[1;32mIn [58]\u001b[0m, in \u001b[0;36m<cell line: 1>\u001b[1;34m()\u001b[0m\n\u001b[1;32m----> 1\u001b[0m b\u001b[38;5;241m=\u001b[39m{[\u001b[38;5;124m'\u001b[39m\u001b[38;5;124mr\u001b[39m\u001b[38;5;124m'\u001b[39m,\u001b[38;5;241m8\u001b[39m],\u001b[38;5;124m\"\u001b[39m\u001b[38;5;124m;\u001b[39m\u001b[38;5;124m\"\u001b[39m}\n",
      "\u001b[1;31mTypeError\u001b[0m: unhashable type: 'list'"
     ]
    }
   ],
   "source": [
    "b={['r',8],\";\"}"
   ]
  },
  {
   "cell_type": "code",
   "execution_count": 59,
   "id": "ddbc61b5",
   "metadata": {},
   "outputs": [
    {
     "ename": "TypeError",
     "evalue": "unhashable type: 'dict'",
     "output_type": "error",
     "traceback": [
      "\u001b[1;31m---------------------------------------------------------------------------\u001b[0m",
      "\u001b[1;31mTypeError\u001b[0m                                 Traceback (most recent call last)",
      "Input \u001b[1;32mIn [59]\u001b[0m, in \u001b[0;36m<cell line: 1>\u001b[1;34m()\u001b[0m\n\u001b[1;32m----> 1\u001b[0m b\u001b[38;5;241m=\u001b[39m{{},\u001b[38;5;124m\"\u001b[39m\u001b[38;5;124mm\u001b[39m\u001b[38;5;124m\"\u001b[39m}\n",
      "\u001b[1;31mTypeError\u001b[0m: unhashable type: 'dict'"
     ]
    }
   ],
   "source": [
    "b={{},\"m\"}"
   ]
  },
  {
   "cell_type": "code",
   "execution_count": 60,
   "id": "80df5ef0",
   "metadata": {},
   "outputs": [
    {
     "data": {
      "text/plain": [
       "({44}, 'G', [0, 9])"
      ]
     },
     "execution_count": 60,
     "metadata": {},
     "output_type": "execute_result"
    }
   ],
   "source": [
    "c=({44,44,44,44},\"G\",[0,9])\n",
    "c"
   ]
  },
  {
   "cell_type": "code",
   "execution_count": 5,
   "id": "420f506e",
   "metadata": {},
   "outputs": [
    {
     "data": {
      "text/plain": [
       "1"
      ]
     },
     "execution_count": 5,
     "metadata": {},
     "output_type": "execute_result"
    }
   ],
   "source": []
  },
  {
   "cell_type": "code",
   "execution_count": null,
   "id": "31ef800d",
   "metadata": {},
   "outputs": [],
   "source": []
  }
 ],
 "metadata": {
  "kernelspec": {
   "display_name": "Python 3 (ipykernel)",
   "language": "python",
   "name": "python3"
  },
  "language_info": {
   "codemirror_mode": {
    "name": "ipython",
    "version": 3
   },
   "file_extension": ".py",
   "mimetype": "text/x-python",
   "name": "python",
   "nbconvert_exporter": "python",
   "pygments_lexer": "ipython3",
   "version": "3.9.12"
  }
 },
 "nbformat": 4,
 "nbformat_minor": 5
}
