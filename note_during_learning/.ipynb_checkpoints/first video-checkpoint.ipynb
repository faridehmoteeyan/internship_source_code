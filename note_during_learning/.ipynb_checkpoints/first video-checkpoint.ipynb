{
 "cells": [
  {
   "cell_type": "markdown",
   "id": "12902589",
   "metadata": {},
   "source": [
    "# first video"
   ]
  },
  {
   "cell_type": "code",
   "execution_count": 4,
   "id": "98fa1eae",
   "metadata": {},
   "outputs": [
    {
     "name": "stdout",
     "output_type": "stream",
     "text": [
      "farideh\n"
     ]
    }
   ],
   "source": [
    "print(me)"
   ]
  },
  {
   "cell_type": "code",
   "execution_count": 3,
   "id": "63215d42",
   "metadata": {},
   "outputs": [],
   "source": [
    "me = \"farideh\"\n"
   ]
  },
  {
   "cell_type": "code",
   "execution_count": null,
   "id": "a46946a3",
   "metadata": {},
   "outputs": [],
   "source": [
    "print(me)"
   ]
  },
  {
   "cell_type": "markdown",
   "id": "c16417af",
   "metadata": {},
   "source": [
    "$\\sqrt{x}$"
   ]
  },
  {
   "cell_type": "markdown",
   "id": "6a33f0b2",
   "metadata": {},
   "source": [
    "# second video"
   ]
  },
  {
   "cell_type": "markdown",
   "id": "fd4ea3a6",
   "metadata": {},
   "source": [
    "### replacing a and b \n"
   ]
  },
  {
   "cell_type": "code",
   "execution_count": null,
   "id": "92ae1e07",
   "metadata": {},
   "outputs": [],
   "source": [
    "a=10\n",
    "b=30\n",
    "print (a,b)\n",
    "a,b = b,a\n",
    "print(a,b)"
   ]
  },
  {
   "cell_type": "markdown",
   "id": "f31768a6",
   "metadata": {},
   "source": [
    "### delete a variable\n",
    ".use kernnel\n",
    "<br>\n",
    ".use del"
   ]
  },
  {
   "cell_type": "code",
   "execution_count": null,
   "id": "a76968da",
   "metadata": {},
   "outputs": [],
   "source": [
    "del a\n",
    "print(a)"
   ]
  },
  {
   "cell_type": "markdown",
   "id": "0c351053",
   "metadata": {},
   "source": [
    "### complete var automaicly\n",
    "use tab "
   ]
  },
  {
   "cell_type": "code",
   "execution_count": null,
   "id": "09f1ff22",
   "metadata": {},
   "outputs": [],
   "source": [
    "zambi=2\n",
    "print(zambi)\n",
    "zambi ="
   ]
  },
  {
   "cell_type": "markdown",
   "id": "a63d2529",
   "metadata": {},
   "source": [
    "# third video (string)"
   ]
  },
  {
   "cell_type": "markdown",
   "id": "59e347ad",
   "metadata": {},
   "source": [
    "slicing"
   ]
  },
  {
   "cell_type": "code",
   "execution_count": 2,
   "id": "d322a489",
   "metadata": {
    "scrolled": true
   },
   "outputs": [
    {
     "data": {
      "text/plain": [
       "'r'"
      ]
     },
     "execution_count": 2,
     "metadata": {},
     "output_type": "execute_result"
    }
   ],
   "source": [
    "q=\"farideh moteeyan\"\n",
    "char_of_r = q[2]\n",
    "char_of_r"
   ]
  },
  {
   "cell_type": "code",
   "execution_count": null,
   "id": "50e7e646",
   "metadata": {
    "scrolled": true
   },
   "outputs": [],
   "source": [
    "q[0:7]"
   ]
  },
  {
   "cell_type": "code",
   "execution_count": null,
   "id": "1538bd05",
   "metadata": {},
   "outputs": [],
   "source": [
    "q[:7]"
   ]
  },
  {
   "cell_type": "code",
   "execution_count": null,
   "id": "13d7f041",
   "metadata": {},
   "outputs": [],
   "source": [
    "q[8:]"
   ]
  },
  {
   "cell_type": "code",
   "execution_count": 3,
   "id": "d974a66d",
   "metadata": {},
   "outputs": [
    {
     "data": {
      "text/plain": [
       "''"
      ]
     },
     "execution_count": 3,
     "metadata": {},
     "output_type": "execute_result"
    }
   ],
   "source": [
    "q[5:0]"
   ]
  },
  {
   "cell_type": "code",
   "execution_count": 5,
   "id": "0856aa3b",
   "metadata": {},
   "outputs": [
    {
     "data": {
      "text/plain": [
       "'edira'"
      ]
     },
     "execution_count": 5,
     "metadata": {},
     "output_type": "execute_result"
    }
   ],
   "source": [
    "q[5:0:-1]"
   ]
  },
  {
   "cell_type": "code",
   "execution_count": 7,
   "id": "6f08bff2",
   "metadata": {},
   "outputs": [
    {
     "data": {
      "text/plain": [
       "'eeya'"
      ]
     },
     "execution_count": 7,
     "metadata": {},
     "output_type": "execute_result"
    }
   ],
   "source": [
    "q[-5:-1]"
   ]
  },
  {
   "cell_type": "code",
   "execution_count": 8,
   "id": "d1883797",
   "metadata": {},
   "outputs": [
    {
     "data": {
      "text/plain": [
       "''"
      ]
     },
     "execution_count": 8,
     "metadata": {},
     "output_type": "execute_result"
    }
   ],
   "source": [
    "q[-1:-3]"
   ]
  },
  {
   "cell_type": "code",
   "execution_count": 11,
   "id": "d7bd0351",
   "metadata": {},
   "outputs": [
    {
     "data": {
      "text/plain": [
       "'na'"
      ]
     },
     "execution_count": 11,
     "metadata": {},
     "output_type": "execute_result"
    }
   ],
   "source": [
    "q[-1:-3:-1]"
   ]
  },
  {
   "cell_type": "markdown",
   "id": "ea93989a",
   "metadata": {},
   "source": [
    "step\n",
    "<p style=\"background-color:#69cee6;\">\n",
    "    از کلمه 0 تا 4 ،دوتا دوتا بشمر\n",
    "</p>"
   ]
  },
  {
   "cell_type": "code",
   "execution_count": null,
   "id": "48a26c1a",
   "metadata": {
    "scrolled": true
   },
   "outputs": [],
   "source": [
    "var=\"sprinog\"\n",
    "print(var)\n",
    "var[0:7:4]"
   ]
  },
  {
   "cell_type": "code",
   "execution_count": null,
   "id": "dd3c0d28",
   "metadata": {},
   "outputs": [],
   "source": [
    "q"
   ]
  },
  {
   "cell_type": "code",
   "execution_count": null,
   "id": "e94f0316",
   "metadata": {},
   "outputs": [],
   "source": [
    "a=q[:len(q)-1:2]\n",
    "\n",
    "a"
   ]
  },
  {
   "cell_type": "code",
   "execution_count": null,
   "id": "4b2bee56",
   "metadata": {},
   "outputs": [],
   "source": [
    "b=q[1::2]\n",
    "b"
   ]
  },
  {
   "cell_type": "code",
   "execution_count": null,
   "id": "68fc5577",
   "metadata": {},
   "outputs": [],
   "source": [
    "print(len(a),\n",
    "len(b))"
   ]
  },
  {
   "cell_type": "markdown",
   "id": "84df9cad",
   "metadata": {},
   "source": [
    "<p style=\"background-color:#cd8af5;\">\n",
    "؟چه شکلی\n",
    "</p>"
   ]
  },
  {
   "cell_type": "code",
   "execution_count": null,
   "id": "ba514d07",
   "metadata": {
    "scrolled": false
   },
   "outputs": [],
   "source": [
    "# end does not mean we have 1 variable.\n",
    "\n",
    "for i in range(0,len(a)):\n",
    "    print(a[i]+b[i], end=\"\")\n",
    "   "
   ]
  },
  {
   "cell_type": "code",
   "execution_count": null,
   "id": "eac7d03f",
   "metadata": {},
   "outputs": [],
   "source": [
    "res=\"\"\n",
    "for i,j in zip(q[::2],q[1::2]):\n",
    "    print(i,j)\n",
    "    res=res+i+j\n",
    "print(res)"
   ]
  },
  {
   "cell_type": "raw",
   "id": "edb663e5",
   "metadata": {},
   "source": [
    "a = (\"John\", \"Charles\", \"Mike\")\n",
    "b = (\"Jenny\", \"Christy\", \"Monica\")\n",
    "\n",
    "x = zip(a, b) \n",
    "\n",
    "for i in x:\n",
    "    print(i)"
   ]
  },
  {
   "cell_type": "markdown",
   "id": "19003fc3",
   "metadata": {},
   "source": [
    "reverse a string"
   ]
  },
  {
   "cell_type": "code",
   "execution_count": null,
   "id": "db2d6632",
   "metadata": {},
   "outputs": [],
   "source": [
    "hi=\"Hello World!\"\n",
    "hi[::-1]"
   ]
  },
  {
   "cell_type": "markdown",
   "id": "84173542",
   "metadata": {},
   "source": [
    "### index\n",
    ".tab +shift....information box"
   ]
  },
  {
   "cell_type": "code",
   "execution_count": null,
   "id": "b5ce843b",
   "metadata": {},
   "outputs": [],
   "source": [
    "hi=\"Hello World!\"\n",
    "hi.index(\"or\")"
   ]
  },
  {
   "cell_type": "markdown",
   "id": "dbff796e",
   "metadata": {},
   "source": [
    "### strings are immutable\n",
    "means U can't add or remove char with these method"
   ]
  },
  {
   "cell_type": "code",
   "execution_count": null,
   "id": "cb94a225",
   "metadata": {},
   "outputs": [],
   "source": [
    "hi"
   ]
  },
  {
   "cell_type": "code",
   "execution_count": null,
   "id": "2e2a499f",
   "metadata": {
    "scrolled": false
   },
   "outputs": [],
   "source": [
    "hi[5]=\"_\"\n",
    "hi"
   ]
  },
  {
   "cell_type": "code",
   "execution_count": null,
   "id": "37e01928",
   "metadata": {},
   "outputs": [],
   "source": [
    " del hi[0]\n",
    "hi"
   ]
  },
  {
   "cell_type": "code",
   "execution_count": null,
   "id": "6f0659ab",
   "metadata": {},
   "outputs": [],
   "source": [
    "hi_2=hi[:5]+\"_\"+hi[6:]\n",
    "hi_2"
   ]
  },
  {
   "cell_type": "markdown",
   "id": "f91633c5",
   "metadata": {},
   "source": [
    "## formatar"
   ]
  },
  {
   "cell_type": "markdown",
   "id": "535ea9f2",
   "metadata": {},
   "source": [
    "use print(\"ffffff{}\".formater())"
   ]
  },
  {
   "cell_type": "code",
   "execution_count": null,
   "id": "125ebba5",
   "metadata": {},
   "outputs": [],
   "source": [
    "name=\"amir hossein hashemi\"\n",
    "age= 22\n",
    "print(\"he is {} ,{} years old \".format(name,age))\n",
    "print(\"he is {1} ,{0} years old \".format(name,age))\n",
    "print(\"he name is {name},and his age is {age}\")\n",
    "#print(f.'he was watching his{age}candies on{name}cake')"
   ]
  },
  {
   "cell_type": "markdown",
   "id": "8bd35eab",
   "metadata": {},
   "source": [
    "use % and identify the type"
   ]
  },
  {
   "cell_type": "code",
   "execution_count": null,
   "id": "6ab83f62",
   "metadata": {
    "scrolled": true
   },
   "outputs": [],
   "source": [
    "print(\"he is%s ,%f years old \"%(name,age))"
   ]
  },
  {
   "cell_type": "markdown",
   "id": "9bdfa32c",
   "metadata": {},
   "source": [
    "## simple way\n",
    "print(f\"dddd{var}\")"
   ]
  },
  {
   "cell_type": "code",
   "execution_count": null,
   "id": "98d12b15",
   "metadata": {},
   "outputs": [],
   "source": [
    "#dosn't work.....use f\n",
    "print(\"he name is {name},and his age is {age}\")"
   ]
  },
  {
   "cell_type": "code",
   "execution_count": null,
   "id": "63db13e2",
   "metadata": {},
   "outputs": [],
   "source": [
    "print(f\"he name is {name},and his age is {age}\")"
   ]
  },
  {
   "cell_type": "code",
   "execution_count": null,
   "id": "f15f702f",
   "metadata": {},
   "outputs": [],
   "source": [
    "listy= input(\"give an list to find the maximum\")\n",
    "i = listy[0]\n",
    "for j in listy:\n",
    " if  i<j:\n",
    "  i=j\n",
    "print(i)"
   ]
  },
  {
   "cell_type": "code",
   "execution_count": null,
   "id": "4a4410d7",
   "metadata": {},
   "outputs": [],
   "source": []
  }
 ],
 "metadata": {
  "kernelspec": {
   "display_name": "Python 3 (ipykernel)",
   "language": "python",
   "name": "python3"
  },
  "language_info": {
   "codemirror_mode": {
    "name": "ipython",
    "version": 3
   },
   "file_extension": ".py",
   "mimetype": "text/x-python",
   "name": "python",
   "nbconvert_exporter": "python",
   "pygments_lexer": "ipython3",
   "version": "3.9.12"
  }
 },
 "nbformat": 4,
 "nbformat_minor": 5
}
