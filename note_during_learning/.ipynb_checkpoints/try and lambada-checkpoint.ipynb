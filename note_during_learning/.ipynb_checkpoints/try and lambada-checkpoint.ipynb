{
 "cells": [
  {
   "cell_type": "code",
   "execution_count": null,
   "id": "3e5af3bf",
   "metadata": {},
   "outputs": [],
   "source": []
  },
  {
   "cell_type": "markdown",
   "id": "23491b64",
   "metadata": {},
   "source": [
    "### lambda "
   ]
  },
  {
   "cell_type": "markdown",
   "id": "ed6beb70",
   "metadata": {},
   "source": [
    "#####  sorting  list  without lambada"
   ]
  },
  {
   "cell_type": "code",
   "execution_count": 1,
   "id": "326a10f1",
   "metadata": {},
   "outputs": [],
   "source": [
    "lst = [[1,2,[7,2],'s'],[9,8,[7,4],'a'],[9,8,[7,5],'a'],[4,5,[7,9],'b'],[7,5,[7,5],'e']]\n"
   ]
  },
  {
   "cell_type": "code",
   "execution_count": null,
   "id": "80ce0009",
   "metadata": {},
   "outputs": [],
   "source": [
    "for item in lst:\n",
    "    a=item[3]"
   ]
  },
  {
   "cell_type": "code",
   "execution_count": 14,
   "id": "8b24a719",
   "metadata": {},
   "outputs": [
    {
     "data": {
      "text/plain": [
       "True"
      ]
     },
     "execution_count": 14,
     "metadata": {},
     "output_type": "execute_result"
    }
   ],
   "source": [
    "lst.sort(key=a)\n"
   ]
  },
  {
   "cell_type": "code",
   "execution_count": null,
   "id": "b89780eb",
   "metadata": {},
   "outputs": [],
   "source": [
    "a=lst.sort(key=lambada m=m[3])"
   ]
  }
 ],
 "metadata": {
  "kernelspec": {
   "display_name": "Python 3 (ipykernel)",
   "language": "python",
   "name": "python3"
  },
  "language_info": {
   "codemirror_mode": {
    "name": "ipython",
    "version": 3
   },
   "file_extension": ".py",
   "mimetype": "text/x-python",
   "name": "python",
   "nbconvert_exporter": "python",
   "pygments_lexer": "ipython3",
   "version": "3.9.12"
  }
 },
 "nbformat": 4,
 "nbformat_minor": 5
}
