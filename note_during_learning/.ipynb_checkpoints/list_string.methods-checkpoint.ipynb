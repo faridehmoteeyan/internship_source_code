{
 "cells": [
  {
   "cell_type": "markdown",
   "id": "9fb4c2f0",
   "metadata": {},
   "source": [
    "## list"
   ]
  },
  {
   "cell_type": "code",
   "execution_count": 46,
   "id": "8cb7bd65",
   "metadata": {},
   "outputs": [],
   "source": [
    "list=[\"ali\",\"saadat\",\"hashem\",[\"helia\",\"akhtar\"],1]\n"
   ]
  },
  {
   "cell_type": "markdown",
   "id": "fc6a930d",
   "metadata": {},
   "source": [
    "### nested list"
   ]
  },
  {
   "cell_type": "code",
   "execution_count": 47,
   "id": "7a0aadbf",
   "metadata": {},
   "outputs": [
    {
     "data": {
      "text/plain": [
       "'a'"
      ]
     },
     "execution_count": 47,
     "metadata": {},
     "output_type": "execute_result"
    }
   ],
   "source": [
    "list[1][1]\n"
   ]
  },
  {
   "cell_type": "markdown",
   "id": "a601321d",
   "metadata": {},
   "source": [
    "### range\n",
    "range(int)------          true\n",
    "<br>\n",
    "range(float)-----   false"
   ]
  },
  {
   "cell_type": "code",
   "execution_count": 19,
   "id": "cb751e4e",
   "metadata": {},
   "outputs": [
    {
     "ename": "TypeError",
     "evalue": "'float' object cannot be interpreted as an integer",
     "output_type": "error",
     "traceback": [
      "\u001b[1;31m---------------------------------------------------------------------------\u001b[0m",
      "\u001b[1;31mTypeError\u001b[0m                                 Traceback (most recent call last)",
      "Input \u001b[1;32mIn [19]\u001b[0m, in \u001b[0;36m<cell line: 1>\u001b[1;34m()\u001b[0m\n\u001b[1;32m----> 1\u001b[0m \u001b[38;5;28;43mrange\u001b[39;49m\u001b[43m(\u001b[49m\u001b[38;5;241;43m2.0\u001b[39;49m\u001b[43m)\u001b[49m\n",
      "\u001b[1;31mTypeError\u001b[0m: 'float' object cannot be interpreted as an integer"
     ]
    }
   ],
   "source": [
    "range(2.0)"
   ]
  },
  {
   "cell_type": "code",
   "execution_count": 14,
   "id": "ba6b79e2",
   "metadata": {},
   "outputs": [
    {
     "data": {
      "text/plain": [
       "[4, 7, 10, 13, 16, 19, 22, 25, 28]"
      ]
     },
     "execution_count": 14,
     "metadata": {},
     "output_type": "execute_result"
    }
   ],
   "source": [
    "list(range(4,30,3))"
   ]
  },
  {
   "cell_type": "code",
   "execution_count": 13,
   "id": "49f4cda8",
   "metadata": {},
   "outputs": [
    {
     "ename": "TypeError",
     "evalue": "'float' object cannot be interpreted as an integer",
     "output_type": "error",
     "traceback": [
      "\u001b[1;31m---------------------------------------------------------------------------\u001b[0m",
      "\u001b[1;31mTypeError\u001b[0m                                 Traceback (most recent call last)",
      "Input \u001b[1;32mIn [13]\u001b[0m, in \u001b[0;36m<cell line: 1>\u001b[1;34m()\u001b[0m\n\u001b[1;32m----> 1\u001b[0m \u001b[38;5;28mlist\u001b[39m(\u001b[38;5;28;43mrange\u001b[39;49m\u001b[43m(\u001b[49m\u001b[38;5;241;43m4\u001b[39;49m\u001b[43m,\u001b[49m\u001b[38;5;241;43m30\u001b[39;49m\u001b[43m,\u001b[49m\u001b[38;5;241;43m3.0\u001b[39;49m\u001b[43m)\u001b[49m)\n",
      "\u001b[1;31mTypeError\u001b[0m: 'float' object cannot be interpreted as an integer"
     ]
    }
   ],
   "source": [
    "list(range(4,30,3.0))\n"
   ]
  },
  {
   "cell_type": "markdown",
   "id": "fa6393bf",
   "metadata": {},
   "source": [
    "### index"
   ]
  },
  {
   "cell_type": "markdown",
   "id": "4452b6e3",
   "metadata": {},
   "source": [
    "<p style=\"background-color:#7FFFD4;\">\"how\"</p>"
   ]
  },
  {
   "cell_type": "code",
   "execution_count": 48,
   "id": "ec555140",
   "metadata": {},
   "outputs": [
    {
     "ename": "ValueError",
     "evalue": "['helia'] is not in list",
     "output_type": "error",
     "traceback": [
      "\u001b[1;31m---------------------------------------------------------------------------\u001b[0m",
      "\u001b[1;31mValueError\u001b[0m                                Traceback (most recent call last)",
      "Input \u001b[1;32mIn [48]\u001b[0m, in \u001b[0;36m<cell line: 3>\u001b[1;34m()\u001b[0m\n\u001b[0;32m      1\u001b[0m \u001b[38;5;66;03m#find sth in a list\u001b[39;00m\n\u001b[0;32m      2\u001b[0m \u001b[38;5;28mlist\u001b[39m\u001b[38;5;241m.\u001b[39mindex(\u001b[38;5;124m\"\u001b[39m\u001b[38;5;124mali\u001b[39m\u001b[38;5;124m\"\u001b[39m)\n\u001b[1;32m----> 3\u001b[0m \u001b[38;5;28;43mlist\u001b[39;49m\u001b[38;5;241;43m.\u001b[39;49m\u001b[43mindex\u001b[49m\u001b[43m(\u001b[49m\u001b[43m[\u001b[49m\u001b[38;5;124;43m\"\u001b[39;49m\u001b[38;5;124;43mhelia\u001b[39;49m\u001b[38;5;124;43m\"\u001b[39;49m\u001b[43m]\u001b[49m\u001b[43m)\u001b[49m\n",
      "\u001b[1;31mValueError\u001b[0m: ['helia'] is not in list"
     ]
    }
   ],
   "source": [
    "#find sth in a list\n",
    "list.index(\"ali\")\n",
    "list.index([\"helia\"])"
   ]
  },
  {
   "cell_type": "markdown",
   "id": "95721f7e",
   "metadata": {},
   "source": [
    "### add to a list"
   ]
  },
  {
   "cell_type": "code",
   "execution_count": 49,
   "id": "3ac881b1",
   "metadata": {},
   "outputs": [],
   "source": [
    "name=[\"ali\",\"mamad\",\"sadegh\",\"kazem\"]"
   ]
  },
  {
   "cell_type": "markdown",
   "id": "1c7ee688",
   "metadata": {},
   "source": [
    "### just <b>one</b> item\n",
    "name.append(\"lotos\",\"seyed\") will give error"
   ]
  },
  {
   "cell_type": "code",
   "execution_count": 50,
   "id": "516d8163",
   "metadata": {},
   "outputs": [
    {
     "name": "stdout",
     "output_type": "stream",
     "text": [
      "['ali', 'mamad', 'sadegh', 'kazem', 'lotos']\n"
     ]
    }
   ],
   "source": [
    "name.append(\"lotos\")\n",
    "print(name)"
   ]
  },
  {
   "cell_type": "code",
   "execution_count": 51,
   "id": "b7711371",
   "metadata": {},
   "outputs": [
    {
     "ename": "TypeError",
     "evalue": "list.extend() takes exactly one argument (2 given)",
     "output_type": "error",
     "traceback": [
      "\u001b[1;31m---------------------------------------------------------------------------\u001b[0m",
      "\u001b[1;31mTypeError\u001b[0m                                 Traceback (most recent call last)",
      "Input \u001b[1;32mIn [51]\u001b[0m, in \u001b[0;36m<cell line: 1>\u001b[1;34m()\u001b[0m\n\u001b[1;32m----> 1\u001b[0m \u001b[43mname\u001b[49m\u001b[38;5;241;43m.\u001b[39;49m\u001b[43mextend\u001b[49m\u001b[43m(\u001b[49m\u001b[38;5;124;43m\"\u001b[39;49m\u001b[38;5;124;43msasan\u001b[39;49m\u001b[38;5;124;43m\"\u001b[39;49m\u001b[43m,\u001b[49m\u001b[38;5;124;43m\"\u001b[39;49m\u001b[38;5;124;43mhatam\u001b[39;49m\u001b[38;5;124;43m\"\u001b[39;49m\u001b[43m)\u001b[49m\n\u001b[0;32m      2\u001b[0m \u001b[38;5;28mprint\u001b[39m(name)\n",
      "\u001b[1;31mTypeError\u001b[0m: list.extend() takes exactly one argument (2 given)"
     ]
    }
   ],
   "source": [
    "name.extend(\"sasan\",\"hatam\")\n",
    "print(name)"
   ]
  },
  {
   "cell_type": "code",
   "execution_count": 53,
   "id": "ff29b6c2",
   "metadata": {
    "scrolled": true
   },
   "outputs": [
    {
     "name": "stdout",
     "output_type": "stream",
     "text": [
      "['ali', 'mamad', 'sadegh', 'kazem', 'lotos', 'sasan', 'hatam', 'sasan', 'hatam']\n"
     ]
    }
   ],
   "source": [
    "name.extend([\"sasan\",\"hatam\"])\n",
    "print(name)"
   ]
  },
  {
   "cell_type": "code",
   "execution_count": 54,
   "id": "7e7fe785",
   "metadata": {},
   "outputs": [
    {
     "name": "stdout",
     "output_type": "stream",
     "text": [
      "['ali', 'mamad', 'sadegh', 'kazem', 'lotos', 'sasan', 'hatam', 'sasan', 'hatam', 1]\n"
     ]
    }
   ],
   "source": [
    "name.extend([1])\n",
    "print(name)"
   ]
  },
  {
   "cell_type": "code",
   "execution_count": 55,
   "id": "1fa73330",
   "metadata": {},
   "outputs": [
    {
     "name": "stdout",
     "output_type": "stream",
     "text": [
      "['ali', 'mamad', 'sadegh', 'kazem', 'lotos', 'sasan', 'hatam', 'sasan', 'hatam', 1, 't', 'i', 'k', 'e']\n"
     ]
    }
   ],
   "source": [
    "name.extend(\"tike\")\n",
    "print(name)"
   ]
  },
  {
   "cell_type": "code",
   "execution_count": 56,
   "id": "74c5b7bc",
   "metadata": {},
   "outputs": [
    {
     "name": "stdout",
     "output_type": "stream",
     "text": [
      "['ali', 'mamad', 'sadegh', 'kazem', 'lotos', 'sasan', 'hatam', 'sasan', 'hatam', 1, 't', 'i', 'k', 'e']\n",
      "['ali', 'mamad', 'sadegh', 'kazem', 'lotos', 'sasan', 'hatam', 'sasan', 'hatam', 1, 't', 'i', 'k', 'e', 'behnam']\n"
     ]
    }
   ],
   "source": [
    "#must have another var to use +\n",
    "o=name+[\"behnam\"]\n",
    "print(name)\n",
    "print(o)"
   ]
  },
  {
   "cell_type": "markdown",
   "id": "2e4b9776",
   "metadata": {},
   "source": [
    "### inserts a new item to a specific index"
   ]
  },
  {
   "cell_type": "code",
   "execution_count": 57,
   "id": "5f4a32b3",
   "metadata": {},
   "outputs": [
    {
     "name": "stdout",
     "output_type": "stream",
     "text": [
      "['soltan', 'ali', 'mamad', 'sadegh', 'kazem', 'lotos', 'sasan', 'hatam', 'sasan', 'hatam', 1, 't', 'i', 'k', 'e']\n"
     ]
    }
   ],
   "source": [
    "name.insert(0,\"soltan\")\n",
    "print(name)"
   ]
  },
  {
   "cell_type": "code",
   "execution_count": 65,
   "id": "601030f0",
   "metadata": {},
   "outputs": [
    {
     "name": "stdout",
     "output_type": "stream",
     "text": [
      "['danial', 'mamad', 'sadegh', 'kazem', 'lotos', 'sasan', 'hatam', 'sasan', 'hatam', 1, 't', 'i', 'k', 'e']\n"
     ]
    }
   ],
   "source": [
    "name[0]=\"danial\"\n",
    "print(name)"
   ]
  },
  {
   "cell_type": "markdown",
   "id": "fb88e12e",
   "metadata": {},
   "source": [
    "### delete an index\n"
   ]
  },
  {
   "cell_type": "code",
   "execution_count": 72,
   "id": "270abfb3",
   "metadata": {},
   "outputs": [
    {
     "name": "stdout",
     "output_type": "stream",
     "text": [
      "['danial', 'mamad', 'sadegh', 'hatam', 'hatam', 1, 't', 'k', 'e']\n"
     ]
    }
   ],
   "source": [
    "del name[7]\n",
    "print(name)"
   ]
  },
  {
   "cell_type": "code",
   "execution_count": 70,
   "id": "85618a49",
   "metadata": {},
   "outputs": [
    {
     "name": "stdout",
     "output_type": "stream",
     "text": [
      "['danial', 'mamad', 'sadegh', 'hatam', 'hatam', 1, 't', 'i', 'k', 'e']\n"
     ]
    }
   ],
   "source": [
    "name.remove(\"sasan\")\n",
    "print(name)"
   ]
  },
  {
   "cell_type": "markdown",
   "id": "65b01f70",
   "metadata": {},
   "source": [
    "### pop()\n",
    "remove and return"
   ]
  },
  {
   "cell_type": "code",
   "execution_count": 75,
   "id": "5a520b32",
   "metadata": {},
   "outputs": [
    {
     "name": "stdout",
     "output_type": "stream",
     "text": [
      "hatam  is return\n",
      "['danial', 'mamad', 'sadegh', 'hatam']\n",
      "hatam  is return\n",
      "['danial', 'mamad', 'sadegh']\n",
      "sadegh  is return\n",
      "['danial', 'mamad']\n",
      "mamad  is return\n",
      "['danial']\n",
      "danial  is return\n",
      "[]\n"
     ]
    }
   ],
   "source": [
    "while len(name)>0:\n",
    " print(name.pop(),\" is return\")\n",
    " print(name)"
   ]
  },
  {
   "cell_type": "markdown",
   "id": "b32c27f3",
   "metadata": {},
   "source": [
    "#### it could give an argoman"
   ]
  },
  {
   "cell_type": "code",
   "execution_count": 3,
   "id": "2daeb882",
   "metadata": {},
   "outputs": [
    {
     "name": "stdout",
     "output_type": "stream",
     "text": [
      "x\n"
     ]
    }
   ],
   "source": [
    "list_0 = [\"a\",\"x\",\"a\"]\n",
    "poop=list_0.pop(1)  #number of arrey not 'x',\n",
    "print(poop)"
   ]
  },
  {
   "cell_type": "markdown",
   "id": "cdf8a6dc",
   "metadata": {},
   "source": [
    "### delite whole list\n"
   ]
  },
  {
   "cell_type": "code",
   "execution_count": 76,
   "id": "b9dc0f2f",
   "metadata": {},
   "outputs": [
    {
     "name": "stdout",
     "output_type": "stream",
     "text": [
      "[]\n"
     ]
    }
   ],
   "source": [
    "print(name)\n",
    "del name"
   ]
  },
  {
   "cell_type": "code",
   "execution_count": 77,
   "id": "e7a37bdf",
   "metadata": {},
   "outputs": [
    {
     "ename": "NameError",
     "evalue": "name 'name' is not defined",
     "output_type": "error",
     "traceback": [
      "\u001b[1;31m---------------------------------------------------------------------------\u001b[0m",
      "\u001b[1;31mNameError\u001b[0m                                 Traceback (most recent call last)",
      "Input \u001b[1;32mIn [77]\u001b[0m, in \u001b[0;36m<cell line: 1>\u001b[1;34m()\u001b[0m\n\u001b[1;32m----> 1\u001b[0m \u001b[38;5;28mprint\u001b[39m(\u001b[43mname\u001b[49m)\n",
      "\u001b[1;31mNameError\u001b[0m: name 'name' is not defined"
     ]
    }
   ],
   "source": [
    "print(name)"
   ]
  },
  {
   "cell_type": "markdown",
   "id": "b74efad1",
   "metadata": {},
   "source": [
    "### sort,sorted, reverse"
   ]
  },
  {
   "cell_type": "code",
   "execution_count": 5,
   "id": "1e35906e",
   "metadata": {},
   "outputs": [
    {
     "data": {
      "text/plain": [
       "['kivi', 'pitch', 'appel']"
      ]
     },
     "execution_count": 5,
     "metadata": {},
     "output_type": "execute_result"
    }
   ],
   "source": [
    "frut = [\"appel\",\"pitch\",\"kivi\"]\n",
    "frut.reverse()\n",
    "frut"
   ]
  },
  {
   "cell_type": "code",
   "execution_count": 6,
   "id": "d140ca95",
   "metadata": {},
   "outputs": [
    {
     "data": {
      "text/plain": [
       "[1, 2, 2, 4, 8]"
      ]
     },
     "execution_count": 6,
     "metadata": {},
     "output_type": "execute_result"
    }
   ],
   "source": [
    "number = [2,4,8,2,1]\n",
    "number.sort()\n",
    "number"
   ]
  },
  {
   "cell_type": "code",
   "execution_count": 11,
   "id": "1d56997f",
   "metadata": {},
   "outputs": [
    {
     "data": {
      "text/plain": [
       "([1, 2, 2, 4, 8], [2, 4, 8, 2, 1])"
      ]
     },
     "execution_count": 11,
     "metadata": {},
     "output_type": "execute_result"
    }
   ],
   "source": [
    "number = [2,4,8,2,1]\n",
    "sor = sorted(number)\n",
    "p=(sor,number)\n",
    "p"
   ]
  },
  {
   "cell_type": "code",
   "execution_count": 1,
   "id": "eb18ca1d",
   "metadata": {},
   "outputs": [
    {
     "data": {
      "text/plain": [
       "8"
      ]
     },
     "execution_count": 1,
     "metadata": {},
     "output_type": "execute_result"
    }
   ],
   "source": [
    "a=\"fahimeh is the\"\n",
    "a.index(\"is\")"
   ]
  },
  {
   "cell_type": "code",
   "execution_count": null,
   "id": "697de1b8",
   "metadata": {},
   "outputs": [],
   "source": []
  },
  {
   "cell_type": "code",
   "execution_count": null,
   "id": "58c8ae33",
   "metadata": {},
   "outputs": [],
   "source": []
  },
  {
   "cell_type": "code",
   "execution_count": null,
   "id": "3ed80736",
   "metadata": {},
   "outputs": [],
   "source": []
  },
  {
   "cell_type": "code",
   "execution_count": null,
   "id": "8c224547",
   "metadata": {},
   "outputs": [],
   "source": []
  },
  {
   "cell_type": "code",
   "execution_count": null,
   "id": "da23e03d",
   "metadata": {},
   "outputs": [],
   "source": []
  }
 ],
 "metadata": {
  "kernelspec": {
   "display_name": "Python 3 (ipykernel)",
   "language": "python",
   "name": "python3"
  },
  "language_info": {
   "codemirror_mode": {
    "name": "ipython",
    "version": 3
   },
   "file_extension": ".py",
   "mimetype": "text/x-python",
   "name": "python",
   "nbconvert_exporter": "python",
   "pygments_lexer": "ipython3",
   "version": "3.9.12"
  }
 },
 "nbformat": 4,
 "nbformat_minor": 5
}
